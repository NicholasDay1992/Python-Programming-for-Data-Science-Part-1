{
 "cells": [
  {
   "cell_type": "markdown",
   "id": "a313129b",
   "metadata": {},
   "source": [
    "# Pandas data manipulation and transformation"
   ]
  },
  {
   "cell_type": "code",
   "execution_count": 7,
   "id": "17aa7cf8",
   "metadata": {},
   "outputs": [],
   "source": [
    "import numpy as np\n",
    "import pandas as pd\n",
    "import matplotlib.pyplot as plt"
   ]
  },
  {
   "cell_type": "code",
   "execution_count": 8,
   "id": "fa79f23f",
   "metadata": {},
   "outputs": [
    {
     "data": {
      "text/plain": [
       "(1000, 10)"
      ]
     },
     "execution_count": 8,
     "metadata": {},
     "output_type": "execute_result"
    }
   ],
   "source": [
    "imdb_movies = pd.read_csv(\"../datasets/imdb-movies.csv\")\n",
    "imdb_movies.set_index('Rank', inplace=True)\n",
    "imdb_movies.shape"
   ]
  },
  {
   "cell_type": "code",
   "execution_count": 9,
   "id": "424612bd",
   "metadata": {},
   "outputs": [
    {
     "name": "stdout",
     "output_type": "stream",
     "text": [
      "<class 'pandas.core.frame.DataFrame'>\n",
      "Int64Index: 1000 entries, 1 to 1000\n",
      "Data columns (total 10 columns):\n",
      " #   Column              Non-Null Count  Dtype  \n",
      "---  ------              --------------  -----  \n",
      " 0   Title               1000 non-null   object \n",
      " 1   Genre               1000 non-null   object \n",
      " 2   Director            1000 non-null   object \n",
      " 3   Year                1000 non-null   int64  \n",
      " 4   Runtime (Minutes)   1000 non-null   int64  \n",
      " 5   Rating              1000 non-null   float64\n",
      " 6   Votes               1000 non-null   int64  \n",
      " 7   Revenue (Millions)  872 non-null    float64\n",
      " 8   Metascore           936 non-null    float64\n",
      " 9   Actors              1000 non-null   object \n",
      "dtypes: float64(3), int64(3), object(4)\n",
      "memory usage: 85.9+ KB\n"
     ]
    }
   ],
   "source": [
    "imdb_movies.info()"
   ]
  },
  {
   "cell_type": "code",
   "execution_count": 10,
   "id": "6175e2e4",
   "metadata": {},
   "outputs": [
    {
     "data": {
      "text/html": [
       "<div>\n",
       "<style scoped>\n",
       "    .dataframe tbody tr th:only-of-type {\n",
       "        vertical-align: middle;\n",
       "    }\n",
       "\n",
       "    .dataframe tbody tr th {\n",
       "        vertical-align: top;\n",
       "    }\n",
       "\n",
       "    .dataframe thead th {\n",
       "        text-align: right;\n",
       "    }\n",
       "</style>\n",
       "<table border=\"1\" class=\"dataframe\">\n",
       "  <thead>\n",
       "    <tr style=\"text-align: right;\">\n",
       "      <th></th>\n",
       "      <th>Title</th>\n",
       "      <th>Genre</th>\n",
       "      <th>Director</th>\n",
       "      <th>Year</th>\n",
       "      <th>Runtime (Minutes)</th>\n",
       "      <th>Rating</th>\n",
       "      <th>Votes</th>\n",
       "      <th>Revenue (Millions)</th>\n",
       "      <th>Metascore</th>\n",
       "      <th>Actors</th>\n",
       "    </tr>\n",
       "    <tr>\n",
       "      <th>Rank</th>\n",
       "      <th></th>\n",
       "      <th></th>\n",
       "      <th></th>\n",
       "      <th></th>\n",
       "      <th></th>\n",
       "      <th></th>\n",
       "      <th></th>\n",
       "      <th></th>\n",
       "      <th></th>\n",
       "      <th></th>\n",
       "    </tr>\n",
       "  </thead>\n",
       "  <tbody>\n",
       "    <tr>\n",
       "      <th>534</th>\n",
       "      <td>Lucy</td>\n",
       "      <td>Action,Sci-Fi,Thriller</td>\n",
       "      <td>Luc Besson</td>\n",
       "      <td>2014</td>\n",
       "      <td>89</td>\n",
       "      <td>6.4</td>\n",
       "      <td>352698</td>\n",
       "      <td>126.55</td>\n",
       "      <td>61.0</td>\n",
       "      <td>Scarlett Johansson, Morgan Freeman, Min-sik Ch...</td>\n",
       "    </tr>\n",
       "    <tr>\n",
       "      <th>960</th>\n",
       "      <td>Lucky Number Slevin</td>\n",
       "      <td>Crime,Drama,Mystery</td>\n",
       "      <td>Paul McGuigan</td>\n",
       "      <td>2006</td>\n",
       "      <td>110</td>\n",
       "      <td>7.8</td>\n",
       "      <td>271940</td>\n",
       "      <td>22.49</td>\n",
       "      <td>53.0</td>\n",
       "      <td>Josh Hartnett, Ben Kingsley, Morgan Freeman, L...</td>\n",
       "    </tr>\n",
       "    <tr>\n",
       "      <th>331</th>\n",
       "      <td>Storks</td>\n",
       "      <td>Animation,Adventure,Comedy</td>\n",
       "      <td>Nicholas Stoller</td>\n",
       "      <td>2016</td>\n",
       "      <td>87</td>\n",
       "      <td>6.9</td>\n",
       "      <td>34248</td>\n",
       "      <td>72.66</td>\n",
       "      <td>56.0</td>\n",
       "      <td>Andy Samberg, Katie Crown,Kelsey Grammer, Jenn...</td>\n",
       "    </tr>\n",
       "    <tr>\n",
       "      <th>841</th>\n",
       "      <td>Horrible Bosses 2</td>\n",
       "      <td>Comedy,Crime</td>\n",
       "      <td>Sean Anders</td>\n",
       "      <td>2014</td>\n",
       "      <td>108</td>\n",
       "      <td>6.3</td>\n",
       "      <td>125190</td>\n",
       "      <td>54.41</td>\n",
       "      <td>40.0</td>\n",
       "      <td>Jason Bateman, Jason Sudeikis, Charlie Day, Je...</td>\n",
       "    </tr>\n",
       "    <tr>\n",
       "      <th>40</th>\n",
       "      <td>5- 25- 77</td>\n",
       "      <td>Comedy,Drama</td>\n",
       "      <td>Patrick Read Johnson</td>\n",
       "      <td>2007</td>\n",
       "      <td>113</td>\n",
       "      <td>7.1</td>\n",
       "      <td>241</td>\n",
       "      <td>NaN</td>\n",
       "      <td>NaN</td>\n",
       "      <td>John Francis Daley, Austin Pendleton, Colleen ...</td>\n",
       "    </tr>\n",
       "  </tbody>\n",
       "</table>\n",
       "</div>"
      ],
      "text/plain": [
       "                    Title                       Genre              Director  \\\n",
       "Rank                                                                          \n",
       "534                  Lucy      Action,Sci-Fi,Thriller            Luc Besson   \n",
       "960   Lucky Number Slevin         Crime,Drama,Mystery         Paul McGuigan   \n",
       "331                Storks  Animation,Adventure,Comedy      Nicholas Stoller   \n",
       "841     Horrible Bosses 2                Comedy,Crime           Sean Anders   \n",
       "40              5- 25- 77                Comedy,Drama  Patrick Read Johnson   \n",
       "\n",
       "      Year  Runtime (Minutes)  Rating   Votes  Revenue (Millions)  Metascore  \\\n",
       "Rank                                                                           \n",
       "534   2014                 89     6.4  352698              126.55       61.0   \n",
       "960   2006                110     7.8  271940               22.49       53.0   \n",
       "331   2016                 87     6.9   34248               72.66       56.0   \n",
       "841   2014                108     6.3  125190               54.41       40.0   \n",
       "40    2007                113     7.1     241                 NaN        NaN   \n",
       "\n",
       "                                                 Actors  \n",
       "Rank                                                     \n",
       "534   Scarlett Johansson, Morgan Freeman, Min-sik Ch...  \n",
       "960   Josh Hartnett, Ben Kingsley, Morgan Freeman, L...  \n",
       "331   Andy Samberg, Katie Crown,Kelsey Grammer, Jenn...  \n",
       "841   Jason Bateman, Jason Sudeikis, Charlie Day, Je...  \n",
       "40    John Francis Daley, Austin Pendleton, Colleen ...  "
      ]
     },
     "execution_count": 10,
     "metadata": {},
     "output_type": "execute_result"
    }
   ],
   "source": [
    "imdb_movies.sample(5)"
   ]
  },
  {
   "cell_type": "markdown",
   "id": "dbce2375",
   "metadata": {},
   "source": [
    "### Question 1: do movies longer than 2h45 (165 mins) get better scores than movies shorter than 100 mins?"
   ]
  },
  {
   "cell_type": "code",
   "execution_count": 17,
   "id": "c1fa133a",
   "metadata": {},
   "outputs": [
    {
     "name": "stdout",
     "output_type": "stream",
     "text": [
      "55.86784140969163\n",
      "67.22222222222223\n"
     ]
    }
   ],
   "source": [
    "short = imdb_movies[\"Runtime (Minutes)\"] < 100\n",
    "long = imdb_movies[\"Runtime (Minutes)\"] > 165\n",
    "print(imdb_movies[short][\"Metascore\"].mean())\n",
    "print(imdb_movies[long][\"Metascore\"].mean())"
   ]
  },
  {
   "cell_type": "code",
   "execution_count": 19,
   "id": "4db2f32f",
   "metadata": {},
   "outputs": [
    {
     "name": "stdout",
     "output_type": "stream",
     "text": [
      " Mean rating ov movies shorter 1h40 : 6.316304347826088\n",
      " Mean rating of movies longer 2h45 : 7.675\n"
     ]
    }
   ],
   "source": [
    "movies_longer = imdb_movies[imdb_movies['Runtime (Minutes)'] >= 165].sort_values(by=\"Rating\",ascending=False)\n",
    "movies_shorter = imdb_movies[imdb_movies['Runtime (Minutes)'] <= 100].sort_values(by=\"Rating\",ascending=False)\n",
    "\n",
    "print(f\" Mean rating of movies shorter 1h40 : {movies_shorter['Rating'].mean()}\")\n",
    "print(f\" Mean rating of movies longer 2h45 : {movies_longer['Rating'].mean()}\")"
   ]
  },
  {
   "cell_type": "code",
   "execution_count": 26,
   "id": "88e62fab",
   "metadata": {},
   "outputs": [
    {
     "data": {
      "image/png": "[encoded data removed]",
      "text/plain": [
       "<Figure size 640x480 with 1 Axes>"
      ]
     },
     "metadata": {},
     "output_type": "display_data"
    }
   ],
   "source": [
    "fig = plt.figure()\n",
    "ax = fig.add_axes([0.1,0.1,0.8,0.8])    \n",
    "\n",
    "labels = ['Short films (<100)', 'Long films (>165)']\n",
    "scores = [imdb_movies[short][\"Metascore\"].mean(), imdb_movies[long][\"Metascore\"].mean()]\n",
    "\n",
    "ax.set_xlabel('X label')\n",
    "ax.set_ylabel('Y label')\n",
    "ax.set_title('The title')\n",
    "\n",
    "ax.bar(labels,scores)\n",
    "\n",
    "plt.show()\n",
    "#plt.savefig('bar1.png', dpi=200)"
   ]
  },
  {
   "cell_type": "markdown",
   "id": "c1dddd4c",
   "metadata": {},
   "source": [
    "### Question 2: which is the director with highest revenue per minute of runtime?"
   ]
  },
  {
   "cell_type": "code",
   "execution_count": null,
   "id": "a88b6dd1",
   "metadata": {},
   "outputs": [],
   "source": []
  },
  {
   "cell_type": "markdown",
   "id": "aae97230",
   "metadata": {},
   "source": [
    "### Question 3: which is the most common movie genre in our dataset between 2007 and 2014?"
   ]
  },
  {
   "cell_type": "code",
   "execution_count": null,
   "id": "e2653552",
   "metadata": {},
   "outputs": [],
   "source": []
  },
  {
   "cell_type": "markdown",
   "id": "0d4f8a69",
   "metadata": {},
   "source": [
    "### Question 4: which is the actor who has appeared in more movies between 2009 and 2015?"
   ]
  },
  {
   "cell_type": "code",
   "execution_count": null,
   "id": "c42e8c0b",
   "metadata": {},
   "outputs": [],
   "source": []
  },
  {
   "cell_type": "code",
   "execution_count": null,
   "id": "ef2a965f",
   "metadata": {},
   "outputs": [],
   "source": []
  },
  {
   "cell_type": "code",
   "execution_count": null,
   "id": "8b4ce504",
   "metadata": {},
   "outputs": [],
   "source": []
  }
 ],
 "metadata": {
  "kernelspec": {
   "display_name": "Python 3 (ipykernel)",
   "language": "python",
   "name": "python3"
  },
  "language_info": {
   "codemirror_mode": {
    "name": "ipython",
    "version": 3
   },
   "file_extension": ".py",
   "mimetype": "text/x-python",
   "name": "python",
   "nbconvert_exporter": "python",
   "pygments_lexer": "ipython3",
   "version": "3.10.9"
  }
 },
 "nbformat": 4,
 "nbformat_minor": 5
}
