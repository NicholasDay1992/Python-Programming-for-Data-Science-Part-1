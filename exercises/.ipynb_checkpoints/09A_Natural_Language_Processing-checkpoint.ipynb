{
 "cells": [
  {
   "cell_type": "markdown",
   "id": "fc546052",
   "metadata": {},
   "source": [
    "# Natural Language Processing: an introduction\n",
    "\n",
    "### Import dependencies"
   ]
  },
  {
   "cell_type": "code",
   "execution_count": 1,
   "id": "defd65e9",
   "metadata": {},
   "outputs": [],
   "source": [
    "import numpy as np\n",
    "import pandas as pd\n",
    "import nltk\n",
    "from gensim import corpora\n",
    "\n",
    "%precision 4\n",
    "np.set_printoptions(precision=4)"
   ]
  },
  {
   "cell_type": "code",
   "execution_count": 2,
   "id": "c5c3c861",
   "metadata": {},
   "outputs": [
    {
     "data": {
      "text/html": [
       "<div>\n",
       "<style scoped>\n",
       "    .dataframe tbody tr th:only-of-type {\n",
       "        vertical-align: middle;\n",
       "    }\n",
       "\n",
       "    .dataframe tbody tr th {\n",
       "        vertical-align: top;\n",
       "    }\n",
       "\n",
       "    .dataframe thead th {\n",
       "        text-align: right;\n",
       "    }\n",
       "</style>\n",
       "<table border=\"1\" class=\"dataframe\">\n",
       "  <thead>\n",
       "    <tr style=\"text-align: right;\">\n",
       "      <th></th>\n",
       "      <th>Rank</th>\n",
       "      <th>Title</th>\n",
       "      <th>Genre</th>\n",
       "      <th>Description</th>\n",
       "      <th>Director</th>\n",
       "      <th>Actors</th>\n",
       "      <th>Year</th>\n",
       "      <th>Runtime (Minutes)</th>\n",
       "      <th>Rating</th>\n",
       "      <th>Votes</th>\n",
       "      <th>Revenue (Millions)</th>\n",
       "      <th>Metascore</th>\n",
       "    </tr>\n",
       "  </thead>\n",
       "  <tbody>\n",
       "    <tr>\n",
       "      <th>413</th>\n",
       "      <td>414</td>\n",
       "      <td>Elle</td>\n",
       "      <td>Crime,Drama,Thriller</td>\n",
       "      <td>A successful businesswoman gets caught up in a...</td>\n",
       "      <td>Paul Verhoeven</td>\n",
       "      <td>Isabelle Huppert, Laurent Lafitte, Anne Consig...</td>\n",
       "      <td>2016</td>\n",
       "      <td>130</td>\n",
       "      <td>7.2</td>\n",
       "      <td>35417</td>\n",
       "      <td>NaN</td>\n",
       "      <td>89.0</td>\n",
       "    </tr>\n",
       "    <tr>\n",
       "      <th>952</th>\n",
       "      <td>953</td>\n",
       "      <td>Sex and the City 2</td>\n",
       "      <td>Comedy,Drama,Romance</td>\n",
       "      <td>While wrestling with the pressures of life, lo...</td>\n",
       "      <td>Michael Patrick King</td>\n",
       "      <td>Sarah Jessica Parker, Kim Cattrall, Kristin Da...</td>\n",
       "      <td>2010</td>\n",
       "      <td>146</td>\n",
       "      <td>4.3</td>\n",
       "      <td>62403</td>\n",
       "      <td>95.33</td>\n",
       "      <td>27.0</td>\n",
       "    </tr>\n",
       "    <tr>\n",
       "      <th>405</th>\n",
       "      <td>406</td>\n",
       "      <td>The Invitation</td>\n",
       "      <td>Drama,Mystery,Thriller</td>\n",
       "      <td>While attending a dinner party at his former h...</td>\n",
       "      <td>Karyn Kusama</td>\n",
       "      <td>Logan Marshall-Green, Emayatzy Corinealdi, Mic...</td>\n",
       "      <td>2015</td>\n",
       "      <td>100</td>\n",
       "      <td>6.7</td>\n",
       "      <td>40529</td>\n",
       "      <td>0.23</td>\n",
       "      <td>74.0</td>\n",
       "    </tr>\n",
       "    <tr>\n",
       "      <th>322</th>\n",
       "      <td>323</td>\n",
       "      <td>RocknRolla</td>\n",
       "      <td>Action,Crime,Thriller</td>\n",
       "      <td>In London, a real-estate scam puts millions of...</td>\n",
       "      <td>Guy Ritchie</td>\n",
       "      <td>Gerard Butler, Tom Wilkinson, Idris Elba, Than...</td>\n",
       "      <td>2008</td>\n",
       "      <td>114</td>\n",
       "      <td>7.3</td>\n",
       "      <td>203096</td>\n",
       "      <td>5.69</td>\n",
       "      <td>53.0</td>\n",
       "    </tr>\n",
       "    <tr>\n",
       "      <th>3</th>\n",
       "      <td>4</td>\n",
       "      <td>Sing</td>\n",
       "      <td>Animation,Comedy,Family</td>\n",
       "      <td>In a city of humanoid animals, a hustling thea...</td>\n",
       "      <td>Christophe Lourdelet</td>\n",
       "      <td>Matthew McConaughey,Reese Witherspoon, Seth Ma...</td>\n",
       "      <td>2016</td>\n",
       "      <td>108</td>\n",
       "      <td>7.2</td>\n",
       "      <td>60545</td>\n",
       "      <td>270.32</td>\n",
       "      <td>59.0</td>\n",
       "    </tr>\n",
       "  </tbody>\n",
       "</table>\n",
       "</div>"
      ],
      "text/plain": [
       "     Rank               Title                    Genre  \\\n",
       "413   414                Elle     Crime,Drama,Thriller   \n",
       "952   953  Sex and the City 2     Comedy,Drama,Romance   \n",
       "405   406      The Invitation   Drama,Mystery,Thriller   \n",
       "322   323          RocknRolla    Action,Crime,Thriller   \n",
       "3       4                Sing  Animation,Comedy,Family   \n",
       "\n",
       "                                           Description              Director  \\\n",
       "413  A successful businesswoman gets caught up in a...        Paul Verhoeven   \n",
       "952  While wrestling with the pressures of life, lo...  Michael Patrick King   \n",
       "405  While attending a dinner party at his former h...          Karyn Kusama   \n",
       "322  In London, a real-estate scam puts millions of...           Guy Ritchie   \n",
       "3    In a city of humanoid animals, a hustling thea...  Christophe Lourdelet   \n",
       "\n",
       "                                                Actors  Year  \\\n",
       "413  Isabelle Huppert, Laurent Lafitte, Anne Consig...  2016   \n",
       "952  Sarah Jessica Parker, Kim Cattrall, Kristin Da...  2010   \n",
       "405  Logan Marshall-Green, Emayatzy Corinealdi, Mic...  2015   \n",
       "322  Gerard Butler, Tom Wilkinson, Idris Elba, Than...  2008   \n",
       "3    Matthew McConaughey,Reese Witherspoon, Seth Ma...  2016   \n",
       "\n",
       "     Runtime (Minutes)  Rating   Votes  Revenue (Millions)  Metascore  \n",
       "413                130     7.2   35417                 NaN       89.0  \n",
       "952                146     4.3   62403               95.33       27.0  \n",
       "405                100     6.7   40529                0.23       74.0  \n",
       "322                114     7.3  203096                5.69       53.0  \n",
       "3                  108     7.2   60545              270.32       59.0  "
      ]
     },
     "execution_count": 2,
     "metadata": {},
     "output_type": "execute_result"
    }
   ],
   "source": [
    "movies_df = pd.read_csv(\"../datasets/IMDB-Movie-Data.csv\")\n",
    "movies_df.sample(5)"
   ]
  },
  {
   "cell_type": "code",
   "execution_count": 3,
   "id": "12e97a68",
   "metadata": {},
   "outputs": [
    {
     "data": {
      "text/plain": [
       "['A group of intergalactic criminals are forced to work together to stop a fanatical warrior from taking control of the universe.',\n",
       " 'Following clues to the origin of mankind, a team finds a structure on a distant moon, but they soon realize they are not alone.',\n",
       " 'Three girls are kidnapped by a man with a diagnosed 23 distinct personalities. They must try to escape before the apparent emergence of a frightful new 24th.',\n",
       " \"In a city of humanoid animals, a hustling theater impresario's attempt to save his theater with a singing competition becomes grander than he anticipates even as its finalists' find that their lives will never be the same.\",\n",
       " 'A secret government agency recruits some of the most dangerous incarcerated super-villains to form a defensive task force. Their first mission: save the world from the apocalypse.']"
      ]
     },
     "execution_count": 3,
     "metadata": {},
     "output_type": "execute_result"
    }
   ],
   "source": [
    "movies_corpus = movies_df[\"Description\"].tolist()\n",
    "movies_corpus[:5]"
   ]
  },
  {
   "cell_type": "markdown",
   "id": "eaec59ad",
   "metadata": {},
   "source": [
    "### Tokenization"
   ]
  },
  {
   "cell_type": "code",
   "execution_count": 4,
   "id": "49adb109",
   "metadata": {},
   "outputs": [
    {
     "name": "stderr",
     "output_type": "stream",
     "text": [
      "[nltk_data] Downloading package punkt to /Users/nick/nltk_data...\n",
      "[nltk_data]   Unzipping tokenizers/punkt.zip.\n"
     ]
    },
    {
     "data": {
      "text/plain": [
       "True"
      ]
     },
     "execution_count": 4,
     "metadata": {},
     "output_type": "execute_result"
    }
   ],
   "source": [
    "from nltk import word_tokenize\n",
    "\n",
    "# download puntuation resources for NLTK\n",
    "nltk.download('punkt')"
   ]
  },
  {
   "cell_type": "code",
   "execution_count": 5,
   "id": "521f35eb",
   "metadata": {},
   "outputs": [
    {
     "data": {
      "text/plain": [
       "['A',\n",
       " 'group',\n",
       " 'of',\n",
       " 'intergalactic',\n",
       " 'criminals',\n",
       " 'are',\n",
       " 'forced',\n",
       " 'to',\n",
       " 'work',\n",
       " 'together',\n",
       " 'to',\n",
       " 'stop',\n",
       " 'a',\n",
       " 'fanatical',\n",
       " 'warrior',\n",
       " 'from',\n",
       " 'taking',\n",
       " 'control',\n",
       " 'of',\n",
       " 'the',\n",
       " 'universe',\n",
       " '.']"
      ]
     },
     "execution_count": 5,
     "metadata": {},
     "output_type": "execute_result"
    }
   ],
   "source": [
    "word_tokens = word_tokenize(movies_corpus[0])\n",
    "word_tokens"
   ]
  },
  {
   "cell_type": "code",
   "execution_count": 6,
   "id": "974a8030",
   "metadata": {},
   "outputs": [
    {
     "name": "stdout",
     "output_type": "stream",
     "text": [
      "[['Identical', 'twin', 'gangsters', 'Ronald', 'and', 'Reginald', 'Kray', 'terrorize', 'London', 'during', 'the', '1960s', '.'], ['The', 'powerful', 'but', 'arrogant', 'god', 'Thor', 'is', 'cast', 'out', 'of', 'Asgard', 'to', 'live', 'amongst', 'humans', 'in', 'Midgard', '(', 'Earth', ')', ',', 'where', 'he', 'soon', 'becomes', 'one', 'of', 'their', 'finest', 'defenders', '.'], ['An', 'astronaut', 'becomes', 'stranded', 'on', 'Mars', 'after', 'his', 'team', 'assume', 'him', 'dead', ',', 'and', 'must', 'rely', 'on', 'his', 'ingenuity', 'to', 'find', 'a', 'way', 'to', 'signal', 'to', 'Earth', 'that', 'he', 'is', 'alive', '.']]\n"
     ]
    }
   ],
   "source": [
    "tokenized_corpus = [word_tokenize(doc) for doc in movies_corpus]\n",
    "print(tokenized_corpus[100:103])"
   ]
  },
  {
   "cell_type": "markdown",
   "id": "f22e74e8",
   "metadata": {},
   "source": [
    "#### RegexpTokenizer\n",
    "\n",
    "A better tokenizer to remove also all the punctuation"
   ]
  },
  {
   "cell_type": "code",
   "execution_count": 7,
   "id": "82307142",
   "metadata": {},
   "outputs": [
    {
     "name": "stdout",
     "output_type": "stream",
     "text": [
      "['A', 'group', 'of', 'intergalactic', 'criminals', 'are', 'forced', 'to', 'work', 'together', 'to', 'stop', 'a', 'fanatical', 'warrior', 'from', 'taking', 'control', 'of', 'the', 'universe']\n"
     ]
    }
   ],
   "source": [
    "from string import punctuation\n",
    "\n",
    "tokens = [tok for tok in word_tokenize(movies_corpus[0]) if tok not in punctuation]\n",
    "print(tokens)"
   ]
  },
  {
   "cell_type": "code",
   "execution_count": 8,
   "id": "e4a6c697",
   "metadata": {},
   "outputs": [
    {
     "name": "stdout",
     "output_type": "stream",
     "text": [
      "['A', 'group', 'of', 'intergalactic', 'criminals', 'are', 'forced', 'to', 'work', 'together', 'to', 'stop', 'a', 'fanatical', 'warrior', 'from', 'taking', 'control', 'of', 'the', 'universe']\n"
     ]
    }
   ],
   "source": [
    "from nltk.tokenize import RegexpTokenizer\n",
    "\n",
    "tokenizer = RegexpTokenizer(r'\\w+')\n",
    "tokens = tokenizer.tokenize(movies_corpus[0])\n",
    "print(tokens)"
   ]
  },
  {
   "cell_type": "code",
   "execution_count": 9,
   "id": "7631b0ff",
   "metadata": {},
   "outputs": [
    {
     "name": "stdout",
     "output_type": "stream",
     "text": [
      "[['A', 'group', 'of', 'intergalactic', 'criminals', 'are', 'forced', 'to', 'work', 'together', 'to', 'stop', 'a', 'fanatical', 'warrior', 'from', 'taking', 'control', 'of', 'the', 'universe', '.'], ['Following', 'clues', 'to', 'the', 'origin', 'of', 'mankind', ',', 'a', 'team', 'finds', 'a', 'structure', 'on', 'a', 'distant', 'moon', ',', 'but', 'they', 'soon', 'realize', 'they', 'are', 'not', 'alone', '.'], ['Three', 'girls', 'are', 'kidnapped', 'by', 'a', 'man', 'with', 'a', 'diagnosed', '23', 'distinct', 'personalities', '.', 'They', 'must', 'try', 'to', 'escape', 'before', 'the', 'apparent', 'emergence', 'of', 'a', 'frightful', 'new', '24th', '.'], ['In', 'a', 'city', 'of', 'humanoid', 'animals', ',', 'a', 'hustling', 'theater', 'impresario', \"'s\", 'attempt', 'to', 'save', 'his', 'theater', 'with', 'a', 'singing', 'competition', 'becomes', 'grander', 'than', 'he', 'anticipates', 'even', 'as', 'its', 'finalists', \"'\", 'find', 'that', 'their', 'lives', 'will', 'never', 'be', 'the', 'same', '.'], ['A', 'secret', 'government', 'agency', 'recruits', 'some', 'of', 'the', 'most', 'dangerous', 'incarcerated', 'super-villains', 'to', 'form', 'a', 'defensive', 'task', 'force', '.', 'Their', 'first', 'mission', ':', 'save', 'the', 'world', 'from', 'the', 'apocalypse', '.']]\n"
     ]
    }
   ],
   "source": [
    "tokenized_corpus = list(map(word_tokenize, movies_corpus))\n",
    "print(tokenized_corpus[:5])"
   ]
  },
  {
   "cell_type": "markdown",
   "id": "b55cd82a",
   "metadata": {},
   "source": [
    "### Stopwords removal"
   ]
  },
  {
   "cell_type": "code",
   "execution_count": 10,
   "id": "1066ea33",
   "metadata": {},
   "outputs": [],
   "source": [
    "from nltk.corpus import stopwords"
   ]
  },
  {
   "cell_type": "code",
   "execution_count": 11,
   "id": "75f7745d",
   "metadata": {},
   "outputs": [
    {
     "name": "stderr",
     "output_type": "stream",
     "text": [
      "[nltk_data] Downloading package stopwords to /Users/nick/nltk_data...\n",
      "[nltk_data]   Unzipping corpora/stopwords.zip.\n"
     ]
    },
    {
     "data": {
      "text/plain": [
       "True"
      ]
     },
     "execution_count": 11,
     "metadata": {},
     "output_type": "execute_result"
    }
   ],
   "source": [
    "nltk.download('stopwords')"
   ]
  },
  {
   "cell_type": "code",
   "execution_count": 12,
   "id": "abef854b",
   "metadata": {},
   "outputs": [
    {
     "data": {
      "text/plain": [
       "['i',\n",
       " 'me',\n",
       " 'my',\n",
       " 'myself',\n",
       " 'we',\n",
       " 'our',\n",
       " 'ours',\n",
       " 'ourselves',\n",
       " 'you',\n",
       " \"you're\",\n",
       " \"you've\",\n",
       " \"you'll\",\n",
       " \"you'd\",\n",
       " 'your',\n",
       " 'yours',\n",
       " 'yourself',\n",
       " 'yourselves',\n",
       " 'he',\n",
       " 'him',\n",
       " 'his',\n",
       " 'himself',\n",
       " 'she',\n",
       " \"she's\",\n",
       " 'her',\n",
       " 'hers',\n",
       " 'herself',\n",
       " 'it',\n",
       " \"it's\",\n",
       " 'its',\n",
       " 'itself',\n",
       " 'they',\n",
       " 'them',\n",
       " 'their',\n",
       " 'theirs',\n",
       " 'themselves',\n",
       " 'what',\n",
       " 'which',\n",
       " 'who',\n",
       " 'whom',\n",
       " 'this',\n",
       " 'that',\n",
       " \"that'll\",\n",
       " 'these',\n",
       " 'those',\n",
       " 'am',\n",
       " 'is',\n",
       " 'are',\n",
       " 'was',\n",
       " 'were',\n",
       " 'be',\n",
       " 'been',\n",
       " 'being',\n",
       " 'have',\n",
       " 'has',\n",
       " 'had',\n",
       " 'having',\n",
       " 'do',\n",
       " 'does',\n",
       " 'did',\n",
       " 'doing',\n",
       " 'a',\n",
       " 'an',\n",
       " 'the',\n",
       " 'and',\n",
       " 'but',\n",
       " 'if',\n",
       " 'or',\n",
       " 'because',\n",
       " 'as',\n",
       " 'until',\n",
       " 'while',\n",
       " 'of',\n",
       " 'at',\n",
       " 'by',\n",
       " 'for',\n",
       " 'with',\n",
       " 'about',\n",
       " 'against',\n",
       " 'between',\n",
       " 'into',\n",
       " 'through',\n",
       " 'during',\n",
       " 'before',\n",
       " 'after',\n",
       " 'above',\n",
       " 'below',\n",
       " 'to',\n",
       " 'from',\n",
       " 'up',\n",
       " 'down',\n",
       " 'in',\n",
       " 'out',\n",
       " 'on',\n",
       " 'off',\n",
       " 'over',\n",
       " 'under',\n",
       " 'again',\n",
       " 'further',\n",
       " 'then',\n",
       " 'once',\n",
       " 'here',\n",
       " 'there',\n",
       " 'when',\n",
       " 'where',\n",
       " 'why',\n",
       " 'how',\n",
       " 'all',\n",
       " 'any',\n",
       " 'both',\n",
       " 'each',\n",
       " 'few',\n",
       " 'more',\n",
       " 'most',\n",
       " 'other',\n",
       " 'some',\n",
       " 'such',\n",
       " 'no',\n",
       " 'nor',\n",
       " 'not',\n",
       " 'only',\n",
       " 'own',\n",
       " 'same',\n",
       " 'so',\n",
       " 'than',\n",
       " 'too',\n",
       " 'very',\n",
       " 's',\n",
       " 't',\n",
       " 'can',\n",
       " 'will',\n",
       " 'just',\n",
       " 'don',\n",
       " \"don't\",\n",
       " 'should',\n",
       " \"should've\",\n",
       " 'now',\n",
       " 'd',\n",
       " 'll',\n",
       " 'm',\n",
       " 'o',\n",
       " 're',\n",
       " 've',\n",
       " 'y',\n",
       " 'ain',\n",
       " 'aren',\n",
       " \"aren't\",\n",
       " 'couldn',\n",
       " \"couldn't\",\n",
       " 'didn',\n",
       " \"didn't\",\n",
       " 'doesn',\n",
       " \"doesn't\",\n",
       " 'hadn',\n",
       " \"hadn't\",\n",
       " 'hasn',\n",
       " \"hasn't\",\n",
       " 'haven',\n",
       " \"haven't\",\n",
       " 'isn',\n",
       " \"isn't\",\n",
       " 'ma',\n",
       " 'mightn',\n",
       " \"mightn't\",\n",
       " 'mustn',\n",
       " \"mustn't\",\n",
       " 'needn',\n",
       " \"needn't\",\n",
       " 'shan',\n",
       " \"shan't\",\n",
       " 'shouldn',\n",
       " \"shouldn't\",\n",
       " 'wasn',\n",
       " \"wasn't\",\n",
       " 'weren',\n",
       " \"weren't\",\n",
       " 'won',\n",
       " \"won't\",\n",
       " 'wouldn',\n",
       " \"wouldn't\"]"
      ]
     },
     "execution_count": 12,
     "metadata": {},
     "output_type": "execute_result"
    }
   ],
   "source": [
    "stopwords.words('english')"
   ]
  },
  {
   "cell_type": "markdown",
   "id": "0b6bfae7",
   "metadata": {},
   "source": [
    "You can already see that there is something potentially dangerous happening here. \"Will\" is a stopwords but as a token\n",
    "it can mean many things. In a sentence such as \"My will is strong.\", \"will\" is not an auxiliary and shoud not be considered a stopword.\n",
    "\n",
    "We'll ignore this for now."
   ]
  },
  {
   "cell_type": "code",
   "execution_count": 13,
   "id": "1554ef7f",
   "metadata": {},
   "outputs": [
    {
     "data": {
      "text/plain": [
       "['group',\n",
       " 'intergalactic',\n",
       " 'criminals',\n",
       " 'forced',\n",
       " 'work',\n",
       " 'together',\n",
       " 'stop',\n",
       " 'fanatical',\n",
       " 'warrior',\n",
       " 'taking',\n",
       " 'control',\n",
       " 'universe',\n",
       " '.']"
      ]
     },
     "execution_count": 13,
     "metadata": {},
     "output_type": "execute_result"
    }
   ],
   "source": [
    "stop_words = set(stopwords.words('english'))\n",
    " \n",
    "word_tokens = word_tokenize(movies_corpus[0])\n",
    " \n",
    "filtered_sentence = [tok for tok in word_tokens if not tok.lower() in stop_words]\n",
    "filtered_sentence"
   ]
  },
  {
   "cell_type": "code",
   "execution_count": 14,
   "id": "7b8be2b0",
   "metadata": {
    "scrolled": true
   },
   "outputs": [
    {
     "data": {
      "text/plain": [
       "['group',\n",
       " 'intergalactic',\n",
       " 'criminals',\n",
       " 'forced',\n",
       " 'work',\n",
       " 'together',\n",
       " 'stop',\n",
       " 'fanatical',\n",
       " 'warrior',\n",
       " 'taking',\n",
       " 'control',\n",
       " 'universe',\n",
       " '.']"
      ]
     },
     "execution_count": 14,
     "metadata": {},
     "output_type": "execute_result"
    }
   ],
   "source": [
    "from typing import List\n",
    "\n",
    "def remove_stopwords(doc_tokens: List[str]) -> List[str]:\n",
    "    return [tok for tok in doc_tokens if not tok.lower() in stop_words]\n",
    "\n",
    "remove_stopwords(word_tokenize(movies_corpus[0]))"
   ]
  },
  {
   "cell_type": "code",
   "execution_count": 15,
   "id": "92a06a5b",
   "metadata": {},
   "outputs": [
    {
     "name": "stdout",
     "output_type": "stream",
     "text": [
      "[['Identical', 'twin', 'gangsters', 'Ronald', 'Reginald', 'Kray', 'terrorize', 'London', '1960s', '.'], ['powerful', 'arrogant', 'god', 'Thor', 'cast', 'Asgard', 'live', 'amongst', 'humans', 'Midgard', '(', 'Earth', ')', ',', 'soon', 'becomes', 'one', 'finest', 'defenders', '.'], ['astronaut', 'becomes', 'stranded', 'Mars', 'team', 'assume', 'dead', ',', 'must', 'rely', 'ingenuity', 'find', 'way', 'signal', 'Earth', 'alive', '.']]\n"
     ]
    }
   ],
   "source": [
    "filtered_tokenized_corpus = [remove_stopwords(tokens) for tokens in tokenized_corpus]\n",
    "print(filtered_tokenized_corpus[100:103])"
   ]
  },
  {
   "cell_type": "markdown",
   "id": "be017978",
   "metadata": {},
   "source": [
    "### Lemmatization with Part-Of-Speech Tagging"
   ]
  },
  {
   "cell_type": "code",
   "execution_count": 19,
   "id": "31c9fa5c",
   "metadata": {},
   "outputs": [
    {
     "name": "stderr",
     "output_type": "stream",
     "text": [
      "[nltk_data] Downloading package averaged_perceptron_tagger to\n",
      "[nltk_data]     /Users/nick/nltk_data...\n",
      "[nltk_data]   Package averaged_perceptron_tagger is already up-to-\n",
      "[nltk_data]       date!\n",
      "[nltk_data] Downloading package wordnet to /Users/nick/nltk_data...\n",
      "[nltk_data]   Package wordnet is already up-to-date!\n",
      "[nltk_data] Downloading package omw-1.4 to /Users/nick/nltk_data...\n"
     ]
    },
    {
     "data": {
      "text/plain": [
       "True"
      ]
     },
     "execution_count": 19,
     "metadata": {},
     "output_type": "execute_result"
    }
   ],
   "source": [
    "from nltk.corpus import wordnet\n",
    "from nltk.stem import WordNetLemmatizer\n",
    "from nltk import pos_tag\n",
    "\n",
    "# POS tagging\n",
    "nltk.download('averaged_perceptron_tagger')\n",
    "# Wordnet\n",
    "nltk.download('wordnet')\n",
    "nltk.download('omw-1.4')"
   ]
  },
  {
   "cell_type": "markdown",
   "id": "305e3e73",
   "metadata": {},
   "source": [
    "### Part-of-speech Tagging\n",
    "\n",
    "Part of Speech tagging means labelling words in a sentence as nouns, adjectives, verbs...etc. NLTK can also label by tense, count, and more. Here's a list of the tags, what they mean, and some examples:\n",
    "\n",
    "```\n",
    "POS tag list:\n",
    "\n",
    "CC\tcoordinating conjunction\n",
    "CD\tcardinal digit\n",
    "DT\tdeterminer\n",
    "EX\texistential there (like: \"there is\" ... think of it like \"there exists\")\n",
    "FW\tforeign word\n",
    "IN\tpreposition/subordinating conjunction\n",
    "JJ\tadjective\t'big'\n",
    "JJR\tadjective, comparative\t'bigger'\n",
    "JJS\tadjective, superlative\t'biggest'\n",
    "LS\tlist marker\t1)\n",
    "MD\tmodal\tcould, will\n",
    "NN\tnoun, singular 'desk'\n",
    "NNS\tnoun plural\t'desks'\n",
    "NNP\tproper noun, singular\t'Harrison'\n",
    "NNPS\tproper noun, plural\t'Americans'\n",
    "PDT\tpredeterminer\t'all the kids'\n",
    "POS\tpossessive ending\tparent\\'s\n",
    "PRP\tpersonal pronoun\tI, he, she\n",
    "PRP$\tpossessive pronoun\tmy, his, hers\n",
    "RB\tadverb\tvery, silently,\n",
    "RBR\tadverb, comparative\tbetter\n",
    "RBS\tadverb, superlative\tbest\n",
    "RP\tparticle\tgive up\n",
    "TO\tto\tgo 'to' the store.\n",
    "UH\tinterjection\terrrrrrrrm\n",
    "VB\tverb, base form\ttake\n",
    "VBD\tverb, past tense\ttook\n",
    "VBG\tverb, gerund/present participle\ttaking\n",
    "VBN\tverb, past participle\ttaken\n",
    "VBP\tverb, sing. present, non-3d\ttake\n",
    "VBZ\tverb, 3rd person sing. present\ttakes\n",
    "WDT\twh-determiner\twhich\n",
    "WP\twh-pronoun\twho, what\n",
    "WP$\tpossessive wh-pronoun\twhose\n",
    "WRB\twh-abverb\twhere, when\n",
    "```"
   ]
  },
  {
   "cell_type": "code",
   "execution_count": 17,
   "id": "bf4b6bbf",
   "metadata": {},
   "outputs": [
    {
     "name": "stdout",
     "output_type": "stream",
     "text": [
      "[('group', 'NN'), ('intergalactic', 'JJ'), ('criminals', 'NNS'), ('forced', 'VBD'), ('work', 'NN'), ('together', 'RB'), ('stop', 'JJ'), ('fanatical', 'JJ'), ('warrior', 'NN'), ('taking', 'VBG'), ('control', 'NN'), ('universe', 'NN'), ('.', '.')]\n"
     ]
    }
   ],
   "source": [
    "# Part-of-speech tagging\n",
    "sentence_pos = pos_tag(filtered_tokenized_corpus[0])\n",
    "print(sentence_pos)"
   ]
  },
  {
   "cell_type": "markdown",
   "id": "72991e72",
   "metadata": {},
   "source": [
    "### Lemmatization\n",
    "\n",
    "Lemmatization is the process of grouping together the different inflected forms of a word so they can be analyzed as a single item. Lemmatization is similar to stemming but it brings context to the words. So it links words with similar meanings to one word.\n",
    "\n",
    "The `WordNetLemmatizer` relies on the WordNet lexical database of English: https://wordnet.princeton.edu/ \n",
    "\n",
    "One major difference with stemming is that lemmatize takes a part of speech parameter, “pos” If not supplied, the default is “noun.”\n",
    "\n",
    "In the context of the NLTK Lemmatization, the part of speech tags are pre-defined with shortcuts for the NLTK `WordNetLemmatizer` as below.\n",
    "\n",
    "```\n",
    "ADJ = \"a\"\n",
    "ADJ_SAT = \"s\"\n",
    "ADV = \"r\" \n",
    "NOUN = \"n\" \n",
    "VERB = \"v\"\n",
    "```\n",
    "\n"
   ]
  },
  {
   "cell_type": "code",
   "execution_count": 20,
   "id": "995ea25c",
   "metadata": {},
   "outputs": [
    {
     "name": "stderr",
     "output_type": "stream",
     "text": [
      "[nltk_data] Downloading package omw-1.4 to /Users/nick/nltk_data...\n",
      "[nltk_data]   Package omw-1.4 is already up-to-date!\n"
     ]
    },
    {
     "name": "stdout",
     "output_type": "stream",
     "text": [
      "['group', 'intergalactic', 'criminal', 'force', 'work', 'together', 'stop', 'fanatical', 'warrior', 'take', 'control', 'universe', '.']\n"
     ]
    }
   ],
   "source": [
    "# Lemmatization\n",
    "lemmatizer = WordNetLemmatizer()\n",
    "lemmatized_doc = []\n",
    "\n",
    "nltk.download('omw-1.4')\n",
    "\n",
    "def get_lemmatizer_pos(nltk_tag: str):\n",
    "        if nltk_tag.startswith('J'):\n",
    "            return wordnet.ADJ\n",
    "        elif nltk_tag.startswith('V'):\n",
    "            return wordnet.VERB\n",
    "        elif nltk_tag.startswith('N'):\n",
    "            return wordnet.NOUN\n",
    "        elif nltk_tag.startswith('R'):\n",
    "            return wordnet.ADV\n",
    "        else:          \n",
    "            return wordnet.NOUN\n",
    "\n",
    "for token, tag in sentence_pos:\n",
    "    # get the part-of-speech\n",
    "        pos = get_lemmatizer_pos(tag)\n",
    "\n",
    "        lemmatized_doc.append(lemmatizer.lemmatize(token, pos))\n",
    "print(lemmatized_doc)"
   ]
  },
  {
   "cell_type": "markdown",
   "id": "545eb09a",
   "metadata": {},
   "source": [
    "### Putting all together"
   ]
  },
  {
   "cell_type": "code",
   "execution_count": 21,
   "id": "4736a3ba",
   "metadata": {},
   "outputs": [],
   "source": [
    "class DocumentPreProcessor:\n",
    "    \n",
    "    def __init__(self):\n",
    "        self._tokenizer = RegexpTokenizer(r'\\w+')\n",
    "        self._lemmatizer = WordNetLemmatizer()\n",
    "    \n",
    "    @staticmethod\n",
    "    def _remove_stopwords(doc_tokens: List[str]) -> List[str]:\n",
    "        return [tok for tok in doc_tokens if not tok.lower() in stop_words]\n",
    "\n",
    "    @staticmethod\n",
    "    def _get_lemmatizer_pos(nltk_tag: str):\n",
    "        if nltk_tag.startswith('J'):\n",
    "            return wordnet.ADJ\n",
    "        if nltk_tag.startswith('V'):\n",
    "            return wordnet.VERB\n",
    "        if nltk_tag.startswith('N'):\n",
    "            return wordnet.NOUN\n",
    "        if nltk_tag.startswith('R'):\n",
    "            return wordnet.ADV          \n",
    "        return wordnet.NOUN\n",
    "    \n",
    "    def preprocess(self, doc: str) -> List[str]:\n",
    "        # tokenize\n",
    "        tokenized_doc: List[str] = self._tokenizer.tokenize(doc)# remove stop words (optional)\n",
    "        # unstopped_doc: str = self._remove_stopwords(doc)\n",
    "        # print(unstopped_doc)\n",
    "        # remove stop words (optional)\n",
    "        filtered_tokens: str = self._remove_stopwords(tokenized_doc)\n",
    "        # print(filtered_tokens)\n",
    "        lemmatized_doc: List[str] = []\n",
    "        for token, tag in pos_tag(filtered_tokens):\n",
    "            pos = self._get_lemmatizer_pos(tag)\n",
    "            \n",
    "            # lemmatize based on POS\n",
    "            lemmatized_doc.append(self._lemmatizer.lemmatize(token, pos))\n",
    "            \n",
    "        return lemmatized_doc"
   ]
  },
  {
   "cell_type": "code",
   "execution_count": 22,
   "id": "6a5c45d1",
   "metadata": {},
   "outputs": [],
   "source": [
    "pre_processor = DocumentPreProcessor()"
   ]
  },
  {
   "cell_type": "code",
   "execution_count": 23,
   "id": "058e1366",
   "metadata": {},
   "outputs": [
    {
     "data": {
      "text/plain": [
       "['group',\n",
       " 'intergalactic',\n",
       " 'criminal',\n",
       " 'force',\n",
       " 'work',\n",
       " 'together',\n",
       " 'stop',\n",
       " 'fanatical',\n",
       " 'warrior',\n",
       " 'take',\n",
       " 'control',\n",
       " 'universe']"
      ]
     },
     "execution_count": 23,
     "metadata": {},
     "output_type": "execute_result"
    }
   ],
   "source": [
    "pre_processor.preprocess(movies_corpus[0])"
   ]
  },
  {
   "cell_type": "code",
   "execution_count": 24,
   "id": "bb9e43a0",
   "metadata": {},
   "outputs": [],
   "source": [
    "pre_processed_corpus = list(map(pre_processor.preprocess, movies_corpus))"
   ]
  },
  {
   "cell_type": "markdown",
   "id": "ee4539b0",
   "metadata": {},
   "source": [
    "### Bag-of-words\n",
    "\n",
    "Now we need to create a corpora Dictionary"
   ]
  },
  {
   "cell_type": "code",
   "execution_count": 25,
   "id": "525b66b0",
   "metadata": {},
   "outputs": [],
   "source": [
    "# fit the dictionary on your corpus\n",
    "dictionary = corpora.Dictionary(pre_processed_corpus)"
   ]
  },
  {
   "cell_type": "code",
   "execution_count": 26,
   "id": "3cca74b5",
   "metadata": {},
   "outputs": [],
   "source": [
    "movies_corpus_bow = [dictionary.doc2bow(doc_tokens) for doc_tokens in pre_processed_corpus]"
   ]
  },
  {
   "cell_type": "code",
   "execution_count": 27,
   "id": "6b0c76b4",
   "metadata": {},
   "outputs": [
    {
     "name": "stdout",
     "output_type": "stream",
     "text": [
      "[(0, 1), (1, 1), (2, 1), (3, 1), (4, 1), (5, 1), (6, 1), (7, 1), (8, 1), (9, 1), (10, 1), (11, 1)]\n"
     ]
    }
   ],
   "source": [
    "print(movies_corpus_bow[0])"
   ]
  },
  {
   "cell_type": "code",
   "execution_count": 28,
   "id": "a8f57c3f",
   "metadata": {},
   "outputs": [
    {
     "name": "stdout",
     "output_type": "stream",
     "text": [
      "[('control', 1), ('criminal', 1), ('fanatical', 1), ('force', 1), ('group', 1), ('intergalactic', 1), ('stop', 1), ('take', 1), ('together', 1), ('universe', 1), ('warrior', 1), ('work', 1)]\n"
     ]
    }
   ],
   "source": [
    "print([(dictionary[idx], bow_count) for idx, bow_count in movies_corpus_bow[0]])"
   ]
  },
  {
   "cell_type": "code",
   "execution_count": 29,
   "id": "b8208fbc",
   "metadata": {},
   "outputs": [
    {
     "name": "stdout",
     "output_type": "stream",
     "text": [
      "{'control': 0, 'criminal': 1, 'fanatical': 2, 'force': 3, 'group': 4, 'intergalactic': 5, 'stop': 6, 'take': 7, 'together': 8, 'universe': 9, 'warrior': 10, 'work': 11, 'Following': 12, 'alone': 13, 'clue': 14, 'distant': 15, 'find': 16, 'mankind': 17, 'moon': 18, 'origin': 19, 'realize': 20, 'soon': 21, 'structure': 22, 'team': 23, '23': 24, '24th': 25, 'Three': 26, 'apparent': 27, 'diagnose': 28, 'distinct': 29, 'emergence': 30, 'escape': 31, 'frightful': 32, 'girl': 33, 'kidnap': 34, 'man': 35, 'must': 36, 'new': 37, 'personality': 38, 'try': 39, 'animal': 40, 'anticipates': 41, 'attempt': 42, 'become': 43, 'city': 44, 'competition': 45, 'even': 46, 'finalist': 47, 'grander': 48, 'humanoid': 49, 'hustle': 50, 'impresario': 51, 'live': 52, 'never': 53, 'save': 54, 'sing': 55, 'theater': 56, 'agency': 57, 'apocalypse': 58, 'dangerous': 59, 'defensive': 60, 'first': 61, 'form': 62, 'government': 63, 'incarcerate': 64, 'mission': 65, 'recruit': 66, 'secret': 67, 'super': 68, 'task': 69, 'villain': 70, 'world': 71, 'China': 72, 'European': 73, 'Great': 74, 'Wall': 75, 'black': 76, 'creature': 77, 'defense': 78, 'embroil': 79, 'horde': 80, 'mercenary': 81, 'monstrous': 82, 'powder': 83, 'search': 84, 'Angeles': 85, 'Los': 86, 'actress': 87, 'aspire': 88, 'fall': 89, 'jazz': 90, 'pianist': 91, '1980s': 92, 'Detective': 93, 'Mindhorn': 94, 'actor': 95, 'believe': 96, 'best': 97, 'character': 98, 'detective': 99, 'killer': 100, 'know': 101, 'person': 102, 'play': 103, 'police': 104, 'real': 105, 'say': 106, 'serial': 107, 'series': 108, 'speak': 109, 'title': 110, '1920s': 111, 'Amazon': 112, 'British': 113, 'Col': 114, 'Fawcett': 115, 'Percival': 116, 'center': 117, 'disappear': 118, 'drama': 119, 'explorer': 120, 'life': 121, 'mysterious': 122, 'true': 123, '90': 124, 'awaken': 125, 'chamber': 126, 'colony': 127, 'early': 128, 'malfunction': 129, 'passenger': 130, 'people': 131, 'planet': 132, 'result': 133, 'sleep': 134, 'spacecraft': 135, 'thousand': 136, 'transport': 137, 'travel': 138, 'two': 139, 'year': 140, 'Harry': 141, 'New': 142, 'Newt': 143, 'Potter': 144, 'Scamander': 145, 'York': 146, 'adventure': 147, 'book': 148, 'community': 149, 'read': 150, 'school': 151, 'seventy': 152, 'witch': 153, 'wizard': 154, 'writer': 155, 'African': 156, 'American': 157, 'NASA': 158, 'U': 159, 'female': 160, 'mathematician': 161, 'program': 162, 'role': 163, 'serve': 164, 'space': 165, 'story': 166, 'vital': 167, 'Alliance': 168, 'Death': 169, 'Rebel': 170, 'Star': 171, 'epic': 172, 'follow': 173, 'make': 174, 'move': 175, 'plan': 176, 'risky': 177, 'saga': 178, 'set': 179, 'steal': 180, 'Ancient': 181, 'Chieftain': 182, 'Demigod': 183, 'Maui': 184, 'Ocean': 185, 'Polynesia': 186, 'answer': 187, 'call': 188, 'curse': 189, 'daughter': 190, 'impetuous': 191, 'incur': 192, 'island': 193, 'reach': 194, 'right': 195, 'seek': 196, 'terrible': 197, 'thing': 198, 'City': 199, 'Gloria': 200, 'Seoul': 201, 'back': 202, 'come': 203, 'connect': 204, 'destroy': 205, 'giant': 206, 'gradually': 207, 'home': 208, 'leave': 209, 'party': 210, 'phenomenon': 211, 'realization': 212, 'report': 213, 'somehow': 214, 'surface': 215, 'Duke': 216, 'Max': 217, 'dislike': 218, 'instantly': 219, 'name': 220, 'owner': 221, 'quiet': 222, 'stray': 223, 'terrier': 224, 'upend': 225, 'Army': 226, 'Battle': 227, 'Desmond': 228, 'Doss': 229, 'Honor': 230, 'Medal': 231, 'Medic': 232, 'Okinawa': 233, 'WWII': 234, 'becomes': 235, 'fire': 236, 'history': 237, 'kill': 238, 'receive': 239, 'refuse': 240, 'shot': 241, 'without': 242, 'CIA': 243, 'drawn': 244, 'explosive': 245, 'former': 246, 'hide': 247, 'operative': 248, 'past': 249, 'truth': 250, 'uncover': 251, '25': 252, 'Australia': 253, 'Calcutta': 254, 'Indian': 255, 'adopt': 256, 'boy': 257, 'challenge': 258, 'couple': 259, 'family': 260, 'five': 261, 'get': 262, 'kilometer': 263, 'later': 264, 'lose': 265, 'many': 266, 'old': 267, 'street': 268, 'survives': 269, 'Banks': 270, 'Louise': 271, 'alien': 272, 'appear': 273, 'around': 274, 'interpreting': 275, 'language': 276, 'linguistics': 277, 'professor': 278, 'twelve': 279, 'visitor': 280, 'Indonesia': 281, 'Kenny': 282, 'Wells': 283, 'break': 284, 'desperate': 285, 'eager': 286, 'geologist': 287, 'gold': 288, 'journey': 289, 'jungle': 290, 'lucky': 291, 'prospector': 292, 'similarly': 293, 'uncharted': 294, 'ask': 295, 'care': 296, 'depressed': 297, 'dy': 298, 'father': 299, 'nephew': 300, 'teenage': 301, 'uncle': 302, '17': 303, 'abducted': 304, 'blood': 305, 'chained': 306, 'cold': 307, 'cruise': 308, 'guest': 309, 'high': 310, 'next': 311, 'predatory': 312, 'room': 313, 'sedate': 314, 'stranger': 315, 'stumble': 316, 'upon': 317, 'victim': 318, 'Bergens': 319, 'Branch': 320, 'Poppy': 321, 'Troll': 322, 'Village': 323, 'bear': 324, 'curmudgeonly': 325, 'ever': 326, 'friend': 327, 'happy': 328, 'invade': 329, 'rescue': 330, 'Day': 331, 'Earth': 332, 'Independence': 333, 'Solar': 334, 'Two': 335, 'decade': 336, 'enough': 337, 'extra': 338, 'face': 339, 'invasion': 340, 'threat': 341, 'Aunt': 342, 'Catastrophes': 343, 'Dom': 344, 'Fiona': 345, 'Martha': 346, 'Paris': 347, 'afraid': 348, 'assist': 349, 'emotion': 350, 'ensue': 351, 'express': 352, 'homeless': 353, 'involve': 354, 'mainly': 355, 'myopic': 356, 'thought': 357, 'time': 358, 'visit': 359, 'yet': 360, 'India': 361, 'adventurous': 362, 'ancient': 363, 'dare': 364, 'feud': 365, 'war': 366, 'evil': 367, 'paralysis': 368, 'stalk': 369, 'woman': 370, 'young': 371, 'appreciate': 372, 'beyond': 373, 'comedic': 374, 'conventional': 375, 'ditch': 376, 'freedom': 377, 'fun': 378, 'indulgence': 379, 'jolt': 380, 'limit': 381, 'long': 382, 'mom': 383, 'overdue': 384, 'overwork': 385, 'push': 386, 'responsibility': 387, 'self': 388, 'three': 389, 'Aguilar': 390, 'Assassin': 391, 'Assassins': 392, 'Callum': 393, 'Lynch': 394, 'Master': 395, 'ancestor': 396, 'descendant': 397, 'discover': 398, 'explore': 399, 'gain': 400, 'memory': 401, 'skill': 402, 'society': 403, 'Fleming': 404, 'Ned': 405, 'Silicon': 406, 'Valley': 407, 'boyfriend': 408, 'gathering': 409, 'go': 410, 'holiday': 411, 'millionaire': 412, 'pop': 413, 'question': 414, 'rail': 415, 'threatens': 416, 'art': 417, 'ex': 418, 'gallery': 419, 'haunt': 420, 'husband': 421, 'interprets': 422, 'novel': 423, 'revenge': 424, 'symbolic': 425, 'tale': 426, 'thriller': 427, 'violent': 428, 'wealthy': 429, 'Apocalypse': 430, 'Men': 431, 'X': 432, 'defeat': 433, 'destroyer': 434, 'extinction': 435, 'level': 436, 'mutant': 437, 'unite': 438, 'accelerate': 439, 'experiment': 440, 'fast': 441, 'heal': 442, 'humor': 443, 'leaf': 444, 'morbid': 445, 'power': 446, 'quest': 447, 'rogue': 448, 'sense': 449, 'subject': 450, 'talk': 451, 'Alice': 452, 'Corporation': 453, 'Hive': 454, 'Raccoon': 455, 'Umbrella': 456, 'begin': 457, 'final': 458, 'nightmare': 459, 'remain': 460, 'return': 461, 'strike': 462, 'survivor': 463, 'America': 464, 'Avengers': 465, 'Captain': 466, 'Iron': 467, 'Man': 468, 'Political': 469, 'activity': 470, 'ally': 471, 'cause': 472, 'interference': 473, 'rift': 474, 'ensure': 475, 'humanity': 476, 'survival': 477, 'wormhole': 478, 'brilliant': 479, 'healing': 480, 'mystic': 481, 'neurosurgeon': 482, 'physical': 483, 'spiritual': 484, 'Seven': 485, 'gunman': 486, 'help': 487, 'poor': 488, 'savage': 489, 'thief': 490, 'village': 491, 'west': 492, 'Alienated': 493, 'Illinois': 494, 'Johnson': 495, 'Pat': 496, 'change': 497, 'everything': 498, 'fan': 499, 'filmmaker': 500, 'grow': 501, 'hopeful': 502, 'love': 503, 'movie': 504, 'rural': 505, 'existence': 506, 'sausage': 507, 'strive': 508, 'Miami': 509, 'adolescence': 510, 'adulthood': 511, 'burgeon': 512, 'childhood': 513, 'chronicle': 514, 'gay': 515, 'neighborhood': 516, 'rough': 517, 'camp': 518, 'celebrate': 519, 'college': 520, 'enter': 521, 'friends': 522, 'graduate': 523, 'hit': 524, 'proverbial': 525, 'shit': 526, 'start': 527, 'trip': 528, 'wood': 529, 'Kroc': 530, 'McDonald': 531, 'Ray': 532, 'ambition': 533, 'big': 534, 'brother': 535, 'business': 536, 'combination': 537, 'eatery': 538, 'food': 539, 'innovative': 540, 'one': 541, 'persistence': 542, 'restaurant': 543, 'ruthlessness': 544, 'salesman': 545, 'turn': 546, 'East': 547, 'artist': 548, 'car': 549, 'catch': 550, 'culture': 551, 'expression': 552, 'felon': 553, 'lowrider': 554, 'need': 555, 'obsession': 556, 'Barbossa': 557, 'Blackbeard': 558, 'Jack': 559, 'Sparrow': 560, 'elusive': 561, 'embark': 562, 'fountain': 563, 'youth': 564, 'C': 565, 'Elizabeth': 566, 'Sloane': 567, 'broker': 568, 'career': 569, 'formidable': 570, 'lobbyist': 571, 'may': 572, 'opponent': 573, 'political': 574, 'powerful': 575, 'price': 576, 'stake': 577, 'win': 578, 'angel': 579, 'blame': 580, 'death': 581, 'draw': 582, 'fellow': 583, 'reform': 584, 'since': 585, 'student': 586, 'therapy': 587, 'unaware': 588, 'Enterprise': 589, 'Federation': 590, 'USS': 591, 'crew': 592, 'encounter': 593, 'enemy': 594, 'furthest': 595, 'put': 596, 'ruthless': 597, 'stand': 598, 'test': 599, 'Africa': 600, 'Bardem': 601, 'Charlize': 602, 'Javier': 603, 'See': 604, 'Theron': 605, 'aid': 606, 'amidst': 607, 'choice': 608, 'director': 609, 'doctor': 610, 'full': 611, 'international': 612, 'meet': 613, 'relief': 614, 'revolution': 615, 'social': 616, 'summary': 617, 'tough': 618, 'Empire': 619, 'First': 620, 'Galactic': 621, 'Order': 622, 'Resistance': 623, 'along': 624, 'arises': 625, 'galaxy': 626, 'heroes': 627, 'ragtag': 628, 'rule': 629, 'Beckinsale': 630, 'Kate': 631, 'Lycan': 632, 'Selene': 633, 'Vampire': 634, 'betray': 635, 'clan': 636, 'dealer': 637, 'end': 638, 'eternal': 639, 'faction': 640, 'fight': 641, 'Mother': 642, 'generation': 643, 'lead': 644, 'week': 645, 'gangster': 646, 'hitman': 647, 'retirement': 648, 'track': 649, 'Dark': 650, 'Gotham': 651, 'Joker': 652, 'Knight': 653, 'ability': 654, 'chaos': 655, 'great': 656, 'havoc': 657, 'injustice': 658, 'menace': 659, 'psychological': 660, 'term': 661, 'wreak': 662, '17th': 663, 'Catholicism': 664, 'Japan': 665, 'Jesuit': 666, 'Portuguese': 667, 'apostasy': 668, 'century': 669, 'committed': 670, 'locate': 671, 'mentor': 672, 'priest': 673, 'propagate': 674, 'rumor': 675, 'Hoping': 676, 'away': 677, 'blind': 678, 'fortune': 679, 'helpless': 680, 'house': 681, 'massive': 682, 'seem': 683, 'trio': 684, 'walk': 685, 'bond': 686, 'paralyze': 687, 'recently': 688, 'small': 689, 'town': 690, 'unlikely': 691, 'Blitz': 692, 'appoint': 693, 'cast': 694, 'film': 695, 'join': 696, 'major': 697, 'newly': 698, 'production': 699, 'propaganda': 700, 'rag': 701, 'scriptwriter': 702, 'secretary': 703, 'Chesley': 704, 'Hudson': 705, 'River': 706, 'Sullenberger': 707, 'damage': 708, 'flight': 709, 'hero': 710, 'land': 711, 'order': 712, 'pilot': 713, 'plane': 714, 'Batman': 715, 'Fearing': 716, 'Steel': 717, 'Superman': 718, 'action': 719, 'kind': 720, 'really': 721, 'unchecked': 722, 'wrestle': 723, 'apparently': 724, 'body': 725, 'complex': 726, 'coroner': 727, 'dark': 728, 'harbor': 729, 'identify': 730, 'mystery': 731, 'pull': 732, 'son': 733, 'divorcee': 734, 'entangled': 735, 'investigation': 736, 'miss': 737, 'promise': 738, 'send': 739, 'shockwaves': 740, 'throughout': 741, 'Anastasia': 742, 'Christian': 743, 'Grey': 744, 'Literature': 745, 'Steele': 746, 'billionaire': 747, 'forever': 748, 'handsome': 749, 'torment': 750, 'competitive': 751, 'create': 752, 'engage': 753, 'illusion': 754, 'magician': 755, 'stage': 756, 'ultimate': 757, 'upmanship': 758, 'emerges': 759, 'genius': 760, 'global': 761, 'kid': 762, 'organization': 763, 'promising': 764, 'spy': 765, 'tech': 766, 'training': 767, 'twist': 768, 'ultra': 769, 'unrefined': 770, '2013': 771, 'Boston': 772, 'Marathon': 773, 'aftermath': 774, 'bomb': 775, 'include': 776, 'manhunt': 777, 'responsible': 778, 'terrorist': 779, 'wide': 780, 'drifter': 781, 'postapocalyptic': 782, 'prisoner': 783, 'psychotic': 784, 'rebel': 785, 'ruler': 786, 'tyrannical': 787, 'worshipper': 788, 'attic': 789, 'breakdown': 790, 'month': 791, 'nervous': 792, 'several': 793, 'wife': 794, '2010': 795, 'April': 796, 'Deepwater': 797, 'Horizon': 798, 'bad': 799, 'disaster': 800, 'dramatization': 801, 'drilling': 802, 'explode': 803, 'offshore': 804, 'oil': 805, 'rig': 806, 'spill': 807, 'Ana': 808, 'Chris': 809, 'Michael': 810, 'Ottoman': 811, 'Promise': 812, 'Set': 813, 'base': 814, 'beautiful': 815, 'day': 816, 'journalist': 817, 'last': 818, 'medical': 819, 'renowned': 820, 'sophisticated': 821, 'triangle': 822, '1942': 823, 'Canadian': 824, 'French': 825, 'London': 826, 'North': 827, 'behind': 828, 'deadly': 829, 'fighter': 830, 'intelligence': 831, 'line': 832, 'officer': 833, 'pressure': 834, 'relationship': 835, 'reunite': 836, 'cope': 837, 'illness': 838, 'monster': 839, 'mother': 840, 'single': 841, 'terminal': 842, 'tree': 843, 'Love': 844, 'Receiving': 845, 'Retreating': 846, 'Time': 847, 'beauty': 848, 'interlock': 849, 'loss': 850, 'mean': 851, 'moment': 852, 'reveal': 853, 'see': 854, 'tragedy': 855, 'unexpected': 856, 'write': 857, 'anthropomorphic': 858, 'bunny': 859, 'con': 860, 'conspiracy': 861, 'cop': 862, 'cynical': 863, 'fox': 864, 'rookie': 865, 'Swann': 866, 'Turner': 867, 'alliance': 868, 'battle': 869, 'betrayal': 870, 'decisive': 871, 'edge': 872, 'map': 873, 'navigate': 874, 'sail': 875, 'treachery': 876, 'Loki': 877, 'army': 878, 'enslave': 879, 'learn': 880, 'mighty': 881, 'mischievous': 882, 'France': 883, 'II': 884, 'Jewish': 885, 'Nazi': 886, 'War': 887, 'World': 888, 'assassinate': 889, 'coincide': 890, 'leader': 891, 'occupy': 892, 'soldier': 893, 'theatre': 894, 'vengeful': 895, 'Davy': 896, 'Jones': 897, 'agenda': 898, 'avoid': 899, 'foes': 900, 'heart': 901, 'race': 902, 'recover': 903, 'service': 904, 'soul': 905, 'well': 906, 'Abby': 907, 'Erin': 908, 'Gilbert': 909, 'Holtzmann': 910, 'Jillian': 911, 'Manhattan': 912, 'Patty': 913, 'Tolan': 914, 'Yates': 915, 'band': 916, 'engineer': 917, 'enthusiast': 918, 'ghost': 919, 'nuclear': 920, 'otherworldly': 921, 'paranormal': 922, 'subway': 923, 'worker': 924, 'CEO': 925, 'corporate': 926, 'dream': 927, 'give': 928, 'idea': 929, 'inverse': 930, 'mind': 931, 'plant': 932, 'share': 933, 'technology': 934, 'use': 935, 'Northwest': 936, 'Pacific': 937, 'devote': 938, 'education': 939, 'forest': 940, 'intellectual': 941, 'paradise': 942, 'parent': 943, 'raise': 944, 'rigorous': 945, 'six': 946, 'Based': 947, 'Belfort': 948, 'Jordan': 949, 'corruption': 950, 'crime': 951, 'federal': 952, 'living': 953, 'rise': 954, 'stock': 955, 'circus': 956, 'disappearance': 957, 'focus': 958, 'innocent': 959, 'intense': 960, 'medium': 961, 'spotlight': 962, 'suspected': 963, 'Deckard': 964, 'Dominic': 965, 'Shaw': 966, 'Toretto': 967, 'comatose': 968, 'Jurassic': 969, 'Park': 970, 'build': 971, 'containment': 972, 'dinosaur': 973, 'genetically': 974, 'hybrid': 975, 'modify': 976, 'original': 977, 'park': 978, 'site': 979, 'spree': 980, 'theme': 981, 'Florida': 982, 'Klan': 983, 'Klux': 984, 'Ku': 985, 'Prohibition': 986, 'balmy': 987, 'breed': 988, 'era': 989, 'shop': 990, 'Pandora': 991, 'dispatch': 992, 'feel': 993, 'marine': 994, 'paraplegic': 995, 'protect': 996, 'torn': 997, 'unique': 998, 'Wyoming': 999, 'bounty': 1000, 'cabin': 1001, 'collection': 1002, 'currently': 1003, 'dead': 1004, 'hunter': 1005, 'inhabit': 1006, 'nefarious': 1007, 'shelter': 1008, 'winter': 1009, 'Department': 1010, 'Treasury': 1011, 'client': 1012, 'close': 1013, 'count': 1014, 'math': 1015, 'savant': 1016, 'uncooks': 1017, 'Dover': 1018, 'Keller': 1019, 'hand': 1020, 'matter': 1021, 'mount': 1022, 'multiple': 1023, 'pursue': 1024, 'Azeroth': 1025, 'Orc': 1026, 'Orcs': 1027, 'dissent': 1028, 'human': 1029, 'invades': 1030, 'magic': 1031, 'portal': 1032, '1960s': 1033, 'author': 1034, 'basis': 1035, 'civil': 1036, 'daily': 1037, 'decides': 1038, 'detail': 1039, 'hardship': 1040, 'maid': 1041, 'movement': 1042, 'point': 1043, 'view': 1044, 'white': 1045, '300': 1046, 'Afghanistan': 1047, 'David': 1048, 'Diveroli': 1049, 'Efraim': 1050, 'Packouz': 1051, 'Pentagon': 1052, 'arm': 1053, 'contract': 1054, 'men': 1055, 'million': 1056, 'Banner': 1057, 'Bruce': 1058, 'Stark': 1059, 'Tony': 1060, 'Ultron': 1061, 'dormant': 1062, 'enact': 1063, 'horribly': 1064, 'jump': 1065, 'peacekeeping': 1066, 'villainous': 1067, 'wrong': 1068, '1970s': 1069, 'eye': 1070, 'investigate': 1071, 'mismatch': 1072, 'pair': 1073, 'porn': 1074, 'private': 1075, 'star': 1076, 'apart': 1077, 'bizarre': 1078, 'connection': 1079, 'distance': 1080, 'keep': 1081, 'link': 1082, 'way': 1083, 'Shortly': 1084, 'deliver': 1085, 'experience': 1086, 'figure': 1087, 'hood': 1088, 'hospital': 1089, 'occurrence': 1090, 'patient': 1091, 'seemingly': 1092, 'strange': 1093, 'understaffed': 1094, 'complicate': 1095, 'contact': 1096, 'die': 1097, 'message': 1098, 'personal': 1099, 'previously': 1100, 'shopper': 1101, 'text': 1102, 'twin': 1103, 'via': 1104, 'Irish': 1105, 'South': 1106, 'gang': 1107, 'infiltrate': 1108, 'mole': 1109, 'undercover': 1110, 'Identical': 1111, 'Kray': 1112, 'Reginald': 1113, 'Ronald': 1114, 'terrorize': 1115, 'Asgard': 1116, 'Midgard': 1117, 'Thor': 1118, 'amongst': 1119, 'arrogant': 1120, 'defender': 1121, 'finest': 1122, 'god': 1123, 'Mars': 1124, 'alive': 1125, 'assume': 1126, 'astronaut': 1127, 'ingenuity': 1128, 'rely': 1129, 'signal': 1130, 'stranded': 1131, 'assassination': 1132, 'businessman': 1133, 'innocence': 1134, 'lawyer': 1135, 'lover': 1136, 'prove': 1137, 'Illya': 1138, 'KGB': 1139, 'Kuryakin': 1140, 'Napoleon': 1141, 'Solo': 1142, 'agent': 1143, 'joint': 1144, 'participate': 1145, 'proliferate': 1146, 'weapon': 1147, 'Texas': 1148, 'West': 1149, 'divorce': 1150, 'ranch': 1151, 'resort': 1152, 'scheme': 1153, 'Burke': 1154, 'age': 1155, 'comic': 1156, 'insult': 1157, 'look': 1158, 'Tarzan': 1159, 'acclimate': 1160, 'encampment': 1161, 'mine': 1162, 'good': 1163, 'struggle': 1164, 'breath': 1165, 'evaluate': 1166, 'ground': 1167, 'programmer': 1168, 'quality': 1169, 'select': 1170, 'synthetic': 1171, '80': 1172, 'Americans': 1173, 'Bogotá': 1174, 'Colombia': 1175, 'company': 1176, 'game': 1177, 'intercom': 1178, 'lock': 1179, 'office': 1180, 'system': 1181, 'unknown': 1182, 'voice': 1183, 'Northup': 1184, 'Solomon': 1185, 'States': 1186, 'United': 1187, 'abduct': 1188, 'antebellum': 1189, 'free': 1190, 'sell': 1191, 'slavery': 1192, 'upstate': 1193, 'cannibal': 1194, 'dystopian': 1195, 'wasteland': 1196, '480': 1197, 'B': 1198, 'King': 1199, 'Leonidas': 1200, 'Persians': 1201, 'Sparta': 1202, 'Thermopylae': 1203, 'Hermione': 1204, 'Hogwarts': 1205, 'Horcruxes': 1206, 'Lord': 1207, 'Ron': 1208, 'Voldemort': 1209, 'effort': 1210, 'rage': 1211, 'Christmas': 1212, 'branch': 1213, 'manager': 1214, 'shut': 1215, 'sister': 1216, 'threaten': 1217, 'throw': 1218, 'uptight': 1219, 'Jesse': 1220, 'devour': 1221, 'model': 1222, 'necessary': 1223, 'obsess': 1224, 'vitality': 1225, 'Commonwealth': 1226, 'Former': 1227, 'Games': 1228, 'Mahavir': 1229, 'Phogat': 1230, 'Singh': 1231, 'glory': 1232, 'oppression': 1233, 'societal': 1234, 'towards': 1235, 'wrestler': 1236, 'accident': 1237, 'affect': 1238, 'attack': 1239, 'chemical': 1240, 'claim': 1241, 'hold': 1242, 'outside': 1243, 'widespread': 1244, 'Dory': 1245, 'blue': 1246, 'everyone': 1247, 'fish': 1248, 'forgetful': 1249, 'friendly': 1250, 'lost': 1251, 'tang': 1252, 'Children': 1253, 'Home': 1254, 'Jacob': 1255, 'Miss': 1256, 'Peculiar': 1257, 'Peregrine': 1258, 'across': 1259, 'danger': 1260, 'deepen': 1261, 'discovers': 1262, 'resident': 1263, 'special': 1264, 'stretch': 1265, 'Divergent': 1266, 'Divergents': 1267, 'Four': 1268, 'Tris': 1269, 'divide': 1270, 'fit': 1271, 'late': 1272, 'plot': 1273, 'virtue': 1274, 'Hawaiian': 1275, 'ad': 1276, 'boys': 1277, 'date': 1278, 'duo': 1279, 'getaway': 1280, 'hard': 1281, 'hustled': 1282, 'instead': 1283, 'online': 1284, 'perfect': 1285, 'place': 1286, 'uncontrollable': 1287, 'wedding': 1288, 'wild': 1289, 'Boyka': 1290, 'accidental': 1291, 'fourth': 1292, 'franchise': 1293, 'installment': 1294, 'league': 1295, 'ring': 1296, 'shoot': 1297, 'Bane': 1298, 'Eight': 1299, 'Selina': 1300, 'anarchy': 1301, 'annihilation': 1302, 'brutal': 1303, 'enigmatic': 1304, 'exile': 1305, 'guerrilla': 1306, 'impose': 1307, 'reign': 1308, 'total': 1309, 'Bagheera': 1310, 'Baloo': 1311, 'Khan': 1312, 'Mowgli': 1313, 'Shere': 1314, 'cub': 1315, 'discovery': 1316, 'flee': 1317, 'panther': 1318, 'spirit': 1319, 'tiger': 1320, 'Autobots': 1321, 'Optimus': 1322, 'Prime': 1323, 'Unexpectedly': 1324, 'mechanic': 1325, 'serendipity': 1326, 'sight': 1327, 'anonymous': 1328, 'every': 1329, 'immersed': 1330, 'manipulated': 1331, 'senior': 1332, 'watcher': 1333, '70': 1334, 'ABBA': 1335, 'bride': 1336, 'popular': 1337, 'song': 1338, 'tell': 1339, '1820s': 1340, 'expedition': 1341, 'frontiersman': 1342, 'fur': 1343, 'hunt': 1344, 'maul': 1345, 'member': 1346, 'trading': 1347, '1950s': 1348, 'class': 1349, 'event': 1350, 'baker': 1351, 'childless': 1352, 'classic': 1353, 'fairy': 1354, 'item': 1355, 'magical': 1356, 'procure': 1357, 'reverse': 1358, '200': 1359, 'Nancy': 1360, 'contest': 1361, 'mere': 1362, 'safety': 1363, 'shark': 1364, 'shore': 1365, 'short': 1366, 'surfer': 1367, 'will': 1368, 'yard': 1369, 'conservatory': 1370, 'cut': 1371, 'drummer': 1372, 'enrolls': 1373, 'greatness': 1374, 'instructor': 1375, 'music': 1376, 'nothing': 1377, 'potential': 1378, 'throat': 1379, 'Brian': 1380, 'Hobbs': 1381, 'Letty': 1382, 'also': 1383, 'convolute': 1384, 'deceased': 1385, 'girlfriend': 1386, 'presume': 1387, 'reassemble': 1388, 'unexpectedly': 1389, 'ambitious': 1390, 'bank': 1391, 'child': 1392, 'collision': 1393, 'corrupt': 1394, 'course': 1395, 'decision': 1396, 'department': 1397, 'motorcycle': 1398, 'newborn': 1399, 'provide': 1400, 'rider': 1401, 'rob': 1402, 'stunt': 1403, 'Grande': 1404, 'Rio': 1405, 'Violence': 1406, 'cash': 1407, 'deal': 1408, 'dollar': 1409, 'drug': 1410, 'mayhem': 1411, 'near': 1412, 'Gatsby': 1413, 'Jay': 1414, 'Nick': 1415, 'lifestyle': 1416, 'neighbor': 1417, 'trader': 1418, 'wall': 1419, '1954': 1420, 'criminally': 1421, 'insane': 1422, 'marshal': 1423, 'murderess': 1424, 'Liz': 1425, 'climb': 1426, 'pulpit': 1427, 'reverend': 1428, 'James': 1429, 'Kirk': 1430, 'Mr': 1431, 'Romulan': 1432, 'Spock': 1433, 'brash': 1434, 'check': 1435, 'future': 1436, 'hole': 1437, 'legacy': 1438, 'consequence': 1439, 'elementary': 1440, 'fresh': 1441, 'middle': 1442, 'survive': 1443, 'teenager': 1444, 'transition': 1445, '2000s': 1446, 'bubble': 1447, 'collapse': 1448, 'credit': 1449, 'decide': 1450, 'denizen': 1451, 'finance': 1452, 'foresight': 1453, 'greed': 1454, 'housing': 1455, 'lack': 1456, 'mid': 1457, 'predict': 1458, 'confines': 1459, 'shed': 1460, 'within': 1461, 'German': 1462, 'Mississippi': 1463, 'plantation': 1464, 'slave': 1465, 'Japanese': 1466, 'defraud': 1467, 'handmaiden': 1468, 'heiress': 1469, 'hire': 1470, 'secretly': 1471, 'High': 1472, 'Krista': 1473, 'Nadine': 1474, 'unbearable': 1475, '1985': 1476, 'Rorschach': 1477, 'active': 1478, 'colleague': 1479, 'completely': 1480, 'could': 1481, 'exist': 1482, 'murder': 1483, 'sends': 1484, 'something': 1485, 'sprawl': 1486, 'superheroes': 1487, 'vigilante': 1488, 'anxiety': 1489, 'awry': 1490, 'booze': 1491, 'co': 1492, 'dependent': 1493, 'separation': 1494, 'soak': 1495, 'Brooks': 1496, 'Dr': 1497, 'Europe': 1498, 'Italian': 1499, 'Langdon': 1500, 'Robert': 1501, 'Sienna': 1502, 'amnesia': 1503, 'clock': 1504, 'foil': 1505, 'wake': 1506, 'Country': 1507, 'Giant': 1508, 'befriends': 1509, 'benevolent': 1510, 'eat': 1511, 'little': 1512, 'orphan': 1513, 'Districts': 1514, 'Everdeen': 1515, 'Hunger': 1516, 'Katniss': 1517, 'Panem': 1518, 'chosen': 1519, 'random': 1520, 'televise': 1521, 'voluntarily': 1522, 'Summer': 1523, 'extreme': 1524, 'guy': 1525, 'night': 1526, 'partying': 1527, 'FBI': 1528, 'Mexico': 1529, 'area': 1530, 'border': 1531, 'enlist': 1532, 'escalate': 1533, 'idealistic': 1534, '1990': 1535, '1992': 1536, 'Fire': 1537, 'Peaks': 1538, 'Twin': 1539, 'Walk': 1540, 'always': 1541, 'assemble': 1542, 'delete': 1543, 'entirely': 1544, 'feature': 1545, 'portion': 1546, 'prequel': 1547, 'present': 1548, 'scene': 1549, 'untold': 1550, 'US': 1551, 'Warring': 1552, 'chance': 1553, 'descend': 1554, 'predator': 1555, 'unsuspecting': 1556, 'drive': 1557, 'humankind': 1558, 'obsolete': 1559, 'sea': 1560, 'trainee': 1561, 'wag': 1562, 'bar': 1563, 'dramatically': 1564, 'manhood': 1565, 'newfound': 1566, 'pick': 1567, 'rediscover': 1568, 'Pilgrim': 1569, 'Scott': 1570, 'seven': 1571, 'Angel': 1572, 'English': 1573, 'Exceptional': 1574, 'Nicholas': 1575, 'afoot': 1576, 'beat': 1577, 'involuntarily': 1578, 'partner': 1579, 'quaint': 1580, 'sinister': 1581, 'suspect': 1582, 'transfer': 1583, 'witless': 1584, 'Exposed': 1585, 'condition': 1586, 'desert': 1587, 'element': 1588, 'fail': 1589, 'strand': 1590, 'toll': 1591, 'treacherous': 1592, '1978': 1593, 'meeting': 1594, 'shootout': 1595, 'warehouse': 1596, 'Wolverine': 1597, 'doom': 1598, 'humans': 1599, 'prevent': 1600, 'Reacher': 1601, 'clear': 1602, 'fugitive': 1603, 'law': 1604, 'run': 1605, '007': 1606, 'Agent': 1607, 'Armed': 1608, 'Bond': 1609, 'Casino': 1610, 'Royale': 1611, 'Secret': 1612, 'licence': 1613, 'poker': 1614, 'risk': 1615, 'vampire': 1616, 'Horsemen': 1617, 'forcibly': 1618, 'heist': 1619, 'impossible': 1620, 'resurface': 1621, 'Altmann': 1622, 'Austrian': 1623, 'Maria': 1624, 'artwork': 1625, 'belongs': 1626, 'octogenarian': 1627, 'refugee': 1628, 'rightfully': 1629, 'Libya': 1630, 'compound': 1631, 'security': 1632, 'SPECTRE': 1633, 'cryptic': 1634, 'deceit': 1635, 'layer': 1636, 'peel': 1637, 'trail': 1638, 'Bloom': 1639, 'L': 1640, 'Louis': 1641, 'blur': 1642, 'journalism': 1643, 'muscle': 1644, 'observer': 1645, 'participant': 1646, 'Kubo': 1647, 'armour': 1648, 'suit': 1649, 'wear': 1650, 'Beyond': 1651, 'Gates': 1652, 'VCR': 1653, 'board': 1654, 'dub': 1655, 'estrange': 1656, 'store': 1657, 'video': 1658, 'design': 1659, 'develops': 1660, 'lonely': 1661, 'operate': 1662, 'Anna': 1663, 'Elsa': 1664, 'Queen': 1665, 'accidentally': 1666, 'crown': 1667, 'ice': 1668, 'infinite': 1669, 'mountain': 1670, 'playful': 1671, 'reindeer': 1672, 'snowman': 1673, 'weather': 1674, 'Bound': 1675, 'burst': 1676, 'collective': 1677, 'curiosity': 1678, 'destiny': 1679, 'inventor': 1680, 'scientific': 1681, 'somewhere': 1682, 'teen': 1683, 'unearth': 1684, 'Caesar': 1685, 'ape': 1686, 'devastate': 1687, 'earlier': 1688, 'evolve': 1689, 'nation': 1690, 'unleash': 1691, 'virus': 1692, 'budget': 1693, 'freak': 1694, 'portray': 1695, 'Ed': 1696, 'Lorraine': 1697, 'Warren': 1698, 'four': 1699, 'malicious': 1700, 'north': 1701, 'plague': 1702, 'Hank': 1703, 'Lang': 1704, 'Pym': 1705, 'astonish': 1706, 'burglar': 1707, 'cat': 1708, 'embrace': 1709, 'increase': 1710, 'inner': 1711, 'scale': 1712, 'shrink': 1713, 'strength': 1714, 'Bridget': 1715, 'baby': 1716, 'fifty': 1717, 'hitch': 1718, 'identity': 1719, 'interrupt': 1720, 'percent': 1721, 'pregnant': 1722, 'sure': 1723, '1630s': 1724, 'England': 1725, 'possession': 1726, 'witchcraft': 1727, 'Ella': 1728, 'Never': 1729, 'cruel': 1730, 'dashing': 1731, 'hope': 1732, 'mercy': 1733, 'pass': 1734, 'step': 1735, 'stepmother': 1736, '2084': 1737, 'Hughes': 1738, 'Marc': 1739, 'Sixty': 1740, 'Tom': 1741, 'Unable': 1742, 'accept': 1743, 'disease': 1744, 'freeze': 1745, 'Salesman': 1746, 'assault': 1747, 'determine': 1748, 'objection': 1749, 'perpetrator': 1750, 'teacher': 1751, 'traumatize': 1752, 'Electra': 1753, 'Murphy': 1754, 'Unaware': 1755, 'bed': 1756, 'charge': 1757, 'effect': 1758, 'emotionally': 1759, 'enters': 1760, 'highly': 1761, 'invite': 1762, 'pretty': 1763, 'sexually': 1764, 'unstable': 1765, '19': 1766, 'Billy': 1767, 'Iraq': 1768, 'Lynn': 1769, 'bring': 1770, 'contrast': 1771, 'flashback': 1772, 'happen': 1773, 'harrow': 1774, 'perception': 1775, 'reality': 1776, 'show': 1777, 'squad': 1778, 'tour': 1779, 'victory': 1780, 'Trying': 1781, 'bleed': 1782, 'breathes': 1783, 'outsider': 1784, 'remembers': 1785, 'sweep': 1786, 'tear': 1787, 'temptation': 1788, 'Hollywood': 1789, 'driver': 1790, 'moonlight': 1791, 'stuntman': 1792, 'trouble': 1793, 'commitment': 1794, 'fear': 1795, 'meets': 1796, 'monogamy': 1797, 'phobic': 1798, 'possible': 1799, 'think': 1800, 'Western': 1801, 'boat': 1802, 'coast': 1803, 'drift': 1804, 'keeper': 1805, 'lighthouse': 1806, 'row': 1807, 'affair': 1808, 'passionate': 1809, 'quickly': 1810, 'whose': 1811, 'Archdiocese': 1812, 'Catholic': 1813, 'Church': 1814, 'Globe': 1815, 'core': 1816, 'cover': 1817, 'entire': 1818, 'local': 1819, 'molestation': 1820, 'scandal': 1821, 'shake': 1822, 'artificially': 1823, 'consultant': 1824, 'management': 1825, 'terminate': 1826, 'whether': 1827, 'alcoholic': 1828, 'boxer': 1829, 'martial': 1830, 'mixed': 1831, 'path': 1832, 'tournament': 1833, 'train': 1834, 'Rogers': 1835, 'Soldier': 1836, 'Steve': 1837, 'Super': 1838, 'dose': 1839, 'military': 1840, 'monger': 1841, 'reject': 1842, 'serum': 1843, 'transforms': 1844, 'Alex': 1845, 'Danyliuk': 1846, 'theft': 1847, '000': 1848, '24': 1849, 'Alaska': 1850, 'Along': 1851, 'Christopher': 1852, 'Emory': 1853, 'McCandless': 1854, 'University': 1855, 'abandon': 1856, 'account': 1857, 'athlete': 1858, 'charity': 1859, 'hitchhikes': 1860, 'saving': 1861, 'shape': 1862, 'top': 1863, 'wilderness': 1864, 'Alan': 1865, 'Turing': 1866, 'code': 1867, 'crack': 1868, 'enigma': 1869, 'Facebook': 1870, 'accountant': 1871, 'awkward': 1872, 'espionage': 1873, 'lured': 1874, 'mannered': 1875, 'mild': 1876, 'pal': 1877, 'reconnects': 1878, 'relive': 1879, 'restart': 1880, 'Alps': 1881, 'Swiss': 1882, 'executive': 1883, 'idyllic': 1884, 'location': 1885, 'remote': 1886, 'retrieve': 1887, 'spa': 1888, 'treatment': 1889, 'wellness': 1890, 'Edward': 1891, 'NSA': 1892, 'Snowden': 1893, 'classified': 1894, 'distribute': 1895, 'document': 1896, 'employee': 1897, 'illegal': 1898, 'leak': 1899, 'press': 1900, 'public': 1901, 'surveillance': 1902, 'technique': 1903, 'Afghan': 1904, 'armor': 1905, 'captive': 1906, 'cave': 1907, 'weaponized': 1908, 'Chicago': 1909, 'Insurgent': 1910, 'earth': 1911, 'encircles': 1912, 'finally': 1913, 'revelation': 1914, 'shatter': 1915, 'shock': 1916, '1962': 1917, 'III': 1918, 'Mutants': 1919, 'dictator': 1920, 'enlists': 1921, 'superhuman': 1922, 'carnivorous': 1923, 'haze': 1924, 'meat': 1925, 'ritual': 1926, 'taste': 1927, 'unbidden': 1928, 'undergo': 1929, 'vegetarian': 1930, 'vet': 1931, 'evident': 1932, 'observation': 1933, 'poetry': 1934, 'smallest': 1935, 'triumph': 1936, 'Competition': 1937, 'bridesmaid': 1938, 'chef': 1939, 'honor': 1940, 'pastry': 1941, 'Melanie': 1942, 'scientist': 1943, 'California': 1944, 'chopper': 1945, 'earthquake': 1946, 'state': 1947, 'arrest': 1948, 'bailed': 1949, 'drink': 1950, 'fund': 1951, 'spring': 1952, 'vacation': 1953, 'Cybertronian': 1954, 'Decepticons': 1955, 'heroic': 1956, 'Obsessed': 1957, 'confinement': 1958, 'locked': 1959, 'reason': 1960, 'solitary': 1961, 'twenty': 1962, 'vengeance': 1963, 'Aether': 1964, 'Convergence': 1965, 'Elves': 1966, 'Foster': 1967, 'Jane': 1968, 'cosmic': 1969, 'entity': 1970, 'genocidal': 1971, 'herald': 1972, 'Bek': 1973, 'Egypt': 1974, 'Horus': 1975, 'Mortal': 1976, 'conflict': 1977, 'darkness': 1978, 'empire': 1979, 'merciless': 1980, 'peaceful': 1981, 'plunge': 1982, 'prosperous': 1983, 'throne': 1984, 'usurp': 1985, 'Avenger': 1986, 'Black': 1987, 'E': 1988, 'H': 1989, 'Widow': 1990, 'Winter': 1991, 'assassin': 1992, 'modern': 1993, 'befriend': 1994, 'feed': 1995, 'fracking': 1996, 'junkyard': 1997, 'grant': 1998, 'occultist': 1999, 'perform': 2000, 'souls': 2001, 'want': 2002, 'Dave': 2003, 'Lizewski': 2004, 'meaningful': 2005, 'superhero': 2006, 'though': 2007, 'unnoticed': 2008, 'Henry': 2009, 'bio': 2010, 'resurrect': 2011, 'telekinetic': 2012, 'warlord': 2013, 'Lightning': 2014, 'McQueen': 2015, 'Radiator': 2016, 'Springs': 2017, 'friendship': 2018, 'hot': 2019, 'waylaid': 2020, 'sexual': 2021, 'supernatural': 2022, 'Blomkvist': 2023, 'Journalist': 2024, 'Lisbeth': 2025, 'Mikael': 2026, 'Salander': 2027, 'computer': 2028, 'forty': 2029, 'hacker': 2030, 'creates': 2031, 'fake': 2032, 'huge': 2033, 'part': 2034, 'pot': 2035, 'shipment': 2036, 'veteran': 2037, 'weed': 2038, 'Midwest': 2039, 'bend': 2040, 'criss': 2041, 'cross': 2042, 'magazine': 2043, 'misfit': 2044, 'sale': 2045, 'whirlwind': 2046, 'Hotel': 2047, 'Woods': 2048, 'accord': 2049, 'beast': 2050, 'oblige': 2051, 'romantic': 2052, 'transform': 2053, 'elite': 2054, 'parachute': 2055, 'unfamiliar': 2056, 'infant': 2057, 'peace': 2058, 'princess': 2059, 'restore': 2060, 'troubled': 2061, '1944': 2062, 'Spain': 2063, 'bookish': 2064, 'captivate': 2065, 'eerie': 2066, 'falangist': 2067, 'fantasy': 2068, 'sadistic': 2069, 'stepdaughter': 2070, 'Clara': 2071, 'Stackhouse': 2072, 'Walter': 2073, 'another': 2074, 'architect': 2075, 'clever': 2076, 'fascination': 2077, 'lust': 2078, 'marry': 2079, 'mouse': 2080, 'overambitious': 2081, 'spiral': 2082, 'successful': 2083, 'unsolved': 2084, 'Jaguar': 2085, 'Mayan': 2086, 'Paw': 2087, 'capture': 2088, 'decline': 2089, 'fate': 2090, 'flees': 2091, 'insist': 2092, 'key': 2093, 'kingdom': 2094, 'offer': 2095, 'prosperity': 2096, 'sacrifice': 2097, 'temple': 2098, 'Ethan': 2099, 'IMF': 2100, 'International': 2101, 'Syndicate': 2102, 'destroying': 2103, 'eradicate': 2104, 'skilled': 2105, 'Eric': 2106, 'Freya': 2107, 'Ravenna': 2108, 'Sara': 2109, 'conceal': 2110, 'forbidden': 2111, 'intention': 2112, 'wicked': 2113, 'freshman': 2114, 'introvert': 2115, 'welcome': 2116, 'wing': 2117, 'F': 2118, 'Jacqueline': 2119, 'John': 2120, 'Kennedy': 2121, 'Lady': 2122, 'President': 2123, 'console': 2124, 'define': 2125, 'faith': 2126, 'grief': 2127, 'historic': 2128, 'regain': 2129, 'trauma': 2130, 'horror': 2131, 'release': 2132, 'unimaginable': 2133, 'Gustave': 2134, 'Moustafa': 2135, 'Republic': 2136, 'Wars': 2137, 'Zero': 2138, 'Zubrowka': 2139, 'concierge': 2140, 'famous': 2141, 'fictional': 2142, 'hotel': 2143, 'legendary': 2144, 'lobby': 2145, 'second': 2146, 'trust': 2147, 'conquer': 2148, 'erase': 2149, 'unseen': 2150, '1945': 2151, 'Germany': 2152, 'commander': 2153, 'grizzle': 2154, 'tank': 2155, 'Anger': 2156, 'Disgust': 2157, 'Fear': 2158, 'Francisco': 2159, 'Joy': 2160, 'Riley': 2161, 'Sadness': 2162, 'San': 2163, 'uproot': 2164, 'Mastiff': 2165, 'Tibetan': 2166, 'fulfill': 2167, 'motion': 2168, 'musician': 2169, 'radio': 2170, 'sky': 2171, '1984': 2172, 'Connor': 2173, 'Kyle': 2174, 'Reese': 2175, 'Sarah': 2176, 'Sgt': 2177, 'fractured': 2178, 'resistance': 2179, 'safeguard': 2180, 'timeline': 2181, 'Greek': 2182, 'settle': 2183, '19th': 2184, 'Javert': 2185, 'Jean': 2186, 'Valjean': 2187, 'agree': 2188, 'factory': 2189, 'parole': 2190, 'policeman': 2191, '2027': 2192, 'activist': 2193, 'chaotic': 2194, 'infertile': 2195, 'miraculously': 2196, 'sanctuary': 2197, '1979': 2198, 'Southern': 2199, 'among': 2200, 'analyst': 2201, 'bound': 2202, 'desk': 2203, 'diabolical': 2204, 'volunteer': 2205, 'aristocrat': 2206, 'caregiver': 2207, 'paragliding': 2208, 'project': 2209, 'quadriplegic': 2210, 'Anne': 2211, 'Cannes': 2212, 'Long': 2213, 'crossroad': 2214, 'driven': 2215, 'inattentive': 2216, 'producer': 2217, 'dogtooth': 2218, 'isolate': 2219, 'protective': 2220, 'Compton': 2221, 'Hip': 2222, 'Hop': 2223, 'NWA': 2224, 'emerge': 2225, 'revolutionizes': 2226, 'tales': 2227, 'Oscorp': 2228, 'Spider': 2229, 'siege': 2230, 'swore': 2231, 'Paranormal': 2232, 'farmhouse': 2233, 'investigator': 2234, 'presence': 2235, 'Las': 2236, 'Vegas': 2237, 'bachelor': 2238, 'buddy': 2239, 'previous': 2240, 'armada': 2241, 'destructive': 2242, 'fleet': 2243, 'goal': 2244, 'ship': 2245, 'thwart': 2246, 'brain': 2247, 'chimp': 2248, 'intelligent': 2249, 'repair': 2250, 'substance': 2251, 'uprise': 2252, 'Rebecca': 2253, 'attach': 2254, 'sanity': 2255, 'terror': 2256, 'unlock': 2257, 'Norman': 2258, 'Oppenheimer': 2259, 'influential': 2260, 'low': 2261, 'operator': 2262, 'politician': 2263, 'worse': 2264, 'Broadway': 2265, 'Illustrated': 2266, 'current': 2267, 'progress': 2268, 'waste': 2269, 'Lake': 2270, 'Swan': 2271, 'Tchaikovsky': 2272, 'dancer': 2273, 'maintain': 2274, 'Ivy': 2275, 'League': 2276, 'beating': 2277, 'erotic': 2278, 'nymphomaniac': 2279, 'recount': 2280, 'Baxter': 2281, 'Bebop': 2282, 'Krang': 2283, 'Rocksteady': 2284, 'Shredder': 2285, 'Stockman': 2286, 'Turtles': 2287, 'confront': 2288, 'henchman': 2289, 'mad': 2290, 'nemesis': 2291, 'notorious': 2292, 'door': 2293, 'gesture': 2294, 'knock': 2295, 'seduction': 2296, 'Colonel': 2297, 'Lieutenant': 2298, 'Right': 2299, 'grandfather': 2300, 'lecherous': 2301, 'trick': 2302, 'wed': 2303, 'act': 2304, 'exploration': 2305, 'impact': 2306, 'individual': 2307, 'inspire': 2308, 'kindness': 2309, 'ripple': 2310, 'Team': 2311, 'particular': 2312, 'Coachella': 2313, 'occult': 2314, 'runaway': 2315, 'terrify': 2316, 'MI6': 2317, 'Whilst': 2318, 'cost': 2319, 'loyalty': 2320, 'Baggins': 2321, 'Bilbo': 2322, 'Lonely': 2323, 'Mountain': 2324, 'Smaug': 2325, 'dragon': 2326, 'dwarves': 2327, 'hobbit': 2328, 'reclaim': 2329, 'reluctant': 2330, 'blend': 2331, 'underachieve': 2332, 'Dublin': 2333, 'impress': 2334, 'like': 2335, 'strain': 2336, 'Brittany': 2337, 'Grand': 2338, 'Opera': 2339, 'accede': 2340, 'ballerina': 2341, 'else': 2342, 'position': 2343, 'pupil': 2344, 'someone': 2345, 'assign': 2346, 'extract': 2347, 'resource': 2348, 'Jenko': 2349, 'Schmidt': 2350, 'deep': 2351, 'twice': 2352, 'Killer': 2353, 'Northern': 2354, 'Zodiac': 2355, 'amateur': 2356, 'cartoonist': 2357, 'terrorizes': 2358, 'unidentified': 2359, '1980': 2360, 'baseball': 2361, 'player': 2362, 'unsupervised': 2363, 'Mandarin': 2364, 'odyssey': 2365, 'rebuild': 2366, 'retribution': 2367, 'Interpol': 2368, 'audience': 2369, 'illusionists': 2370, 'money': 2371, 'performances': 2372, 'reward': 2373, 'Holmes': 2374, 'Sherlock': 2375, 'Watson': 2376, 'brawn': 2377, 'stalwart': 2378, 'wits': 2379, 'different': 2380, 'execute': 2381, 'murderous': 2382, 'proof': 2383, 'scar': 2384, 'separate': 2385, 'us': 2386, 'voluptuous': 2387, 'Danish': 2388, 'Elbe': 2389, 'Gerda': 2390, 'Lili': 2391, 'Wegener': 2392, 'fictitious': 2393, 'groundbreaking': 2394, 'inspired': 2395, 'loosely': 2396, 'marriage': 2397, 'pioneer': 2398, 'transgender': 2399, 'Hercules': 2400, 'Thrace': 2401, 'demigod': 2402, 'endure': 2403, 'labor': 2404, 'sword': 2405, 'abusive': 2406, 'alternative': 2407, 'envision': 2408, 'institutionalize': 2409, 'retreat': 2410, 'stepfather': 2411, 'strategy': 2412, 'embroiled': 2413, 'suburban': 2414, 'industry': 2415, 'inhabitant': 2416, 'nobility': 2417, '1997': 2418, 'Fargo': 2419, 'Loomis': 2420, 'October': 2421, 'armored': 2422, 'guard': 2423, 'organize': 2424, 'robbery': 2425, 'Iris': 2426, 'Maybe': 2427, 'debt': 2428, 'job': 2429, 'Busan': 2430, 'Korea': 2431, 'zombie': 2432, 'Barden': 2433, 'Beca': 2434, 'Bellas': 2435, 'Injecting': 2436, 'cajole': 2437, 'campus': 2438, 'energy': 2439, 'male': 2440, 'much': 2441, 'repertoire': 2442, 'rival': 2443, 'Kelly': 2444, 'Mac': 2445, 'Teddy': 2446, 'debaucherous': 2447, 'fraternity': 2448, 'sorority': 2449, 'Dutch': 2450, 'Holland': 2451, 'Kaiser': 2452, 'Wilhelm': 2453, 'onset': 2454, 'Clark': 2455, 'Kent': 2456, 'brink': 2457, 'destruction': 2458, 'disguise': 2459, 'extinguish': 2460, 'unremarkable': 2461, 'Gabby': 2462, 'Travis': 2463, 'coastal': 2464, 'wind': 2465, 'Buck': 2466, 'Diego': 2467, 'Manny': 2468, 'Sid': 2469, 'fend': 2470, 'meteor': 2471, 'would': 2472, 'Miranda': 2473, 'Priestly': 2474, 'assistant': 2475, 'chief': 2476, 'demand': 2477, 'editor': 2478, 'fashion': 2479, 'sensible': 2480, 'smart': 2481, 'Colombian': 2482, 'Customs': 2483, 'Escobar': 2484, 'Pablo': 2485, 'launder': 2486, 'lord': 2487, 'official': 2488, 'uncovers': 2489, 'hatred': 2490, 'madness': 2491, 'religion': 2492, 'Russian': 2493, 'dedicated': 2494, 'idly': 2495, '2005': 2496, 'Ahmad': 2497, 'June': 2498, 'Luttrell': 2499, 'Marcus': 2500, 'Shah': 2501, 'Taliban': 2502, 'valiant': 2503, 'warfare': 2504, 'Five': 2505, 'bargain': 2506, 'Playboy': 2507, 'Shelley': 2508, 'kick': 2509, 'mansion': 2510, 'playboy': 2511, 'socially': 2512, 'Joe': 2513, 'average': 2514, 'confidence': 2515, 'influence': 2516, '1970': 2517, 'Doc': 2518, 'Larry': 2519, 'Sportello': 2520, 'fuel': 2521, 'Hatter': 2522, 'Mad': 2523, 'Wonderland': 2524, 'whimsical': 2525, 'everywhere': 2526, 'loner': 2527, 'punk': 2528, 'rebellious': 2529, 'rocker': 2530, 'violence': 2531, 'Tokyo': 2532, 'competitor': 2533, 'jail': 2534, 'sentence': 2535, 'adult': 2536, 'NFL': 2537, 'Oher': 2538, 'draft': 2539, 'football': 2540, 'round': 2541, 'Adèle': 2542, 'Emma': 2543, 'allow': 2544, 'assert': 2545, 'desire': 2546, 'finds': 2547, 'front': 2548, 'hair': 2549, 'others': 2550, 'ultimately': 2551, 'lurk': 2552, 'Company': 2553, 'array': 2554, 'combatant': 2555, 'Dumbledore': 2556, 'Wizard': 2557, 'authoritarian': 2558, 'authority': 2559, 'bureaucrat': 2560, 'scoff': 2561, 'seize': 2562, 'slowly': 2563, 'target': 2564, 'warn': 2565, 'Snowpiercer': 2566, 'climate': 2567, 'except': 2568, 'globe': 2569, 'Cassie': 2570, 'decimate': 2571, 'desperately': 2572, 'increasingly': 2573, 'wave': 2574, 'Brotherhood': 2575, 'Eden': 2576, 'Martin': 2577, 'Mister': 2578, 'Vamp': 2579, 'badlands': 2580, 'guide': 2581, 'revitalize': 2582, 'behavior': 2583, 'disturb': 2584, 'frightened': 2585, 'grandparent': 2586, 'sibling': 2587, 'Brazilian': 2588, 'buy': 2589, 'racer': 2590, 'Gage': 2591, 'Nora': 2592, 'Tyler': 2593, 'dance': 2594, 'earn': 2595, 'lifetime': 2596, 'opportunity': 2597, 'scholarship': 2598, 'vandalize': 2599, 'impromptu': 2600, 'road': 2601, 'attract': 2602, 'establish': 2603, 'estate': 2604, 'grabs': 2605, 'multi': 2606, 'n': 2607, 'pound': 2608, 'prize': 2609, 'quick': 2610, 'rich': 2611, 'rock': 2612, 'roller': 2613, 'scam': 2614, 'scrappy': 2615, 'season': 2616, 'type': 2617, 'underworld': 2618, 'vie': 2619, 'Salas': 2620, 'accuse': 2621, 'hostage': 2622, 'immortal': 2623, 'important': 2624, 'situation': 2625, 'Harvard': 2626, 'Mark': 2627, 'Zuckerberg': 2628, 'founder': 2629, 'networking': 2630, 'squeeze': 2631, 'stole': 2632, 'sue': 2633, 'combined': 2634, 'horrify': 2635, 'Frankenstein': 2636, 'Igor': 2637, 'Told': 2638, 'Viktor': 2639, 'Von': 2640, 'eyewitness': 2641, 'legend': 2642, 'origins': 2643, 'perspective': 2644, 'redemptive': 2645, 'today': 2646, 'Bowen': 2647, 'addict': 2648, 'busker': 2649, 'ginger': 2650, 'met': 2651, 'neo': 2652, 'skinhead': 2653, 'witness': 2654, 'Chinese': 2655, 'Hong': 2656, 'Jakarta': 2657, 'Kong': 2658, 'convict': 2659, 'cybercrime': 2660, 'furlough': 2661, 'network': 2662, 'Storks': 2663, 'delivery': 2664, 'error': 2665, 'fix': 2666, 'package': 2667, 'scramble': 2668, 'stork': 2669, 'Back': 2670, 'Navy': 2671, 'accuracy': 2672, 'battlefield': 2673, 'countless': 2674, 'duty': 2675, 'however': 2676, 'pinpoint': 2677, 'sniper': 2678, 'AIDS': 2679, 'Dallas': 2680, 'Woodroof': 2681, 'electrician': 2682, 'hustler': 2683, 'medication': 2684, 'cabinet': 2685, 'carnage': 2686, 'continue': 2687, 'emancipate': 2688, 'inside': 2689, 'president': 2690, 'Formula': 2691, 'Hunt': 2692, 'Lauda': 2693, 'Niki': 2694, 'One': 2695, 'rivalry': 2696, 'dreams': 2697, 'manifest': 2698, 'physically': 2699, 'Solitano': 2700, 'Things': 2701, 'Tiffany': 2702, 'institution': 2703, 'mental': 2704, 'problem': 2705, 'reconcile': 2706, 'stint': 2707, 'Olympic': 2708, 'Trials': 2709, 'ankle': 2710, 'do': 2711, 'prepares': 2712, 'runner': 2713, 'talented': 2714, 'Amsterdam': 2715, 'affirm': 2716, 'cancer': 2717, 'reclusive': 2718, 'attraction': 2719, 'benefit': 2720, 'grows': 2721, 'respective': 2722, 'stuck': 2723, 'Conner': 2724, 'heroin': 2725, 'importer': 2726, 'infiltrating': 2727, 'operation': 2728, '2074': 2729, 'await': 2730, 'gun': 2731, 'hired': 2732, 'loop': 2733, 'mob': 2734, 'rid': 2735, 'Capitol': 2736, 'House': 2737, 'White': 2738, 'heavily': 2739, 'invader': 2740, 'paramilitary': 2741, 'Elliot': 2742, 'Pete': 2743, 'Parker': 2744, 'Peter': 2745, 'contend': 2746, 'turmoil': 2747, 'Artagnan': 2748, 'Musketeers': 2749, 'double': 2750, 'employer': 2751, 'engulf': 2752, 'head': 2753, 'luck': 2754, 'beloved': 2755, 'countryside': 2756, 'realm': 2757, 'venture': 2758, 'DiMaso': 2759, 'Irving': 2760, 'Jersey': 2761, 'Prosser': 2762, 'Richie': 2763, 'Rosenfeld': 2764, 'Sydney': 2765, 'mafia': 2766, 'powerbroker': 2767, 'seductive': 2768, 'cheerleader': 2769, 'classmate': 2770, 'possess': 2771, 'specializes': 2772, 'succubus': 2773, 'everyday': 2774, 'fiancée': 2775, 'midnight': 2776, 'mysteriously': 2777, 'nostalgic': 2778, 'screenwriter': 2779, 'unstoppable': 2780, 'dynasty': 2781, 'matriarch': 2782, 'couture': 2783, 'exact': 2784, 'glamorous': 2785, 'haute': 2786, 'machine': 2787, 'sew': 2788, 'style': 2789, 'sweet': 2790, '1930s': 2791, 'Bronx': 2792, 'native': 2793, 'Beatrice': 2794, 'Prior': 2795, 'demon': 2796, 'side': 2797, 'Malkin': 2798, 'Spook': 2799, 'ago': 2800, 'apprentice': 2801, 'decades': 2802, 'imprison': 2803, 'pit': 2804, 'professional': 2805, 'queen': 2806, 'seventh': 2807, 'Marseille': 2808, 'Samuel': 2809, 'awake': 2810, 'carry': 2811, 'chase': 2812, 'morning': 2813, 'wail': 2814, 'Hawking': 2815, 'Stephen': 2816, 'physicist': 2817, 'Baruchel': 2818, 'Biblical': 2819, 'Franco': 2820, 'Rogen': 2821, 'Seth': 2822, 'attend': 2823, 'celebrity': 2824, '21': 2825, 'Tim': 2826, 'easy': 2827, 'happens': 2828, 'might': 2829, 'aimless': 2830, 'loser': 2831, 'roommate': 2832, 'still': 2833, 'birthday': 2834, 'clown': 2835, 'mass': 2836, 'zone': 2837, 'Ohio': 2838, 'Twinkie': 2839, 'amusement': 2840, 'fill': 2841, 'shy': 2842, 'tot': 2843, 'fixer': 2844, 'studio': 2845, 'Millionaire': 2846, 'Mumbai': 2847, 'Version': 2848, 'Wants': 2849, 'cheat': 2850, 'reflect': 2851, 'slum': 2852, 'upbringing': 2853, 'Cullens': 2854, 'Renesmee': 2855, 'Volturi': 2856, 'allegation': 2857, 'birth': 2858, 'false': 2859, 'gather': 2860, 'Determined': 2861, 'Iran': 2862, 'crisis': 2863, 'due': 2864, 'flounder': 2865, 'hostility': 2866, 'unrest': 2867, 'wrestling': 2868, 'alter': 2869, 'bite': 2870, 'solve': 2871, 'spider': 2872, 'Ben': 2873, 'Hur': 2874, 'Judah': 2875, 'Roman': 2876, 'falsely': 2877, 'homeland': 2878, 'prince': 2879, 'redemption': 2880, 'treason': 2881, 'Latimore': 2882, 'roof': 2883, 'turns': 2884, 'Thomas': 2885, 'deposit': 2886, 'maze': 2887, 'require': 2888, 'trap': 2889, 'complete': 2890, 'implant': 2891, 'inmate': 2892, 'frustrated': 2893, 'Florence': 2894, 'Jenkins': 2895, 'despite': 2896, 'opera': 2897, 'singer': 2898, 'singing': 2899, 'Autobahn': 2900, 'Cologne': 2901, 'backpacker': 2902, 'smuggler': 2903, 'speed': 2904, 'Bulger': 2905, 'Mafia': 2906, 'Whitey': 2907, 'infamous': 2908, 'informant': 2909, 'senator': 2910, 'turf': 2911, 'Adonis': 2912, 'Apollo': 2913, 'Balboa': 2914, 'Champion': 2915, 'Creed': 2916, 'Heavyweight': 2917, 'Rocky': 2918, 'trainer': 2919, 'deserted': 2920, 'hopeless': 2921, 'surreal': 2922, 'Barney': 2923, 'Conrad': 2924, 'Expendables': 2925, 'Stonebanks': 2926, 'associate': 2927, 'augments': 2928, 'bent': 2929, 'hell': 2930, 'wipe': 2931, 'Turns': 2932, 'Wellington': 2933, 'Zealand': 2934, 'documentary': 2935, 'domestic': 2936, 'vampires': 2937, 'Boxer': 2938, 'Hope': 2939, 'Tick': 2940, 'Wills': 2941, 'protection': 2942, 'tragic': 2943, 'deaf': 2944, 'mask': 2945, 'silence': 2946, 'window': 2947, 'Cold': 2948, 'Francis': 2949, 'Gary': 2950, 'Powers': 2951, 'Soviet': 2952, 'U2': 2953, 'court': 2954, 'defend': 2955, 'exchange': 2956, 'facilitate': 2957, 'Lego': 2958, 'Special': 2959, 'construction': 2960, 'glue': 2961, 'ordinary': 2962, 'prophesy': 2963, 'stasis': 2964, 'tyrant': 2965, '10': 2966, '1996': 2967, 'Edwin': 2968, 'Everest': 2969, 'Fischer': 2970, 'Hall': 2971, 'May': 2972, 'Mount': 2973, 'Rob': 2974, 'ascend': 2975, 'arcade': 2976, 'declaration': 2977, 'misinterpret': 2978, '12th': 2979, 'Robin': 2980, 'balance': 2981, 'marauder': 2982, 'acquaintance': 2983, 'summon': 2984, '12': 2985, 'Barsoom': 2986, 'Civil': 2987, 'Finding': 2988, 'Transported': 2989, 'Woola': 2990, 'barbarians': 2991, 'barren': 2992, 'foot': 2993, 'savior': 2994, 'tall': 2995, 'cousin': 2996, 'kingpin': 2997, 'kitten': 2998, 'Congo': 2999, 'Returning': 3000, 'Terrier': 3001, 'minister': 3002, '1998': 3003, 'Jobs': 3004, 'backstage': 3005, 'digital': 3006, 'epicenter': 3007, 'iMac': 3008, 'iconic': 3009, 'launch': 3010, 'paint': 3011, 'portrait': 3012, 'product': 3013, 'u': 3014, 'unfolds': 3015, 'unveiling': 3016, 'Scottish': 3017, 'case': 3018, 'islander': 3019, 'plunder': 3020, 'whisky': 3021, '400': 3022, 'Lenny': 3023, 'bully': 3024, 'bus': 3025, 'costume': 3026, 'crasher': 3027, 'crazy': 3028, 'hometown': 3029, 'schizo': 3030, 'ski': 3031, 'sometimes': 3032, '20th': 3033, 'ageless': 3034, 'render': 3035, 'Government': 3036, 'cure': 3037, 'temper': 3038, 'whenever': 3039, 'comedy': 3040, 'optional': 3041, 'participation': 3042, 'session': 3043, 'tropical': 3044, 'absolutely': 3045, 'anything': 3046, 'confer': 3047, 'eccentric': 3048, 'performer': 3049, 'stripper': 3050, 'teach': 3051, 'Bob': 3052, 'Herb': 3053, 'Kevin': 3054, 'Minions': 3055, 'Overkill': 3056, 'Scarlet': 3057, 'Stuart': 3058, 'alongside': 3059, 'hatch': 3060, 'HEMDALE': 3061, 'JENNIFER': 3062, 'PAUL': 3063, 'Bronson': 3064, 'Charles': 3065, 'ego': 3066, 'post': 3067, 'prison': 3068, 'spend': 3069, 'supplant': 3070, 'grand': 3071, 'mastermind': 3072, 'pawn': 3073, 'profoundly': 3074, 'sweetheart': 3075, 'dinner': 3076, '2001': 3077, '2011': 3078, '6': 3079, 'Laden': 3080, 'Osama': 3081, 'Qaeda': 3082, 'September': 3083, 'al': 3084, 'bin': 3085, 'Rapunzel': 3086, 'haired': 3087, 'magically': 3088, 'spent': 3089, 'tower': 3090, 'Snow': 3091, 'dear': 3092, 'district': 3093, 'hang': 3094, 'rebellion': 3095, 'Griswold': 3096, 'Rusty': 3097, 'Walley': 3098, 'reconnect': 3099, 'spice': 3100, 'retire': 3101, 'Center': 3102, 'command': 3103, 'humiliate': 3104, 'performance': 3105, 'status': 3106, 'Mike': 3107, 'Monsters': 3108, 'Sulley': 3109, 'necessarily': 3110, 'businesswoman': 3111, 'caught': 3112, 'rap': 3113, 'Arthur': 3114, 'Bishop': 3115, 'foe': 3116, 'kidnaps': 3117, 'Allison': 3118, 'Bryton': 3119, 'Howard': 3120, 'Howe': 3121, 'Manitoba': 3122, 'Wallace': 3123, 'backwoods': 3124, 'interview': 3125, 'podcaster': 3126, 'seafarer': 3127, 'boiler': 3128, 'clash': 3129, 'headhunter': 3130, 'own': 3131, 'placement': 3132, 'revolve': 3133, 'Briony': 3134, 'Fledgling': 3135, 'Tallis': 3136, 'accuses': 3137, 'commit': 3138, 'irrevocably': 3139, 'thirteen': 3140, 'Deathly': 3141, 'Hallows': 3142, 'object': 3143, 'wizarding': 3144, 'arrives': 3145, 'carefully': 3146, 'cultivate': 3147, 'disrupt': 3148, 'indefinite': 3149, 'stay': 3150, 'sixteen': 3151, 'babysitting': 3152, 'customer': 3153, 'fool': 3154, 'guys': 3155, 'population': 3156, 'Artemisia': 3157, 'Persian': 3158, 'Themistokles': 3159, 'Xerxes': 3160, 'general': 3161, 'mortal': 3162, 'navy': 3163, 'Banning': 3164, 'Minister': 3165, 'funeral': 3166, 'Benjamin': 3167, 'Button': 3168, 'Tells': 3169, 'backwards': 3170, 'Sin': 3171, 'boil': 3172, 'citizen': 3173, 'revile': 3174, 'Bourne': 3175, 'Jason': 3176, 'dodge': 3177, 'searching': 3178, 'clean': 3179, 'necrophilia': 3180, 'pedophilia': 3181, 'snuff': 3182, 'Barnes': 3183, 'Charlie': 3184, 'Police': 3185, 'Presidential': 3186, 'Purge': 3187, 'Roan': 3188, 'Senator': 3189, 'Sergeant': 3190, 'candidate': 3191, 'eliminate': 3192, 'vow': 3193, 'companion': 3194, 'differently': 3195, 'idiot': 3196, 'recall': 3197, 'rest': 3198, 'revisit': 3199, 'Derek': 3200, 'Hansel': 3201, 'Rome': 3202, 'lure': 3203, 'Gerry': 3204, 'Lane': 3205, 'Nations': 3206, 'Zombie': 3207, 'pandemic': 3208, 'toppling': 3209, 'traverse': 3210, 'Kremlin': 3211, 'implicate': 3212, 'cerebral': 3213, 'bipolar': 3214, 'borderline': 3215, 'disorder': 3216, 'junkie': 3217, 'manipulate': 3218, 'promotion': 3219, 'intertwine': 3220, '2004': 3221, 'Thailand': 3222, 'tourist': 3223, 'tsunami': 3224, 'Ass': 3225, 'Kick': 3226, 'Mist': 3227, 'Red': 3228, 'crusader': 3229, 'masked': 3230, 'supervillains': 3231, 'open': 3232, 'solo': 3233, 'songwriter': 3234, 'Kansas': 3235, 'Oz': 3236, 'Wicked': 3237, 'Witches': 3238, 'king': 3239, 'prophecy': 3240, 'Brooklyn': 3241, 'choose': 3242, 'country': 3243, 'immigrant': 3244, 'romance': 3245, 'frustrate': 3246, 'idealized': 3247, 'strangely': 3248, 'version': 3249, 'chart': 3250, 'contemporary': 3251, 'evolution': 3252, 'period': 3253, 'span': 3254, 'List': 3255, 'Logan': 3256, 'Paul': 3257, 'Peyton': 3258, 'Thinning': 3259, 'apocalyptic': 3260, 'aptitude': 3261, 'dictate': 3262, 'Hill': 3263, 'Rose': 3264, 'Silent': 3265, 'desolate': 3266, 'MO': 3267, 'SLO': 3268, 'executioner': 3269, 'futuristic': 3270, 'judge': 3271, 'jury': 3272, 'bush': 3273, 'foster': 3274, 'national': 3275, 'Baymax': 3276, 'Hamada': 3277, 'Hiro': 3278, 'inflatable': 3279, 'plus': 3280, 'prodigy': 3281, 'robot': 3282, 'sized': 3283, 'far': 3284, 'outcasted': 3285, 'peer': 3286, 'prom': 3287, 'religious': 3288, 'unleashes': 3289, 'aware': 3290, 'health': 3291, 'tie': 3292, 'banker': 3293, 'crash': 3294, 'demolition': 3295, 'investment': 3296, 'rep': 3297, 'aboard': 3298, 'knowledge': 3299, 'spaceship': 3300, 'Disgraced': 3301, 'Service': 3302, 'kidnapper': 3303, 'presidential': 3304, 'Aliens': 3305, 'Guardians': 3306, 'Number': 3307, 'list': 3308, 'numerical': 3309, 'brutally': 3310, 'custody': 3311, 'lie': 3312, 'news': 3313, 'receives': 3314, 'Canada': 3315, 'bos': 3316, 'deportation': 3317, 'pushy': 3318, 'visa': 3319, 'Darnell': 3320, 'Lewis': 3321, 'Quentin': 3322, 'fraud': 3323, 'prep': 3324, 'Hawaii': 3325, 'careless': 3326, 'convinces': 3327, 'loyal': 3328, 'plastic': 3329, 'pose': 3330, 'surgeon': 3331, 'told': 3332, 'weekend': 3333, 'Connecticut': 3334, 'suburb': 3335, 'feeling': 3336, 'longtime': 3337, 'actually': 3338, 'doll': 3339, 'nanny': 3340, 'size': 3341, 'strict': 3342, 'violates': 3343, 'Acclaimed': 3344, 'Deborah': 3345, 'Holocaust': 3346, 'Lipstadt': 3347, 'denier': 3348, 'historian': 3349, 'historical': 3350, 'libel': 3351, 'occur': 3352, 'assignment': 3353, 'elude': 3354, 'surprising': 3355, 'taboo': 3356, 'temporal': 3357, 'Delaware': 3358, 'Madison': 3359, 'R': 3360, 'Stine': 3361, 'imaginary': 3362, 'Moriarty': 3363, 'Professor': 3364, 'adversary': 3365, 'fierce': 3366, 'outwit': 3367, 'sidekick': 3368, 'defector': 3369, 'alike': 3370, 'spot': 3371, 'biotechnology': 3372, 'expose': 3373, 'extraterrestrial': 3374, 'kindred': 3375, 'suddenly': 3376, 'detectives': 3377, 'idolize': 3378, 'planned': 3379, 'quite': 3380, 'Far': 3381, 'Frank': 3382, 'Lucas': 3383, 'smuggle': 3384, '15': 3385, 'Antoinette': 3386, 'Marie': 3387, 'Versailles': 3388, 'XVI': 3389, 'betrothal': 3390, 'fat': 3391, 'ill': 3392, 'retell': 3393, 'annihilate': 3394, 'catastrophe': 3395, 'Blood': 3396, 'Half': 3397, 'Prince': 3398, 'mark': 3399, 'property': 3400, 'sixth': 3401, 'Acting': 3402, 'Tehran': 3403, 'fiction': 3404, 'science': 3405, 'scout': 3406, '1988': 3407, 'Eddie': 3408, 'Edwards': 3409, 'Olympics': 3410, 'charm': 3411, 'jumper': 3412, 'notoriously': 3413, 'tenacious': 3414, 'underdog': 3415, 'Berlin': 3416, 'absorb': 3417, 'conduct': 3418, 'bump': 3419, 'crush': 3420, 'obsessed': 3421, 'subsequently': 3422, 'underneath': 3423, 'continuously': 3424, 'mentally': 3425, 'Consumed': 3426, 'Glamis': 3427, 'Macbeth': 3428, 'Scotland': 3429, 'Thane': 3430, 'spur': 3431, 'Devastated': 3432, 'Little': 3433, 'TV': 3434, 'recent': 3435, 'difference': 3436, 'elderly': 3437, 'pain': 3438, 'pleasure': 3439, 'suffering': 3440, 'content': 3441, 'email': 3442, 'equilibrium': 3443, 'phone': 3444, 'tremble': 3445, 'unveil': 3446, 'Bomb': 3447, 'Chuck': 3448, 'Find': 3449, 'angry': 3450, 'bird': 3451, 'flightless': 3452, 'green': 3453, 'outcast': 3454, 'pig': 3455, 'piggy': 3456, 'populate': 3457, 'Baltimore': 3458, 'Pleasantly': 3459, 'Tracy': 3460, 'Turnblad': 3461, 'integration': 3462, 'plump': 3463, 'Carolina': 3464, 'Southport': 3465, 'widower': 3466, 'Nicky': 3467, 'accomplished': 3468, 'fatale': 3469, 'femme': 3470, 'midst': 3471, 'cook': 3472, 'kitchen': 3473, 'rat': 3474, 'unusual': 3475, 'economic': 3476, 'empty': 3477, 'epidemic': 3478, 'left': 3479, 'normal': 3480, 'swept': 3481, 'lone': 3482, 'sacred': 3483, 'rampage': 3484, 'athletes': 3485, 'extraordinary': 3486, 'sport': 3487, 'string': 3488, 'unprecedented': 3489, 'However': 3490, 'hour': 3491, 'process': 3492, 'seduce': 3493, 'Years': 3494, 'sole': 3495, 'valiantly': 3496, '1969': 3497, 'J': 3498, 'K': 3499, 'subsequent': 3500, 'summer': 3501, 'unexplained': 3502, 'attorney': 3503, 'justice': 3504, 'plea': 3505, 'Carl': 3506, 'Falls': 3507, 'Fredricksen': 3508, 'Paradise': 3509, 'Seventy': 3510, 'balloon': 3511, 'eight': 3512, 'equip': 3513, 'inadvertently': 3514, 'stowaway': 3515, 'Gladers': 3516, 'Maze': 3517, 'landscape': 3518, 'obstacle': 3519, 'develop': 3520, 'intimate': 3521, 'photographer': 3522, 'field': 3523, 'supremacist': 3524, 'Philip': 3525, 'conductor': 3526, 'invitation': 3527, 'orchestra': 3528, 'Infinite': 3529, 'arise': 3530, 'platform': 3531, 'possibility': 3532, 'station': 3533, 'fanaticism': 3534, 'heel': 3535, 'intrigue': 3536, 'metropolis': 3537, 'multicultural': 3538, 'straightforward': 3539, 'teem': 3540, 'Chon': 3541, 'Mexican': 3542, 'Pot': 3543, 'cartel': 3544, 'grower': 3545, 'offbeat': 3546, 'interconnect': 3547, 'pitch': 3548, 'washed': 3549, 'Bruno': 3550, 'commandant': 3551, 'concentration': 3552, 'fence': 3553, 'startle': 3554, 'Ultimately': 3555, 'coax': 3556, 'frame': 3557, 'learning': 3558, 'marksman': 3559, 'infect': 3560, 'suicide': 3561, 'Wild': 3562, 'cannibalistic': 3563, 'captives': 3564, 'dweller': 3565, 'Beach': 3566, 'Kings': 3567, 'Myrtle': 3568, 'Tampa': 3569, 'blow': 3570, 'bow': 3571, 'advance': 3572, 'financial': 3573, 'mill': 3574, 'standing': 3575, '600': 3576, 'Egyptian': 3577, 'Moses': 3578, 'Pharaoh': 3579, 'Ramses': 3580, 'cycle': 3581, 'defiant': 3582, 'monumental': 3583, 'Chappie': 3584, 'droid': 3585, 'mechanized': 3586, 'patrol': 3587, 'Erebor': 3588, 'Gandalf': 3589, 'dwarf': 3590, 'Kainene': 3591, 'Nigeria': 3592, 'Olanna': 3593, 'Sisters': 3594, 'diverge': 3595, 'independent': 3596, 'large': 3597, 'loom': 3598, 'republic': 3599, 'Anthropoid': 3600, 'Final': 3601, 'General': 3602, 'Heydrich': 3603, 'Himmler': 3604, 'Hitler': 3605, 'Operation': 3606, 'Reich': 3607, 'Reinhard': 3608, 'SS': 3609, 'Solution': 3610, 'main': 3611, 'third': 3612, 'trafficking': 3613, '10th': 3614, 'Kievan': 3615, 'Novgorod': 3616, 'Rus': 3617, 'Viking': 3618, 'Vladimir': 3619, 'frozen': 3620, 'coverage': 3621, 'wartime': 3622, 'Lee': 3623, 'Wong': 3624, 'Young': 3625, 'fu': 3626, 'kung': 3627, 'master': 3628, '2154': 3629, 'equality': 3630, 'polarize': 3631, 'resides': 3632, 'ruin': 3633, 'activists': 3634, 'deed': 3635, 'rain': 3636, 'unpunished': 3637, 'appearance': 3638, 'beset': 3639, 'Ludlum': 3640, 'expansion': 3641, 'trigger': 3642, 'Provence': 3643, 'chateau': 3644, 'inherit': 3645, 'lay': 3646, 'renovate': 3647, 'vineyard': 3648, 'demonic': 3649, 'unfriends': 3650, 'Orleans': 3651, 'bomber': 3652, 'experimental': 3653, 'ferry': 3654, 'captor': 3655, 'logic': 3656, 'table': 3657, 'Dickinson': 3658, 'Emily': 3659, 'poet': 3660, 'schoolgirl': 3661, 'unrecognized': 3662, 'Fresh': 3663, 'dig': 3664, 'homicide': 3665, 'trained': 3666, 'deeply': 3667, 'pretend': 3668, '2008': 3669, 'Crimes': 3670, 'Grann': 3671, 'True': 3672, 'article': 3673, 'eerily': 3674, 'postmodern': 3675, 'similar': 3676, 'slain': 3677, '60': 3678, 'watch': 3679, 'ghostwriter': 3680, 'jeopardy': 3681, 'memoir': 3682, 'prime': 3683, '100': 3684, 'access': 3685, 'enable': 3686, 'lot': 3687, 'pill': 3688, 'user': 3689, 'being': 3690, 'fi': 3691, 'ops': 3692, 'sci': 3693, 'ease': 3694, 'intend': 3695, 'widow': 3696, 'blossom': 3697, 'escort': 3698, 'morality': 3699, 'cult': 3700, 'pursued': 3701, 'improv': 3702, 'troupe': 3703, 'Nineteen': 3704, 'Wepner': 3705, 'heavyweight': 3706, '59': 3707, 'Allowance': 3708, 'Employment': 3709, 'Support': 3710, 'bureaucratic': 3711, 'carpenter': 3712, 'suffered': 3713, 'bid': 3714, 'condo': 3715, 'luxurious': 3716, 'nasty': 3717, 'proceeds': 3718, 'significant': 3719, 'ugly': 3720, '1967': 3721, 'Court': 3722, 'Loving': 3723, 'Mildred': 3724, 'Richard': 3725, 'Supreme': 3726, 'Virginia': 3727, 'interracial': 3728, 'legal': 3729, 'alternate': 3730, 'alters': 3731, 'harness': 3732, 'teleport': 3733, 'farm': 3734, 'starvation': 3735, 'survivalist': 3736, 'Colonia': 3737, 'Dignidad': 3738, 'draws': 3739, 'nobody': 3740, 'sect': 3741, 'torrid': 3742, 'unfaithful': 3743, '20': 3744, 'brings': 3745, 'gift': 3746, 'light': 3747, 'tailspin': 3748, 'thrown': 3749, 'Tepes': 3750, 'Turks': 3751, 'Vlad': 3752, 'feared': 3753, 'obtain': 3754, '1820': 3755, 'Dick': 3756, 'Moby': 3757, 'sink': 3758, 'whale': 3759, 'Bauers': 3760, 'Forgotten': 3761, 'Private': 3762, 'definition': 3763, 'dumbed': 3764, 'easily': 3765, 'guinea': 3766, 'hibernation': 3767, 'incredibly': 3768, 'Latin': 3769, 'renegade': 3770, 'Book': 3771, 'Dead': 3772, 'nearby': 3773, 'unwittingly': 3774, '8': 3775, 'Ellison': 3776, 'Oswalt': 3777, 'Washed': 3778, 'box': 3779, 'research': 3780, 'suggest': 3781, 'whole': 3782, 'Evil': 3783, 'Huntsman': 3784, 'protector': 3785, 'vanquish': 3786, 'Neverland': 3787, 'Pan': 3788, 'hidden': 3789, 'Faced': 3790, 'pregnancy': 3791, 'regard': 3792, 'unborn': 3793, 'unplanned': 3794, 'Arabia': 3795, 'Saudi': 3796, 'failed': 3797, 'monarch': 3798, 'recoup': 3799, 'Financial': 3800, 'host': 3801, 'investor': 3802, 'irate': 3803, 'Carly': 3804, 'timing': 3805, 'Andalasia': 3806, 'maiden': 3807, 'prepare': 3808, 'Jules': 3809, 'Ostin': 3810, 'Seizing': 3811, 'Whittaker': 3812, 'found': 3813, 'intern': 3814, 'VW': 3815, 'pageant': 3816, 'Pazienza': 3817, 'Vinny': 3818, 'comeback': 3819, 'fatal': 3820, 'incredible': 3821, 'inspirational': 3822, 'Perseus': 3823, 'Zeus': 3824, 'heaven': 3825, 'minion': 3826, '1952': 3827, 'Cape': 3828, 'Coast': 3829, 'Cod': 3830, 'Guard': 3831, 'blizzard': 3832, 'tanker': 3833, 'born': 3834, 'creation': 3835, 'designer': 3836, 'virtual': 3837, '74th': 3838, 'Mellark': 3839, 'Peeta': 3840, 'spark': 3841, '1982': 3842, 'Katie': 3843, 'Marks': 3844, 'eventually': 3845, 'avenge': 3846, 'Aang': 3847, 'Avatars': 3848, 'Follows': 3849, 'Kingdom': 3850, 'Nation': 3851, 'Tribes': 3852, 'Water': 3853, 'successor': 3854, 'frantic': 3855, 'married': 3856, 'sex': 3857, 'tape': 3858, 'whereabouts': 3859, 'expect': 3860, 'interconnected': 3861, 'surprise': 3862, 'thrill': 3863, 'Beane': 3864, 'Oakland': 3865, 'acquire': 3866, 'analysis': 3867, 'employ': 3868, 'generate': 3869, 'lean': 3870, 'Blackheart': 3871, 'Blaze': 3872, 'Johnny': 3873, 'Stunt': 3874, 'devil': 3875, 'hellblazing': 3876, 'hungry': 3877, 'motorcyclist': 3878, '47': 3879, 'Olympian': 3880, 'Zamperini': 3881, 'crewman': 3882, 'raft': 3883, 'Greece': 3884, 'Hyperion': 3885, 'Theseus': 3886, '2057': 3887, 'Sun': 3888, 'fission': 3889, 'reignite': 3890, 'Granted': 3891, 'Merida': 3892, 'Princess': 3893, 'archery': 3894, 'beastly': 3895, 'bravery': 3896, 'custom': 3897, 'defy': 3898, 'undo': 3899, 'wish': 3900, 'Saginowski': 3901, 'entwine': 3902, 'Viola': 3903, 'soccer': 3904, 'teammates': 3905, 'Brad': 3906, 'Dad': 3907, 'Dusty': 3908, 'Mayron': 3909, 'Whitaker': 3910, 'biological': 3911, 'stepchildren': 3912, 'upside': 3913, 'guardian': 3914, 'secrecy': 3915, 'arrive': 3916, 'club': 3917, 'coerce': 3918, 'conflicted': 3919, 'underground': 3920, 'hooligan': 3921, 'Astronaut': 3922, 'Bell': 3923, 'GERTY': 3924, 'Moon': 3925, 'Sam': 3926, 'diminish': 3927, 'parcel': 3928, 'quintessentially': 3929, 'toward': 3930, 'Megamind': 3931, 'Metro': 3932, 'loses': 3933, 'purpose': 3934, 'supervillain': 3935, '1949': 3936, 'Cohen': 3937, 'Mara': 3938, 'Mickey': 3939, 'mobster': 3940, 'ready': 3941, 'reunites': 3942, 'wayward': 3943, 'arcs': 3944, 'misread': 3945, 'Continuing': 3946, 'Po': 3947, 'awesomeness': 3948, 'closer': 3949, 'hugely': 3950, 'Conor': 3951, 'bedroom': 3952, 'rugby': 3953, 'Ozark': 3954, 'hack': 3955, 'intact': 3956, 'terrain': 3957, 'unflinching': 3958, 'awful': 3959, 'boss': 3960, 'conspire': 3961, 'happiness': 3962, 'household': 3963, 'insert': 3964, 'Hellboy': 3965, 'mythical': 3966, 'Lena': 3967, 'Together': 3968, 'longs': 3969, 'coach': 3970, 'joking': 3971, 'outrageous': 3972, 'practical': 3973, 'Centers': 3974, 'purgatory': 3975, 'weigh': 3976, 'Ford': 3977, 'Missouri': 3978, 'bandit': 3979, 'outlaw': 3980, 'resentful': 3981, 'church': 3982, 'dedicate': 3983, 'expectation': 3984, 'intimacy': 3985, 'unrealistic': 3986, 'anti': 3987, 'unruly': 3988, '2307': 3989, 'sent': 3990, 'Confederate': 3991, 'deserter': 3992, 'disillusion': 3993, 'militia': 3994, 'flaw': 3995, 'imagine': 3996, 'Life': 3997, 'Malcolm': 3998, 'geek': 3999, 'clans': 4000, 'commences': 4001, 'specie': 4002, 'broken': 4003, 'grieve': 4004, 'hop': 4005, 'nature': 4006, 'Camp': 4007, 'Crystal': 4008, 'Voorhees': 4009, 'Bryan': 4010, 'Ex': 4011, 'Mills': 4012, 'tracked': 4013, 'witnessed': 4014, 'Douglas': 4015, 'Quaid': 4016, 'Rekall': 4017, 'implanted': 4018, 'Magneto': 4019, 'Xavier': 4020, 'mutation': 4021, 'treat': 4022, 'Desperate': 4023, 'Stanford': 4024, 'educate': 4025, 'prostitute': 4026, 'acquit': 4027, 'favorite': 4028, '1990s': 4029, 'Parkinson': 4030, 'Pfizer': 4031, 'Pittsburgh': 4032, 'suffer': 4033, 'Aaron': 4034, 'Jong': 4035, 'Kim': 4036, 'Korean': 4037, 'Pyongyang': 4038, 'Rapoport': 4039, 'Skylark': 4040, 'Tonight': 4041, 'tabloid': 4042, 'un': 4043, 'Han': 4044, 'attention': 4045, 'clutch': 4046, 'Internet': 4047, 'collect': 4048, 'Stone': 4049, 'doorstep': 4050, 'commuter': 4051, 'minute': 4052, 'County': 4053, 'Depression': 4054, 'Franklin': 4055, 'angle': 4056, 'bootleg': 4057, 'deputy': 4058, 'profit': 4059, 'chat': 4060, 'Jim': 4061, 'Michelle': 4062, 'Michigan': 4063, 'Stifler': 4064, 'reunion': 4065, 'poise': 4066, 'Six': 4067, 'distress': 4068, 'extremity': 4069, 'Native': 4070, 'dad': 4071, 'deadbeat': 4072, 'half': 4073, 'Frenchman': 4074, 'WWI': 4075, 'fiancé': 4076, 'flower': 4077, 'grave': 4078, 'majority': 4079, 'outbreak': 4080, 'quarantine': 4081, '1972': 4082, 'Disgruntled': 4083, 'Gran': 4084, 'Hmong': 4085, 'Kowalski': 4086, 'Torino': 4087, 'Walt': 4088, 'Adam': 4089, 'Bradley': 4090, 'Cooper': 4091, 'Michelin': 4092, 'diva': 4093, 'redeem': 4094, 'spearhead': 4095, 'card': 4096, 'phantom': 4097, 'purchase': 4098, 'Lucy': 4099, 'university': 4100, 'unspoken': 4101, 'Dhampir': 4102, 'Hathaway': 4103, 'Moroi': 4104, 'Strigoi': 4105, 'Vampires': 4106, 'bloodthirsty': 4107, 'discreetly': 4108, 'Barker': 4109, 'Lovett': 4110, 'Mrs': 4111, 'Sweeney': 4112, 'Todd': 4113, 'barber': 4114, 'k': 4115, 'musical': 4116, 'partnership': 4117, 'tenant': 4118, 'psychic': 4119, 'album': 4120, 'failure': 4121, '2014': 4122, 'Blakemore': 4123, 'Catto': 4124, 'Clover': 4125, 'Ellie': 4126, 'Kendrick': 4127, 'Somerset': 4128, 'Baby': 4129, 'Boy': 4130, 'Dillinger': 4131, 'Face': 4132, 'Feds': 4133, 'Floyd': 4134, 'Nelson': 4135, 'Pretty': 4136, 'boom': 4137, 'Mason': 4138, 'arrival': 4139, 'mutate': 4140, 'shadow': 4141, 'turtle': 4142, 'childbirth': 4143, 'journal': 4144, 'midwife': 4145, 'rape': 4146, 'bury': 4147, 'marijuana': 4148, 'paper': 4149, 'server': 4150, 'junior': 4151, 'personally': 4152, 'professionally': 4153, 'foul': 4154, 'mouth': 4155, 'cheating': 4156, 'philosophy': 4157, 'Alexei': 4158, 'Count': 4159, 'Karenina': 4160, 'Petersburg': 4161, 'St': 4162, 'Vronsky': 4163, 'dash': 4164, 'evidence': 4165, 'psychoanalyst': 4166, 'satanic': 4167, 'Newlywed': 4168, 'Tami': 4169, 'Ted': 4170, 'qualify': 4171, 'bodybuilder': 4172, 'extortion': 4173, 'terribly': 4174, 'businessmen': 4175, 'diamond': 4176, 'fisherman': 4177, 'match': 4178, 'priceless': 4179, 'syndicate': 4180, 'wit': 4181, 'controversial': 4182, 'trial': 4183, 'Stalin': 4184, 'Union': 4185, 'disgraced': 4186, 'investigates': 4187, 'handle': 4188, 'mate': 4189, 'maverick': 4190, 'odds': 4191, 'Corps': 4192, 'Green': 4193, 'Hal': 4194, 'Lantern': 4195, 'Reckless': 4196, 'bestows': 4197, 'inducts': 4198, 'Events': 4199, 'blackmail': 4200, 'unfortunate': 4201, 'storm': 4202, 'supermarket': 4203, 'incarcerated': 4204, 'secure': 4205, 'skills': 4206, 'structural': 4207, '5': 4208, 'Rosie': 4209, 'possibly': 4210, 'DUFF': 4211, 'Designated': 4212, 'Fat': 4213, 'Friend': 4214, 'Ugly': 4215, 'counterpart': 4216, 'instigates': 4217, 'label': 4218, 'peck': 4219, 'prettier': 4220, '1920': 4221, '13': 4222, 'Coin': 4223, 'District': 4224, 'advice': 4225, 'courage': 4226, 'leadership': 4227, 'shatters': 4228, 'spread': 4229, 'anyone': 4230, 'vicious': 4231, 'Frederica': 4232, 'Susan': 4233, 'Vernon': 4234, 'matchmaker': 4235, 'naturally': 4236, 'residence': 4237, 'temporary': 4238, 'Clary': 4239, 'Fray': 4240, 'Shadow': 4241, 'descends': 4242, 'embarks': 4243, 'fateful': 4244, 'Britain': 4245, 'George': 4246, 'Ireland': 4247, 'VI': 4248, 'ascension': 4249, 'speech': 4250, 'therapist': 4251, 'unsure': 4252, 'worthy': 4253, 'Bobby': 4254, 'Sands': 4255, 'hunger': 4256, 'republican': 4257, 'abilities': 4258, 'annihilator': 4259, 'swear': 4260, 'teleportation': 4261, 'Andy': 4262, 'Woody': 4263, 'convince': 4264, 'mistakenly': 4265, 'toy': 4266, 'Smiley': 4267, 'bleak': 4268, 'semi': 4269, 'facility': 4270, 'Jug': 4271, 'Kaira': 4272, 'bud': 4273, 'cinematographer': 4274, 'comfort': 4275, 'imperfection': 4276, 'thinker': 4277, 'unconventional': 4278, 'Ernest': 4279, 'Fitzgerald': 4280, 'Hemingway': 4281, 'Perkins': 4282, 'Scribner': 4283, 'Wolfe': 4284, 'oversee': 4285, 'Pompeii': 4286, 'Vesuvius': 4287, 'betroth': 4288, 'crumbles': 4289, 'erupt': 4290, 'gladiator': 4291, 'Bengal': 4292, 'fearsome': 4293, 'hurtle': 4294, 'dog': 4295, 'grown': 4296, 'biologist': 4297, 'fundamentally': 4298, 'laboratory': 4299, 'molecular': 4300, 'Gabriel': 4301, 'McClane': 4302, 'Washington': 4303, 'cyber': 4304, 'disapprove': 4305, 'gig': 4306, 'psychopathic': 4307, 'Bennett': 4308, 'Lori': 4309, 'bringing': 4310, 'teddy': 4311, 'assailant': 4312, '2': 4313, 'Darwin': 4314, 'cattle': 4315, 'firsthand': 4316, 'inherits': 4317, 'northern': 4318, 'pacts': 4319, 'reluctantly': 4320, 'takeover': 4321, 'unforgiving': 4322, 'egocentric': 4323, 'killing': 4324, 'unrelated': 4325, 'Cutter': 4326, 'cellar': 4327, 'surgery': 4328, 'Big': 4329, 'Palmer': 4330, 'bind': 4331, 'profile': 4332, 'terrorism': 4333, 'Transformers': 4334, 'Witwicky': 4335, 'drag': 4336, 'symbol': 4337, 'red': 4338, 'shipwreck': 4339, 'Manolo': 4340, 'fantastic': 4341, 'fulfil': 4342, 'Middle': 4343, 'Twins': 4344, 'gotten': 4345, 'honeymoon': 4346, 'lady': 4347, 'Emperor': 4348, 'Penguins': 4349, 'cannot': 4350, 'penguin': 4351, 'tap': 4352, 'Ari': 4353, 'Chase': 4354, 'Gold': 4355, 'Movie': 4356, 'Turtle': 4357, 'Vince': 4358, 'Vincent': 4359, 'debut': 4360, 'directorial': 4361, 'isolated': 4362, 'creator': 4363, 'flood': 4364, 'momentous': 4365, 'undertake': 4366, 'whatever': 4367, 'Seligman': 4368, 'aspect': 4369, 'continuation': 4370, 'darker': 4371, 'delf': 4372, '1': 4373, 'hike': 4374, 'mile': 4375, 'undertaken': 4376, 'Fourth': 4377, 'July': 4378, 'basketball': 4379, 'teammate': 4380, 'Blair': 4381, 'Heather': 4382, 'Witch': 4383, 'inhabited': 4384, 'vanished': 4385, 'Work': 4386, 'Barnabas': 4387, 'Collins': 4388, 'ancestral': 4389, 'dysfunctional': 4390, 'imprisoned': 4391, 'add': 4392, 'complication': 4393, 'Vienna': 4394, 'Peterson': 4395, 'introduces': 4396, 'Google': 4397, 'compete': 4398, 'coveted': 4399, 'employment': 4400, 'internship': 4401, 'savvy': 4402, 'torpedo': 4403, '51': 4404, 'Area': 4405, 'cantankerous': 4406, 'Christianity': 4407, 'Da': 4408, 'Louvre': 4409, 'Vinci': 4410, 'foundation': 4411, 'painting': 4412, 'Joseph': 4413, 'arrangement': 4414, 'fifteen': 4415, 'retain': 4416, '1931': 4417, 'Cabret': 4418, 'Hugo': 4419, 'automaton': 4420, 'wrap': 4421, 'boarding': 4422, 'Intelligence': 4423, 'supervisor': 4424, 'unclear': 4425, 'indulge': 4426, 'Connell': 4427, 'Evy': 4428, 'Qin': 4429, 'Rick': 4430, 'famed': 4431, 'mummy': 4432, 'shift': 4433, 'unearths': 4434, 'forget': 4435, 'forgive': 4436, 'insider': 4437, 'rebrand': 4438, 'screw': 4439, 'titan': 4440, 'Arcel': 4441, 'Duran': 4442, 'Roberto': 4443, 'equally': 4444, 'closure': 4445, 'counselor': 4446, 'retired': 4447, 'superior': 4448, 'unreciprocated': 4449, 'unresolved': 4450, 'Marshal': 4451, 'murderer': 4452, 'stubborn': 4453, 'Carter': 4454, 'Caught': 4455, 'Cole': 4456, 'DJ': 4457, 'fame': 4458, 'announces': 4459, 'cowardly': 4460, 'farmer': 4461, 'slinger': 4462, 'befall': 4463, 'bolster': 4464, 'seance': 4465, 'Fleece': 4466, 'Golden': 4467, 'Poseidon': 4468, 'Sea': 4469, 'safe': 4470, 'intent': 4471, 'ladder': 4472, 'manipulative': 4473, 'prosecute': 4474, 'success': 4475, 'exonerate': 4476, 'Belgium': 4477, 'Bruges': 4478, 'Guilt': 4479, 'stricken': 4480, 'operatives': 4481, 'wage': 4482, 'Baarová': 4483, 'Lída': 4484, 'ail': 4485, 'defends': 4486, 'psychiatrist': 4487, 'charismatic': 4488, 'infiltrates': 4489, 'barbarian': 4490, 'Micky': 4491, 'Ward': 4492, 'pro': 4493, 'creative': 4494, 'piece': 4495, 'quit': 4496, 'truck': 4497, 'Katherine': 4498, 'Kenya': 4499, 'Powell': 4500, 'dispute': 4501, 'implication': 4502, 'terrorists': 4503, 'Jerry': 4504, 'Rachel': 4505, 'Threatening': 4506, 'childlike': 4507, 'laughter': 4508, 'let': 4509, 'Ender': 4510, 'Formics': 4511, 'Military': 4512, 'Wiggin': 4513, 'nearly': 4514, 'Famed': 4515, 'Indiana': 4516, 'Skulls': 4517, 'adventurer': 4518, 'archaeologist': 4519, 'artifact': 4520, 'entangle': 4521, 'Margo': 4522, 'block': 4523, 'valuable': 4524, 'gender': 4525, 'reassignment': 4526, 'undergone': 4527, 'hapless': 4528, 'learns': 4529, 'Apartment': 4530, 'Cleveland': 4531, 'Heep': 4532, 'bedtime': 4533, 'pool': 4534, 'superintendent': 4535, 'Izzi': 4536, 'Tommy': 4537, 'breakthrough': 4538, 'mortality': 4539, 'Mater': 4540, 'Prix': 4541, 'championship': 4542, 'intriguing': 4543, 'overseas': 4544, 'rocky': 4545, 'Hell': 4546, 'carnival': 4547, 'Later': 4548, 'approach': 4549, 'blonde': 4550, 'MRS': 4551, 'capable': 4552, 'degree': 4553, 'dump': 4554, 'girly': 4555, 'gymnastics': 4556, 'G': 4557, 'Hardy': 4558, 'Ramanujan': 4559, 'Srinivasa': 4560, 'academic': 4561, 'coma': 4562, 'consciousness': 4563, 'healthy': 4564, 'mogul': 4565, 'neither': 4566, 'procedure': 4567, 'shady': 4568, 'confidant': 4569, 'stick': 4570, '2009': 4571, 'Alabama': 4572, 'MV': 4573, 'Maersk': 4574, 'Phillips': 4575, 'Somali': 4576, 'cargo': 4577, 'flag': 4578, 'hijack': 4579, 'hundred': 4580, 'pirate': 4581, 'diary': 4582, 'extend': 4583, 'McGrath': 4584, 'combine': 4585, 'tremendous': 4586, 'turbo': 4587, 'Dracula': 4588, 'Mavis': 4589, 'grandson': 4590, 'Hancock': 4591, 'consider': 4592, 'image': 4593, 'improve': 4594, 'regularly': 4595, 'Manzoni': 4596, 'Normandy': 4597, 'fitting': 4598, 'habit': 4599, 'relocate': 4600, 'Lifelong': 4601, 'Miri': 4602, 'Zack': 4603, 'camera': 4604, 'flow': 4605, 'platonic': 4606, 'roll': 4607, 'psychologist': 4608, 'rooftop': 4609, 'strictly': 4610, 'Laos': 4611, 'Vietnam': 4612, 'Gru': 4613, 'gadgetry': 4614, 'lethal': 4615, 'Matthew': 4616, 'Scudder': 4617, 'murdered': 4618, 'crawl': 4619, 'pub': 4620, 'enthusiasts': 4621, 'yoga': 4622, 'Shih': 4623, 'Tzu': 4624, 'oddball': 4625, 'Beowulf': 4626, 'Denmark': 4627, 'Grendel': 4628, 'Ryan': 4629, 'covert': 4630, 'economy': 4631, '1408': 4632, 'Dolphin': 4633, 'Soon': 4634, 'confronts': 4635, 'debunk': 4636, 'fabled': 4637, 'genuine': 4638, 'specialize': 4639, 'Lit': 4640, 'borrow': 4641, 'gambler': 4642, 'loan': 4643, 'dagger': 4644, 'enables': 4645, 'sand': 4646, 'unknowingly': 4647, 'nice': 4648, 'typical': 4649, 'Botswana': 4650, 'Khama': 4651, 'Ruth': 4652, 'Seretse': 4653, 'Williams': 4654, 'diplomatic': 4655, 'infested': 4656, 'submarine': 4657, 'sunk': 4658, 'water': 4659, 'adopts': 4660, 'enthusiastic': 4661, 'favourite': 4662, 'overlord': 4663, 'persona': 4664, 'forebode': 4665, 'latch': 4666, 'niece': 4667, 'nine': 4668, 'predicament': 4669, 'raiding': 4670, 'resist': 4671, 'retaliation': 4672, 'urbane': 4673, 'negotiation': 4674, 'robber': 4675, 'firing': 4676, 'proclaim': 4677, 'Moab': 4678, 'Utah': 4679, 'boulder': 4680, 'canyoneering': 4681, 'climber': 4682, 'measure': 4683, 'cultist': 4684, 'shortly': 4685, 'vintage': 4686, 'Unbeknownst': 4687, 'elegant': 4688, 'farewell': 4689, 'simple': 4690, 'wait': 4691, 'Angellier': 4692, 'Falk': 4693, 'Lucile': 4694, 'Matthias': 4695, 'Schoenaerts': 4696, 'bloom': 4697, 'occupation': 4698, 'villager': 4699, 'von': 4700, 'expecting': 4701, 'Pit': 4702, 'comprise': 4703, 'unit': 4704, 'Christine': 4705, 'Chubbuck': 4706, 'depression': 4707, 'frustration': 4708, 'reporter': 4709, 'Drummer': 4710, 'Marine': 4711, 'accompany': 4712, 'Fu': 4713, 'Kung': 4714, 'convert': 4715, 'Rodriguez': 4716, 'Tarantino': 4717, 'exploitation': 4718, 'homage': 4719, 'preview': 4720, 'bombarded': 4721, 'catastrophic': 4722, 'evening': 4723, 'natural': 4724, 'somethings': 4725, 'Dixon': 4726, 'Line': 4727, 'Thirty': 4728, 'bell': 4729, 'champ': 4730, 'don': 4731, 'gloves': 4732, 'Greg': 4733, 'School': 4734, 'governess': 4735, 'mousy': 4736, 'softens': 4737, 'rekindles': 4738, 'treasure': 4739, 'democracy': 4740, 'lovingly': 4741, 'oppress': 4742, 'loft': 4743, 'penthouse': 4744, 'compromise': 4745, 'Forces': 4746, 'Israeli': 4747, 'stylist': 4748, 'reveals': 4749, 'Nova': 4750, 'Scotia': 4751, 'arthritic': 4752, 'hone': 4753, 'housekeeper': 4754, 'Dale': 4755, 'Kurt': 4756, 'harebrained': 4757, 'kidnapping': 4758, 'misguided': 4759, 'prompt': 4760, 'slick': 4761, 'Italy': 4762, 'already': 4763, 'collide': 4764, 'frog': 4765, 'kiss': 4766, 'waitress': 4767, 'barrel': 4768, 'freight': 4769, 'unmanned': 4770, 'airline': 4771, 'airliner': 4772, 'almost': 4773, 'Oldman': 4774, 'Virgil': 4775, 'antique': 4776, 'appreciated': 4777, 'auction': 4778, 'esteem': 4779, 'expert': 4780, 'Casey': 4781, 'Jonas': 4782, 'desperation': 4783, 'examines': 4784, 'Dodger': 4785, 'Jackie': 4786, 'Robinson': 4787, 'MIT': 4788, 'casinos': 4789, 'fact': 4790, 'winning': 4791, 'collaboration': 4792, 'disgrace': 4793, 'talent': 4794, 'Baze': 4795, 'Rodney': 4796, 'Russell': 4797, 'enforcement': 4798, 'enamor': 4799, 'painter': 4800, 'picture': 4801, 'tempestuous': 4802, 'Dragon': 4803, 'Lung': 4804, 'Tai': 4805, 'Warrior': 4806, 'bestow': 4807, 'mantle': 4808, 'mistake': 4809, 'obese': 4810, 'panda': 4811, 'supposedly': 4812, 'tyro': 4813, 'Barbershop': 4814, 'Calvin': 4815, 'surround': 4816, '2018': 4817, 'Skynet': 4818, 'eve': 4819, 'apply': 4820, 'tolerance': 4821, 'civilization': 4822, 'LAPD': 4823, 'detriment': 4824, 'impostor': 4825, 'obvious': 4826, 'stubbornly': 4827, 'Ally': 4828, 'split': 4829, 'Ishida': 4830, 'Nishimiya': 4831, 'Shoko': 4832, 'Shouya': 4833, 'especially': 4834, 'grade': 4835, 'hear': 4836, 'impair': 4837, 'revolves': 4838, 'Alexander': 4839, 'calamity': 4840, 'gum': 4841, 'horrible': 4842, 'sympathy': 4843, 'wonder': 4844, 'Ivan': 4845, 'Locke': 4846, 'boundary': 4847, 'horn': 4848, 'sprout': 4849, '1951': 4850, 'amid': 4851, 'cultural': 4852, 'disaffection': 4853, 'ongoing': 4854, 'repression': 4855, 'Twenty': 4856, 'basement': 4857, 'building': 4858, 'mock': 4859, 'psychology': 4860, 'randomly': 4861, 'situate': 4862, 'Heffley': 4863, 'Rodrick': 4864, 'misguide': 4865, 'fianceé': 4866, 'response': 4867, 'Ove': 4868, 'association': 4869, 'boisterous': 4870, 'enforce': 4871, 'retiree': 4872, 'spends': 4873, 'Goku': 4874, 'Piccolo': 4875, 'Son': 4876, 'orb': 4877, 'racing': 4878, 'unlimited': 4879, 'wielder': 4880, 'Dexter': 4881, 'Em': 4882, 'graduation': 4883, 'spending': 4884, 'mutual': 4885, 'inflicted': 4886, 'repopulate': 4887, 'lifeless': 4888, 'denial': 4889, 'socialite': 4890, 'Cobra': 4891, 'Joes': 4892, 'jeopardize': 4893, 'Ares': 4894, 'Hades': 4895, 'Titans': 4896, 'brave': 4897, 'Author': 4898, 'Disney': 4899, 'Mary': 4900, 'P': 4901, 'Poppins': 4902, 'Travers': 4903, 'adapt': 4904, 'screen': 4905, 'artificial': 4906, 'upload': 4907, 'Blu': 4908, 'Janeiro': 4909, 'Jewel': 4910, 'Minnesota': 4911, 'de': 4912, 'domesticate': 4913, 'fiercely': 4914, 'macaw': 4915, 'emotionless': 4916, 'tension': 4917, 'utopia': 4918, 'Moroccan': 4919, 'Tragedy': 4920, 'touch': 4921, '1956': 4922, 'Waco': 4923, 'eldest': 4924, 'teaching': 4925, 'Louisiana': 4926, 'prehistoric': 4927, 'razor': 4928, 'score': 4929, 'sudden': 4930, 'toothed': 4931, 'tremor': 4932, 'underwater': 4933, '27': 4934, 'Inspired': 4935, 'diagnosis': 4936, 'Duffus': 4937, 'Dylan': 4938, 'Gunz': 4939, 'Hoodz': 4940, 'Scorcher': 4941, 'TIC': 4942, 'excitement': 4943, 'peddle': 4944, 'thrust': 4945, '40': 4946, 'Debbie': 4947, 'hate': 4948, 'verge': 4949, 'champion': 4950, 'discard': 4951, 'promoter': 4952, 'jilt': 4953, 'Burma': 4954, 'Rambo': 4955, 'infantry': 4956, 'missionary': 4957, 'tag': 4958, 'Bennet': 4959, 'Omalu': 4960, 'accomplish': 4961, 'concussion': 4962, 'pathologist': 4963, 'repeat': 4964, 'Thanks': 4965, 'fracture': 4966, 'imagination': 4967, 'injure': 4968, 'outskirt': 4969, 'vivid': 4970, 'chauvinistic': 4971, 'correspondent': 4972, 'relationships': 4973, 'romantically': 4974, 'theory': 4975, 'schedule': 4976, 'cheater': 4977, 'natured': 4978, 'womanizer': 4979, 'Honolulu': 4980, 'deliberately': 4981, 'flown': 4982, 'snake': 4983, 'testify': 4984, 'venomous': 4985, 'Chantry': 4986, 'burn': 4987, 'instant': 4988, 'puzzle': 4989, 'Hiccup': 4990, 'Rider': 4991, 'Toothless': 4992, '2028': 4993, 'Detroit': 4994, 'OmniCorp': 4995, 'conglomerate': 4996, 'critically': 4997, 'injured': 4998, 'multinational': 4999, 'inspires': 5000, 'seminar': 5001, 'sixty': 5002, 'Bank': 5003, 'Danny': 5004, 'Reuben': 5005, 'Tishkoff': 5006, 'Willy': 5007, 'casino': 5008, 'eleven': 5009, 'CDC': 5010, 'Healthcare': 5011, 'professionals': 5012, 'worldwide': 5013, 'Basile': 5014, 'Flea': 5015, 'Giambattista': 5016, 'Highhills': 5017, 'Longtrellis': 5018, 'bitter': 5019, 'fairytale': 5020, 'passion': 5021, 'provoke': 5022, 'nurse': 5023, 'preteen': 5024, 'Strange': 5025, 'comet': 5026, 'overhead': 5027, 'passing': 5028, 'Notorious': 5029, 'straight': 5030, 'incident': 5031, 'sickness': 5032, 'paycheck': 5033, 'territory': 5034, 'Door': 5035, 'Girl': 5036, 'Ketchum': 5037, 'Next': 5038, 'abuse': 5039, 'aunt': 5040, 'torture': 5041, 'unspeakable': 5042, 'Baptiste': 5043, 'Grenouille': 5044, 'olfactory': 5045, 'perfume': 5046, 'scent': 5047, 'Belacqua': 5048, 'Lyra': 5049, 'parallel': 5050, 'legion': 5051, 'splinter': 5052, 'meaning': 5053, 'Donnell': 5054, 'bridge': 5055, 'janitor': 5056, 'rewrite': 5057, 'ungrateful': 5058, 'vortex': 5059, 'coup': 5060, 'environment': 5061, 'foreigner': 5062, 'frantically': 5063, 'immediately': 5064, 'Kryptonian': 5065, 'absence': 5066, 'domination': 5067, 'reappear': 5068, 'Bella': 5069, 'Forks': 5070, 'Pack': 5071, 'Quileutes': 5072, 'Wolf': 5073, 'towns': 5074, '1987': 5075, 'Harlem': 5076, 'circa': 5077, 'direction': 5078, 'enroll': 5079, 'illiterate': 5080, 'overweight': 5081, 'Fuji': 5082, 'Mt': 5083, 'suicidal': 5084, 'redefine': 5085, 'Cause': 5086, 'Naval': 5087, 'tantalize': 5088, 'uncertain': 5089, 'unsettle': 5090, 'MacCormack': 5091, 'Ren': 5092, 'ban': 5093, 'dancing': 5094, 'populace': 5095, 'Mia': 5096, 'imagined': 5097, 'metaphorically': 5098, 'superficial': 5099, 'vision': 5100, 'blindly': 5101, 'pact': 5102, 'spell': 5103, 'Cal': 5104, 'Jr': 5105, 'NASCAR': 5106, 'Naughton': 5107, 'Ricky': 5108, 'atop': 5109, 'devotion': 5110, 'heap': 5111, 'thanks': 5112, 'centipede': 5113, 'mutilate': 5114, 'rectums': 5115, 'stitch': 5116, 'Bolt': 5117, 'Crimson': 5118, 'Belgian': 5119, 'Commandant': 5120, 'Mercenaries': 5121, 'Quinlan': 5122, 'troop': 5123, 'Bingham': 5124, 'enjoy': 5125, 'interest': 5126, 'suitcase': 5127, 'butcher': 5128, 'gruesome': 5129, 'imaginable': 5130, 'obsessive': 5131, 'pursuit': 5132, 'Seattle': 5133, 'grip': 5134, 'werewolf': 5135, 'Border': 5136, 'Patrol': 5137, 'checkpoint': 5138, 'insidious': 5139, 'rank': 5140, 'nineteen': 5141, 'Activating': 5142, 'Left': 5143, 'Riddick': 5144, 'alert': 5145, 'beacon': 5146, 'captain': 5147, 'emergency': 5148, 'scorch': 5149, 'sun': 5150, 'Atlantic': 5151, 'yacht': 5152, 'Cecil': 5153, 'Gaines': 5154, 'butler': 5155, 'tenure': 5156, 'Brent': 5157, 'Corrigan': 5158, 'Lockhart': 5159, 'Sean': 5160, 'headline': 5161, 'headliner': 5162, 'rip': 5163, 'Cypher': 5164, 'Kitai': 5165, 'Raige': 5166, 'millennium': 5167, 'perilous': 5168, 'Air': 5169, 'Brandon': 5170, 'Jordans': 5171, 'stolen': 5172, 'Earl': 5173, 'outlook': 5174, 'parody': 5175, 'schooler': 5176, 'baron': 5177, 'boating': 5178, 'seriously': 5179, 'Abu': 5180, 'Arab': 5181, 'Carrie': 5182, 'Charlotte': 5183, 'Dhabi': 5184, 'Emirates': 5185, 'Samantha': 5186, 'independence': 5187, 'Ames': 5188, 'Jensen': 5189, 'brutalize': 5190, 'industrial': 5191, 'inmates': 5192, 'warden': 5193, 'confusing': 5194, 'dating': 5195, 'archangel': 5196, 'diner': 5197, 'dusty': 5198, 'informs': 5199, 'roadside': 5200, 'LA': 5201, 'Shot': 5202, 'grind': 5203, 'Boss': 5204, 'Brikowski': 5205, 'Goodkat': 5206, 'Rabbi': 5207, 'Slevin': 5208, 'constant': 5209, 'ingenious': 5210, 'relentless': 5211, 'auctioneer': 5212, 'hypnotherapist': 5213, 'outage': 5214, 'woodland': 5215, 'VIII': 5216, 'affection': 5217, 'attacker': 5218, 'Family': 5219, 'paths': 5220, 'nightmarish': 5221, 'Cousteau': 5222, 'Highly': 5223, 'Jacques': 5224, 'Yves': 5225, 'achievement': 5226, 'aquatic': 5227, 'conservationist': 5228, 'fearlessly': 5229, 'inarguably': 5230, 'innovator': 5231, 'researcher': 5232, 'roughly': 5233, 'thirty': 5234, '1974': 5235, 'Petit': 5236, 'Philippe': 5237, 'Trade': 5238, 'immense': 5239, 'void': 5240, 'wire': 5241, 'Best': 5242, 'Lesley': 5243, 'highway': 5244, 'trucker': 5245, 'Reid': 5246, 'Tonto': 5247, 'chainsaw': 5248, 'inheritance': 5249, 'wield': 5250, 'convinced': 5251, 'Strip': 5252, 'Sunset': 5253, 'Ghostface': 5254, 'Prescott': 5255, 'Sidney': 5256, 'Ten': 5257, 'visited': 5258, 'Ugandan': 5259, 'chess': 5260, 'introduced': 5261, 'rapidly': 5262, 'Greeker': 5263, 'Portokalos': 5264, 'Almost': 5265, 'Libby': 5266, 'wrench': 5267, 'Guy': 5268, 'architecture': 5269, 'award': 5270, 'duck': 5271, 'Gaspard': 5272, 'Ulliel': 5273, 'dying': 5274, 'terminally': 5275, 'skin': 5276, 'volatile': 5277, 'withstand': 5278, 'digestive': 5279, 'rare': 5280, 'Stacks': 5281, 'campaign': 5282, 'mayoral': 5283, 'thinly': 5284, 'tycoon': 5285, 'veil': 5286, 'Beatles': 5287, 'Liverpudlian': 5288, 'backdrop': 5289, 'upper': 5290, 'badge': 5291, 'dirty': 5292, 'dress': 5293, 'mint': 5294, 'sensation': 5295, 'tangle': 5296, 'web': 5297, 'Malinois': 5298, 'Marines': 5299, 'handler': 5300, 'traumatic': 5301, 'Fabious': 5302, 'Thadeous': 5303, 'lazy': 5304, 'useless': 5305, 'Survivors': 5306, 'suspension': 5307, 'privilege': 5308, 'reckless': 5309, 'depravity': 5310, 'tormented': 5311, '1965': 5312, 'Luther': 5313, 'Montgomery': 5314, 'Selma': 5315, 'equal': 5316, 'march': 5317, 'voting': 5318, 'Lycans': 5319, 'aristocratic': 5320, 'onetime': 5321, 'compassion': 5322, 'maker': 5323, 'patience': 5324, 'Labor': 5325, 'Arcadia': 5326, 'unharmed': 5327, '3': 5328, 'word': 5329, 'knit': 5330, 'tight': 5331, 'Slovakian': 5332, 'abroad': 5333, 'grim': 5334, 'hostel': 5335, 'study': 5336, 'Arts': 5337, 'Maryland': 5338, 'Romantic': 5339, 'background': 5340, 'stuffy': 5341}\n"
     ]
    }
   ],
   "source": [
    "print(dictionary.token2id)"
   ]
  },
  {
   "cell_type": "markdown",
   "id": "4fe2f7bd",
   "metadata": {},
   "source": [
    "### TF-IDF\n",
    "\n",
    "Formula (from redacteur.com)\n",
    "\n",
    "<img src=\"https://www.redacteur.com/blog/wp-content/uploads/2020/02/tf-idf-2-1-1024x375-1.png\" alt=\"Drawing\" style=\"height: 200px;\"/>"
   ]
  },
  {
   "cell_type": "code",
   "execution_count": 30,
   "id": "377bfa73",
   "metadata": {},
   "outputs": [],
   "source": [
    "from gensim.models import TfidfModel"
   ]
  },
  {
   "cell_type": "code",
   "execution_count": 31,
   "id": "6af9940c",
   "metadata": {},
   "outputs": [],
   "source": [
    "tfidf_model = TfidfModel(movies_corpus_bow) "
   ]
  },
  {
   "cell_type": "code",
   "execution_count": 32,
   "id": "64f524af",
   "metadata": {},
   "outputs": [
    {
     "data": {
      "text/plain": [
       "[('control', 0.3073),\n",
       " ('criminal', 0.2898),\n",
       " ('fanatical', 0.4609),\n",
       " ('force', 0.1888),\n",
       " ('group', 0.2040),\n",
       " ('intergalactic', 0.3684),\n",
       " ('stop', 0.2488),\n",
       " ('take', 0.1737),\n",
       " ('together', 0.2362),\n",
       " ('universe', 0.3413),\n",
       " ('warrior', 0.2951),\n",
       " ('work', 0.2115)]"
      ]
     },
     "execution_count": 32,
     "metadata": {},
     "output_type": "execute_result"
    }
   ],
   "source": [
    "[(dictionary[idx], tfidf_score) for idx, tfidf_score in tfidf_model[movies_corpus_bow[0]]]"
   ]
  },
  {
   "cell_type": "markdown",
   "id": "c54c55f3",
   "metadata": {},
   "source": [
    "Let's now apply our TF-IDF model to our whole corpus"
   ]
  },
  {
   "cell_type": "code",
   "execution_count": 33,
   "id": "64221f57",
   "metadata": {},
   "outputs": [],
   "source": [
    "movies_corpus_tfidf = tfidf_model[movies_corpus_bow]"
   ]
  },
  {
   "cell_type": "markdown",
   "id": "c093cccc",
   "metadata": {},
   "source": [
    "### Latent Semantic Analysis\n",
    "\n",
    "Latent semantic indexing (LSI) is an indexing and retrieval method that uses a mathematical technique called singular value decomposition (SVD) to identify patterns in the relationships between the terms and concepts contained in an unstructured collection of text. \n",
    "\n",
    "LSI is based on the principle that words that are used in the same contexts tend to have similar meanings. A key feature of LSI is its ability to extract the conceptual content of a body of text by establishing associations between those terms that occur in similar contexts."
   ]
  },
  {
   "cell_type": "code",
   "execution_count": 34,
   "id": "a1f8cf14",
   "metadata": {},
   "outputs": [],
   "source": [
    "from gensim.models import LsiModel"
   ]
  },
  {
   "cell_type": "code",
   "execution_count": 35,
   "id": "f33ec3a0",
   "metadata": {},
   "outputs": [],
   "source": [
    "lsi_model = LsiModel(movies_corpus_tfidf, id2word=dictionary, num_topics=9)\n",
    "movies_corpus_lsi = lsi_model[movies_corpus_tfidf]"
   ]
  },
  {
   "cell_type": "code",
   "execution_count": 36,
   "id": "a04ea4e5",
   "metadata": {},
   "outputs": [
    {
     "data": {
      "text/plain": [
       "[(0,\n",
       "  '-0.192*\"young\" + -0.165*\"life\" + -0.151*\"woman\" + -0.140*\"find\" + -0.131*\"man\" + -0.120*\"love\" + -0.119*\"friend\" + -0.119*\"girl\" + -0.117*\"new\" + -0.116*\"family\"'),\n",
       " (1,\n",
       "  '-0.313*\"woman\" + -0.280*\"young\" + -0.195*\"love\" + -0.153*\"man\" + -0.146*\"fall\" + 0.142*\"high\" + 0.135*\"agent\" + 0.129*\"world\" + 0.124*\"save\" + 0.123*\"team\"'),\n",
       " (2,\n",
       "  '-0.380*\"school\" + -0.320*\"high\" + -0.174*\"party\" + -0.152*\"friend\" + 0.133*\"man\" + -0.128*\"girl\" + 0.122*\"young\" + -0.120*\"student\" + -0.104*\"best\" + -0.100*\"night\"'),\n",
       " (3,\n",
       "  '-0.345*\"New\" + -0.334*\"York\" + -0.241*\"City\" + -0.229*\"group\" + 0.170*\"year\" + 0.152*\"school\" + -0.145*\"go\" + -0.136*\"love\" + -0.136*\"relationship\" + 0.134*\"high\"'),\n",
       " (4,\n",
       "  '0.193*\"school\" + 0.179*\"high\" + 0.170*\"woman\" + -0.168*\"try\" + 0.156*\"town\" + -0.153*\"wife\" + 0.147*\"small\" + 0.143*\"force\" + 0.140*\"world\" + 0.139*\"group\"'),\n",
       " (5,\n",
       "  '0.200*\"woman\" + 0.197*\"drug\" + 0.174*\"agent\" + -0.165*\"new\" + 0.151*\"CIA\" + 0.138*\"young\" + 0.136*\"high\" + -0.125*\"friend\" + -0.113*\"must\" + -0.112*\"home\"'),\n",
       " (6,\n",
       "  '-0.234*\"girl\" + -0.204*\"small\" + -0.200*\"town\" + -0.172*\"boy\" + 0.150*\"woman\" + -0.150*\"teenage\" + -0.146*\"mother\" + -0.143*\"fall\" + 0.135*\"one\" + -0.125*\"father\"'),\n",
       " (7,\n",
       "  '0.257*\"life\" + -0.194*\"home\" + -0.177*\"family\" + -0.172*\"old\" + -0.157*\"year\" + 0.153*\"one\" + 0.139*\"turn\" + 0.131*\"time\" + 0.125*\"relationship\" + -0.112*\"New\"'),\n",
       " (8,\n",
       "  '-0.259*\"Two\" + 0.193*\"life\" + -0.158*\"friend\" + 0.149*\"year\" + 0.135*\"love\" + 0.134*\"story\" + 0.132*\"come\" + -0.132*\"find\" + -0.131*\"young\" + 0.127*\"New\"')]"
      ]
     },
     "execution_count": 36,
     "metadata": {},
     "output_type": "execute_result"
    }
   ],
   "source": [
    "lsi_model.show_topics()"
   ]
  },
  {
   "cell_type": "markdown",
   "id": "b4901b25",
   "metadata": {},
   "source": [
    "#### Display the result of Topic Modelling"
   ]
  },
  {
   "cell_type": "code",
   "execution_count": 37,
   "id": "c31ab791",
   "metadata": {},
   "outputs": [
    {
     "data": {
      "text/plain": [
       "(9, 5342)"
      ]
     },
     "execution_count": 37,
     "metadata": {},
     "output_type": "execute_result"
    }
   ],
   "source": [
    "lsi_model.get_topics().shape"
   ]
  },
  {
   "cell_type": "code",
   "execution_count": 38,
   "id": "24f3b6d0",
   "metadata": {},
   "outputs": [
    {
     "data": {
      "text/html": [
       "<div>\n",
       "<style scoped>\n",
       "    .dataframe tbody tr th:only-of-type {\n",
       "        vertical-align: middle;\n",
       "    }\n",
       "\n",
       "    .dataframe tbody tr th {\n",
       "        vertical-align: top;\n",
       "    }\n",
       "\n",
       "    .dataframe thead th {\n",
       "        text-align: right;\n",
       "    }\n",
       "</style>\n",
       "<table border=\"1\" class=\"dataframe\">\n",
       "  <thead>\n",
       "    <tr style=\"text-align: right;\">\n",
       "      <th></th>\n",
       "      <th>value</th>\n",
       "      <th>word</th>\n",
       "      <th>topic</th>\n",
       "    </tr>\n",
       "  </thead>\n",
       "  <tbody>\n",
       "    <tr>\n",
       "      <th>0</th>\n",
       "      <td>-0.000367</td>\n",
       "      <td>wit</td>\n",
       "      <td>0</td>\n",
       "    </tr>\n",
       "    <tr>\n",
       "      <th>1</th>\n",
       "      <td>-0.000367</td>\n",
       "      <td>match</td>\n",
       "      <td>0</td>\n",
       "    </tr>\n",
       "    <tr>\n",
       "      <th>2</th>\n",
       "      <td>-0.000367</td>\n",
       "      <td>businessmen</td>\n",
       "      <td>0</td>\n",
       "    </tr>\n",
       "    <tr>\n",
       "      <th>3</th>\n",
       "      <td>-0.000367</td>\n",
       "      <td>fisherman</td>\n",
       "      <td>0</td>\n",
       "    </tr>\n",
       "    <tr>\n",
       "      <th>4</th>\n",
       "      <td>-0.000367</td>\n",
       "      <td>priceless</td>\n",
       "      <td>0</td>\n",
       "    </tr>\n",
       "  </tbody>\n",
       "</table>\n",
       "</div>"
      ],
      "text/plain": [
       "      value         word  topic\n",
       "0 -0.000367          wit      0\n",
       "1 -0.000367        match      0\n",
       "2 -0.000367  businessmen      0\n",
       "3 -0.000367    fisherman      0\n",
       "4 -0.000367    priceless      0"
      ]
     },
     "execution_count": 38,
     "metadata": {},
     "output_type": "execute_result"
    }
   ],
   "source": [
    "# Number of top words per topic\n",
    "num_words = 10\n",
    "\n",
    "topic_words = pd.DataFrame()\n",
    "\n",
    "for idx, topic in enumerate(lsi_model.get_topics()):\n",
    "    # get the token ids of the \"num_words\" top words per topic\n",
    "    # NB: numpy.argsort() returns the indices that would sort an array.\n",
    "    top_feature_ids = topic.argsort()[-num_words:][::-1]\n",
    "    # get the values corresponding to each word/token\n",
    "    feature_values = topic[top_feature_ids]\n",
    "    # get the actual token/word out of its id\n",
    "    words = [dictionary[id_] for id_ in top_feature_ids]\n",
    "    # put topic index, word/token, and value into a DataFrame\n",
    "    topic_df = pd.DataFrame({\n",
    "        \"value\": feature_values,\n",
    "        \"word\": words,\n",
    "        \"topic\": idx\n",
    "    })\n",
    "    topic_words = pd.concat([topic_words, topic_df], ignore_index=True)\n",
    "\n",
    "topic_words.head()"
   ]
  },
  {
   "cell_type": "code",
   "execution_count": 39,
   "id": "437fb006",
   "metadata": {},
   "outputs": [
    {
     "data": {
      "image/png": "[encoded data removed]",
      "text/plain": [
       "<Figure size 648x648 with 9 Axes>"
      ]
     },
     "metadata": {
      "needs_background": "light"
     },
     "output_type": "display_data"
    }
   ],
   "source": [
    "import matplotlib.pyplot as plt\n",
    "import seaborn as sns\n",
    "\n",
    "graph = sns.FacetGrid(topic_words, col=\"topic\", col_wrap=3, sharey=False)\n",
    "_ = graph.map(plt.barh, \"word\", \"value\")"
   ]
  },
  {
   "cell_type": "code",
   "execution_count": 40,
   "id": "17585870",
   "metadata": {},
   "outputs": [
    {
     "name": "stdout",
     "output_type": "stream",
     "text": [
      "[(0, -0.13068317514071814), (1, 0.08114353987058487), (2, 0.04434720395753852), (3, -0.09944855218336299), (4, 0.11871651316270207), (5, -0.015446760885912979), (6, -0.002555586790241245), (7, -0.025213520676830994), (8, 0.006295485250863906)]\n"
     ]
    }
   ],
   "source": [
    "%precision 2\n",
    "print(movies_corpus_lsi[0])"
   ]
  },
  {
   "cell_type": "code",
   "execution_count": null,
   "id": "70dbc2f0",
   "metadata": {},
   "outputs": [],
   "source": []
  }
 ],
 "metadata": {
  "kernelspec": {
   "display_name": "Python 3 (ipykernel)",
   "language": "python",
   "name": "python3"
  },
  "language_info": {
   "codemirror_mode": {
    "name": "ipython",
    "version": 3
   },
   "file_extension": ".py",
   "mimetype": "text/x-python",
   "name": "python",
   "nbconvert_exporter": "python",
   "pygments_lexer": "ipython3",
   "version": "3.9.12"
  }
 },
 "nbformat": 4,
 "nbformat_minor": 5
}
