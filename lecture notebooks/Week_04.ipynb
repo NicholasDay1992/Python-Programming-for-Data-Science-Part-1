{
 "cells": [
  {
   "cell_type": "markdown",
   "id": "f0c89cef",
   "metadata": {},
   "source": [
    "## List of tuples and `for` loop"
   ]
  },
  {
   "cell_type": "code",
   "execution_count": 1,
   "id": "11d9bf9b",
   "metadata": {},
   "outputs": [],
   "source": [
    "metropolitan_areas = [\n",
    "    # (city, country, population, area)\n",
    "    ('Tokyo', 'Japan', 37400068, 13452),\n",
    "    ('Delhi', 'India', 28514000, 3483),\n",
    "    ('Shanghai', 'China', 25582000, 6341),\n",
    "    ('São Paulo', 'Brasil', 21650000, 7947),\n",
    "    ('Mexico City', 'Mexico', 21581000, 7866),\n",
    "    ('Mumbai', 'India', 24400000, 4355),\n",
    "    ('Cairo', 'Egypt', 20076000, 9844),\n",
    "    ('Bejing', 'China', 19618000, 1334)\n",
    "]"
   ]
  },
  {
   "cell_type": "code",
   "execution_count": 2,
   "id": "6c6fb258",
   "metadata": {},
   "outputs": [],
   "source": [
    "tokyo = metropolitan_areas[0]"
   ]
  },
  {
   "cell_type": "code",
   "execution_count": 3,
   "id": "afc4673b",
   "metadata": {},
   "outputs": [
    {
     "data": {
      "text/plain": [
       "('Tokyo', 'Japan', 37400068, 13452)"
      ]
     },
     "execution_count": 3,
     "metadata": {},
     "output_type": "execute_result"
    }
   ],
   "source": [
    "tokyo"
   ]
  },
  {
   "cell_type": "code",
   "execution_count": 10,
   "id": "89b79074",
   "metadata": {},
   "outputs": [
    {
     "name": "stdout",
     "output_type": "stream",
     "text": [
      "City Tokyo. Country Japan. Population 37400068\n",
      "City Delhi. Country India. Population 28514000\n",
      "City Shanghai. Country China. Population 25582000\n",
      "City São Paulo. Country Brasil. Population 21650000\n",
      "City Mexico City. Country Mexico. Population 21581000\n",
      "City Mumbai. Country India. Population 24400000\n",
      "City Cairo. Country Egypt. Population 20076000\n",
      "City Bejing. Country China. Population 19618000\n"
     ]
    }
   ],
   "source": [
    "for city_tuple in metropolitan_areas:\n",
    "    print(f\"City {city_tuple[0]}. Country {city_tuple[1]}. Population {city_tuple[2]}\")"
   ]
  },
  {
   "cell_type": "code",
   "execution_count": 11,
   "id": "71818212",
   "metadata": {},
   "outputs": [
    {
     "name": "stdout",
     "output_type": "stream",
     "text": [
      "City Tokyo. Country Japan. Population 37400068\n",
      "City Delhi. Country India. Population 28514000\n",
      "City Shanghai. Country China. Population 25582000\n",
      "City São Paulo. Country Brasil. Population 21650000\n",
      "City Mexico City. Country Mexico. Population 21581000\n",
      "City Mumbai. Country India. Population 24400000\n",
      "City Cairo. Country Egypt. Population 20076000\n",
      "City Bejing. Country China. Population 19618000\n"
     ]
    }
   ],
   "source": [
    "for city, country, population, area in metropolitan_areas:\n",
    "    print(f\"City {city}. Country {country}. Population {population}\")"
   ]
  },
  {
   "cell_type": "markdown",
   "id": "1e766e99",
   "metadata": {},
   "source": [
    "### Tuple unpacking"
   ]
  },
  {
   "cell_type": "code",
   "execution_count": 8,
   "id": "45cafd8e",
   "metadata": {},
   "outputs": [],
   "source": [
    "city, country, *_ = tokyo"
   ]
  },
  {
   "cell_type": "code",
   "execution_count": 9,
   "id": "92641ee1",
   "metadata": {},
   "outputs": [
    {
     "data": {
      "text/plain": [
       "[37400068, 13452]"
      ]
     },
     "execution_count": 9,
     "metadata": {},
     "output_type": "execute_result"
    }
   ],
   "source": [
    "_"
   ]
  },
  {
   "cell_type": "markdown",
   "id": "44094616",
   "metadata": {},
   "source": [
    "## Iterables and the `zip` function:"
   ]
  },
  {
   "cell_type": "code",
   "execution_count": 12,
   "id": "58f28099",
   "metadata": {},
   "outputs": [],
   "source": [
    "cities = ['London', 'Manchester', 'Paris', 'Rome', 'Moscow']\n",
    "countries = ['UK', 'UK', 'France', 'Italy', 'Russia']"
   ]
  },
  {
   "cell_type": "code",
   "execution_count": 26,
   "id": "e218d387",
   "metadata": {},
   "outputs": [],
   "source": [
    "z = zip(cities, countries)"
   ]
  },
  {
   "cell_type": "code",
   "execution_count": 31,
   "id": "37a9855a",
   "metadata": {},
   "outputs": [
    {
     "data": {
      "text/plain": [
       "('Moscow', 'Russia')"
      ]
     },
     "execution_count": 31,
     "metadata": {},
     "output_type": "execute_result"
    }
   ],
   "source": [
    "next(z)"
   ]
  },
  {
   "cell_type": "markdown",
   "id": "c327065f",
   "metadata": {},
   "source": [
    "### Slicing"
   ]
  },
  {
   "cell_type": "code",
   "execution_count": 32,
   "id": "3d81e514",
   "metadata": {},
   "outputs": [],
   "source": [
    "ll = [1, 3, 5, 5.5, 8, 0, 8, 1, 200]"
   ]
  },
  {
   "cell_type": "code",
   "execution_count": 40,
   "id": "4c75b0e7",
   "metadata": {},
   "outputs": [
    {
     "data": {
      "text/plain": [
       "[3, 5, 5.5, 8, 0, 8, 1]"
      ]
     },
     "execution_count": 40,
     "metadata": {},
     "output_type": "execute_result"
    }
   ],
   "source": [
    "ll[1:-1:1]"
   ]
  },
  {
   "cell_type": "code",
   "execution_count": 41,
   "id": "9fc3c515",
   "metadata": {},
   "outputs": [],
   "source": [
    "my_string = \"Hello, world\""
   ]
  },
  {
   "cell_type": "code",
   "execution_count": 46,
   "id": "b41eed2b",
   "metadata": {},
   "outputs": [],
   "source": [
    "reversed_ = my_string[::-1]"
   ]
  },
  {
   "cell_type": "code",
   "execution_count": 47,
   "id": "00f6ffe2",
   "metadata": {},
   "outputs": [
    {
     "data": {
      "text/plain": [
       "'dlrow ,olleH'"
      ]
     },
     "execution_count": 47,
     "metadata": {},
     "output_type": "execute_result"
    }
   ],
   "source": [
    "reversed_"
   ]
  },
  {
   "cell_type": "code",
   "execution_count": 48,
   "id": "c6f9dfe4",
   "metadata": {},
   "outputs": [
    {
     "data": {
      "text/plain": [
       "'Hello, world'"
      ]
     },
     "execution_count": 48,
     "metadata": {},
     "output_type": "execute_result"
    }
   ],
   "source": [
    "my_string"
   ]
  },
  {
   "cell_type": "markdown",
   "id": "70c58e64",
   "metadata": {},
   "source": [
    "### Dictionaries"
   ]
  },
  {
   "cell_type": "code",
   "execution_count": 49,
   "id": "0c581cfb",
   "metadata": {},
   "outputs": [],
   "source": [
    "my_dict = {}"
   ]
  },
  {
   "cell_type": "code",
   "execution_count": 50,
   "id": "adcab6da",
   "metadata": {},
   "outputs": [
    {
     "data": {
      "text/plain": [
       "dict"
      ]
     },
     "execution_count": 50,
     "metadata": {},
     "output_type": "execute_result"
    }
   ],
   "source": [
    "type(my_dict)"
   ]
  },
  {
   "cell_type": "code",
   "execution_count": 51,
   "id": "ae171b86",
   "metadata": {},
   "outputs": [],
   "source": [
    "my_dict = {\n",
    "    \"London\": \"UK\",\n",
    "    \"Rome\": \"Italy\",\n",
    "    \"Manchester\": \"UK\"\n",
    "}"
   ]
  },
  {
   "cell_type": "code",
   "execution_count": 52,
   "id": "ebe78e46",
   "metadata": {},
   "outputs": [
    {
     "data": {
      "text/plain": [
       "'UK'"
      ]
     },
     "execution_count": 52,
     "metadata": {},
     "output_type": "execute_result"
    }
   ],
   "source": [
    "my_dict[\"London\"]"
   ]
  },
  {
   "cell_type": "code",
   "execution_count": 53,
   "id": "5d02cb07",
   "metadata": {},
   "outputs": [
    {
     "ename": "KeyError",
     "evalue": "'Amsterdam'",
     "output_type": "error",
     "traceback": [
      "\u001b[1;31m---------------------------------------------------------------------------\u001b[0m",
      "\u001b[1;31mKeyError\u001b[0m                                  Traceback (most recent call last)",
      "\u001b[1;32m~\\AppData\\Local\\Temp\\ipykernel_9576\\2377378465.py\u001b[0m in \u001b[0;36m<module>\u001b[1;34m\u001b[0m\n\u001b[1;32m----> 1\u001b[1;33m \u001b[0mmy_dict\u001b[0m\u001b[1;33m[\u001b[0m\u001b[1;34m\"Amsterdam\"\u001b[0m\u001b[1;33m]\u001b[0m\u001b[1;33m\u001b[0m\u001b[1;33m\u001b[0m\u001b[0m\n\u001b[0m",
      "\u001b[1;31mKeyError\u001b[0m: 'Amsterdam'"
     ]
    }
   ],
   "source": [
    "my_dict[\"Amsterdam\"]"
   ]
  },
  {
   "cell_type": "code",
   "execution_count": 54,
   "id": "ff60bbc3",
   "metadata": {},
   "outputs": [
    {
     "data": {
      "text/plain": [
       "\"Don't know!\""
      ]
     },
     "execution_count": 54,
     "metadata": {},
     "output_type": "execute_result"
    }
   ],
   "source": [
    "my_dict.get(\"Amsterdam\", \"Don't know!\")"
   ]
  },
  {
   "cell_type": "code",
   "execution_count": 55,
   "id": "e740aa30",
   "metadata": {},
   "outputs": [],
   "source": [
    "my_dict[\"Amsterdam\"] = \"Netherlands\""
   ]
  },
  {
   "cell_type": "code",
   "execution_count": 56,
   "id": "8316319e",
   "metadata": {},
   "outputs": [
    {
     "data": {
      "text/plain": [
       "{'London': 'UK',\n",
       " 'Rome': 'Italy',\n",
       " 'Manchester': 'UK',\n",
       " 'Amsterdam': 'Netherlands'}"
      ]
     },
     "execution_count": 56,
     "metadata": {},
     "output_type": "execute_result"
    }
   ],
   "source": [
    "my_dict"
   ]
  },
  {
   "cell_type": "code",
   "execution_count": 63,
   "id": "c75042e6",
   "metadata": {},
   "outputs": [
    {
     "name": "stdout",
     "output_type": "stream",
     "text": [
      "City: London, country: UK\n",
      "City: Rome, country: Italy\n",
      "City: Manchester, country: UK\n",
      "City: Amsterdam, country: Netherlands\n"
     ]
    }
   ],
   "source": [
    "for city, country in my_dict.items():\n",
    "    print(f\"City: {city}, country: {country}\")"
   ]
  },
  {
   "cell_type": "code",
   "execution_count": 64,
   "id": "ab3ad6f0",
   "metadata": {},
   "outputs": [
    {
     "data": {
      "text/plain": [
       "{'London': 'UK',\n",
       " 'Manchester': 'UK',\n",
       " 'Paris': 'France',\n",
       " 'Rome': 'Italy',\n",
       " 'Moscow': 'Russia'}"
      ]
     },
     "execution_count": 64,
     "metadata": {},
     "output_type": "execute_result"
    }
   ],
   "source": [
    "cities = ['London', 'Manchester', 'Paris', 'Rome', 'Moscow']\n",
    "countries = ['UK', 'UK', 'France', 'Italy', 'Russia']\n",
    "dict(zip(cities, countries))"
   ]
  },
  {
   "cell_type": "markdown",
   "id": "658d41e7",
   "metadata": {},
   "source": [
    "# List comprehension"
   ]
  },
  {
   "cell_type": "code",
   "execution_count": 65,
   "id": "44c02462",
   "metadata": {},
   "outputs": [
    {
     "data": {
      "text/plain": [
       "[False, True, False, True, False, True, False, False, False]"
      ]
     },
     "execution_count": 65,
     "metadata": {},
     "output_type": "execute_result"
    }
   ],
   "source": [
    "new_list = ['I', 5, 'am not', 5, True, 199, ['foo', 'baz'], 'foo', 'baz']\n",
    "res = []\n",
    "for el in new_list:\n",
    "    res.append(type(el) == int)\n",
    "    \n",
    "res"
   ]
  },
  {
   "cell_type": "code",
   "execution_count": 67,
   "id": "dc5be5f3",
   "metadata": {},
   "outputs": [],
   "source": [
    "res = [type(el) == int for el in new_list]"
   ]
  },
  {
   "cell_type": "code",
   "execution_count": 68,
   "id": "a48c7d15",
   "metadata": {},
   "outputs": [
    {
     "data": {
      "text/plain": [
       "[False, True, False, True, False, True, False, False, False]"
      ]
     },
     "execution_count": 68,
     "metadata": {},
     "output_type": "execute_result"
    }
   ],
   "source": [
    "res"
   ]
  },
  {
   "cell_type": "code",
   "execution_count": 70,
   "id": "7b6598ab",
   "metadata": {},
   "outputs": [],
   "source": [
    "vec = [1.2, 1.6, -2, 3.2, -0.3, 5.6]"
   ]
  },
  {
   "cell_type": "code",
   "execution_count": 74,
   "id": "6a84f4d8",
   "metadata": {},
   "outputs": [
    {
     "data": {
      "text/plain": [
       "[1.44, 2.5600000000000005, 10.240000000000002, 31.359999999999996]"
      ]
     },
     "execution_count": 74,
     "metadata": {},
     "output_type": "execute_result"
    }
   ],
   "source": [
    "out = []\n",
    "for el in vec:\n",
    "    if el > 0.0:\n",
    "        out.append(el**2)\n",
    "out"
   ]
  },
  {
   "cell_type": "code",
   "execution_count": 76,
   "id": "631dc28b",
   "metadata": {},
   "outputs": [
    {
     "data": {
      "text/plain": [
       "[1.44, 2.5600000000000005, 4, 10.240000000000002, 0.09, 31.359999999999996]"
      ]
     },
     "execution_count": 76,
     "metadata": {},
     "output_type": "execute_result"
    }
   ],
   "source": [
    "out = [el**2 for el in vec]\n",
    "out"
   ]
  },
  {
   "cell_type": "code",
   "execution_count": 78,
   "id": "f7e85d13",
   "metadata": {},
   "outputs": [
    {
     "data": {
      "text/plain": [
       "[1.44, 2.5600000000000005]"
      ]
     },
     "execution_count": 78,
     "metadata": {},
     "output_type": "execute_result"
    }
   ],
   "source": [
    "[el**2 for el in vec if el > 0.0 and el < 2]"
   ]
  },
  {
   "cell_type": "code",
   "execution_count": null,
   "id": "e03559c0",
   "metadata": {},
   "outputs": [],
   "source": []
  },
  {
   "cell_type": "markdown",
   "id": "a1bdd399",
   "metadata": {},
   "source": [
    "# Dict comprehension"
   ]
  },
  {
   "cell_type": "code",
   "execution_count": 83,
   "id": "c02fbf04",
   "metadata": {},
   "outputs": [
    {
     "data": {
      "text/plain": [
       "{'UK': 'Manchester', 'Italy': 'Rome', 'Netherlands': 'Amsterdam'}"
      ]
     },
     "execution_count": 83,
     "metadata": {},
     "output_type": "execute_result"
    }
   ],
   "source": [
    "{value: key for key, value in my_dict.items()}"
   ]
  },
  {
   "cell_type": "markdown",
   "id": "3c47f7b5",
   "metadata": {},
   "source": [
    "## Set"
   ]
  },
  {
   "cell_type": "code",
   "execution_count": 84,
   "id": "d9ef0434",
   "metadata": {},
   "outputs": [],
   "source": [
    "prime_numbers = {2, 3, 5, 7}"
   ]
  },
  {
   "cell_type": "code",
   "execution_count": 85,
   "id": "4d03e13a",
   "metadata": {},
   "outputs": [
    {
     "data": {
      "text/plain": [
       "set"
      ]
     },
     "execution_count": 85,
     "metadata": {},
     "output_type": "execute_result"
    }
   ],
   "source": [
    "type(prime_numbers)"
   ]
  },
  {
   "cell_type": "code",
   "execution_count": 86,
   "id": "e26fc397",
   "metadata": {},
   "outputs": [
    {
     "data": {
      "text/plain": [
       "True"
      ]
     },
     "execution_count": 86,
     "metadata": {},
     "output_type": "execute_result"
    }
   ],
   "source": [
    "3 in prime_numbers"
   ]
  },
  {
   "cell_type": "code",
   "execution_count": 90,
   "id": "55856798",
   "metadata": {},
   "outputs": [],
   "source": [
    "my_set = set()"
   ]
  },
  {
   "cell_type": "code",
   "execution_count": 91,
   "id": "d71a79c9",
   "metadata": {},
   "outputs": [
    {
     "data": {
      "text/plain": [
       "set"
      ]
     },
     "execution_count": 91,
     "metadata": {},
     "output_type": "execute_result"
    }
   ],
   "source": [
    "type(my_set)"
   ]
  },
  {
   "cell_type": "code",
   "execution_count": 92,
   "id": "ac9ced8a",
   "metadata": {},
   "outputs": [],
   "source": [
    "my_dict =  dict()"
   ]
  },
  {
   "cell_type": "code",
   "execution_count": 93,
   "id": "c2e54e81",
   "metadata": {},
   "outputs": [
    {
     "data": {
      "text/plain": [
       "{}"
      ]
     },
     "execution_count": 93,
     "metadata": {},
     "output_type": "execute_result"
    }
   ],
   "source": [
    "my_dict"
   ]
  },
  {
   "cell_type": "markdown",
   "id": "54880bdf",
   "metadata": {},
   "source": [
    "# NumPy Arrays"
   ]
  },
  {
   "cell_type": "code",
   "execution_count": 100,
   "id": "31ded7e7",
   "metadata": {},
   "outputs": [],
   "source": [
    "import numpy as np\n",
    "from numpy import array"
   ]
  },
  {
   "cell_type": "code",
   "execution_count": 102,
   "id": "ca102472",
   "metadata": {},
   "outputs": [],
   "source": [
    "arr = array([1, 2, 3])"
   ]
  },
  {
   "cell_type": "code",
   "execution_count": 103,
   "id": "3b9d3b15",
   "metadata": {},
   "outputs": [
    {
     "data": {
      "text/plain": [
       "1"
      ]
     },
     "execution_count": 103,
     "metadata": {},
     "output_type": "execute_result"
    }
   ],
   "source": [
    "arr.ndim"
   ]
  },
  {
   "cell_type": "code",
   "execution_count": 104,
   "id": "02cdbebb",
   "metadata": {},
   "outputs": [
    {
     "data": {
      "text/plain": [
       "(3,)"
      ]
     },
     "execution_count": 104,
     "metadata": {},
     "output_type": "execute_result"
    }
   ],
   "source": [
    "arr.shape"
   ]
  },
  {
   "cell_type": "code",
   "execution_count": 105,
   "id": "6cc1e3c2",
   "metadata": {},
   "outputs": [],
   "source": [
    "arr2d = array([[1, 2, 3], [5, 6, 7]])"
   ]
  },
  {
   "cell_type": "code",
   "execution_count": 106,
   "id": "833b06b5",
   "metadata": {},
   "outputs": [
    {
     "data": {
      "text/plain": [
       "2"
      ]
     },
     "execution_count": 106,
     "metadata": {},
     "output_type": "execute_result"
    }
   ],
   "source": [
    "arr2d.ndim"
   ]
  },
  {
   "cell_type": "code",
   "execution_count": 107,
   "id": "0a33676b",
   "metadata": {},
   "outputs": [
    {
     "data": {
      "text/plain": [
       "(2, 3)"
      ]
     },
     "execution_count": 107,
     "metadata": {},
     "output_type": "execute_result"
    }
   ],
   "source": [
    "arr2d.shape"
   ]
  },
  {
   "cell_type": "code",
   "execution_count": 108,
   "id": "21b74312",
   "metadata": {},
   "outputs": [
    {
     "data": {
      "text/plain": [
       "6"
      ]
     },
     "execution_count": 108,
     "metadata": {},
     "output_type": "execute_result"
    }
   ],
   "source": [
    "arr2d.size"
   ]
  },
  {
   "cell_type": "code",
   "execution_count": 109,
   "id": "d16d4dac",
   "metadata": {},
   "outputs": [
    {
     "data": {
      "text/plain": [
       "dtype('int32')"
      ]
     },
     "execution_count": 109,
     "metadata": {},
     "output_type": "execute_result"
    }
   ],
   "source": [
    "arr2d.dtype"
   ]
  },
  {
   "cell_type": "code",
   "execution_count": 114,
   "id": "29b64bbe",
   "metadata": {},
   "outputs": [],
   "source": [
    "arr2d = arr2d.astype(\"int8\")"
   ]
  },
  {
   "cell_type": "code",
   "execution_count": 115,
   "id": "3792a077",
   "metadata": {},
   "outputs": [
    {
     "data": {
      "text/plain": [
       "dtype('int8')"
      ]
     },
     "execution_count": 115,
     "metadata": {},
     "output_type": "execute_result"
    }
   ],
   "source": [
    "arr2d.dtype"
   ]
  },
  {
   "cell_type": "code",
   "execution_count": 116,
   "id": "cf3146af",
   "metadata": {},
   "outputs": [],
   "source": [
    "arr2d = array([[1, 2, 3], [5, 6, 7.1]])"
   ]
  },
  {
   "cell_type": "code",
   "execution_count": 117,
   "id": "531d6e2b",
   "metadata": {},
   "outputs": [
    {
     "data": {
      "text/plain": [
       "dtype('float64')"
      ]
     },
     "execution_count": 117,
     "metadata": {},
     "output_type": "execute_result"
    }
   ],
   "source": [
    "arr2d.dtype"
   ]
  },
  {
   "cell_type": "code",
   "execution_count": 120,
   "id": "061da488",
   "metadata": {},
   "outputs": [],
   "source": [
    "arr = np.arange(0, 100, 2)"
   ]
  },
  {
   "cell_type": "code",
   "execution_count": 121,
   "id": "7d92160e",
   "metadata": {},
   "outputs": [
    {
     "data": {
      "text/plain": [
       "array([ 0,  2,  4,  6,  8, 10, 12, 14, 16, 18, 20, 22, 24, 26, 28, 30, 32,\n",
       "       34, 36, 38, 40, 42, 44, 46, 48, 50, 52, 54, 56, 58, 60, 62, 64, 66,\n",
       "       68, 70, 72, 74, 76, 78, 80, 82, 84, 86, 88, 90, 92, 94, 96, 98])"
      ]
     },
     "execution_count": 121,
     "metadata": {},
     "output_type": "execute_result"
    }
   ],
   "source": [
    "arr"
   ]
  },
  {
   "cell_type": "code",
   "execution_count": 122,
   "id": "8b8bb551",
   "metadata": {},
   "outputs": [
    {
     "data": {
      "text/plain": [
       "10"
      ]
     },
     "execution_count": 122,
     "metadata": {},
     "output_type": "execute_result"
    }
   ],
   "source": [
    "arr[5]"
   ]
  },
  {
   "cell_type": "code",
   "execution_count": 125,
   "id": "a3f7e2b7",
   "metadata": {},
   "outputs": [
    {
     "data": {
      "text/plain": [
       "array([10, 14, 18, 22, 26, 30, 34, 38])"
      ]
     },
     "execution_count": 125,
     "metadata": {},
     "output_type": "execute_result"
    }
   ],
   "source": [
    "arr[5:20:2]"
   ]
  },
  {
   "cell_type": "code",
   "execution_count": 128,
   "id": "b00c98af",
   "metadata": {},
   "outputs": [
    {
     "data": {
      "text/plain": [
       "array([[0.40315771, 0.65298148, 0.58320983, 0.15076144, 0.78339333,\n",
       "        0.18609892, 0.79823533, 0.50068027, 0.93780162, 0.4909798 ],\n",
       "       [0.48595885, 0.72187373, 0.9152771 , 0.51830494, 0.78811821,\n",
       "        0.85085192, 0.05157694, 0.10765969, 0.32191001, 0.41867647],\n",
       "       [0.79082972, 0.65152907, 0.73791853, 0.33752835, 0.48930645,\n",
       "        0.06883518, 0.74878964, 0.2897128 , 0.18411377, 0.02347185],\n",
       "       [0.63725519, 0.38234289, 0.21951761, 0.98614109, 0.69293948,\n",
       "        0.20863357, 0.0820639 , 0.98999355, 0.82690179, 0.7486053 ],\n",
       "       [0.16719025, 0.1789015 , 0.86662935, 0.77464151, 0.87745875,\n",
       "        0.73013938, 0.56943945, 0.64701013, 0.38349405, 0.31222843],\n",
       "       [0.69360063, 0.76260457, 0.44028309, 0.42575513, 0.91920334,\n",
       "        0.90903604, 0.78831878, 0.64061289, 0.37957163, 0.16304567],\n",
       "       [0.39918327, 0.16765764, 0.90072841, 0.9675971 , 0.17461595,\n",
       "        0.049245  , 0.51980694, 0.35469365, 0.59318519, 0.65545182],\n",
       "       [0.43890324, 0.25709917, 0.09070614, 0.08196335, 0.60644061,\n",
       "        0.3414656 , 0.40452778, 0.19459184, 0.34879631, 0.82394533],\n",
       "       [0.0659585 , 0.67784925, 0.83095   , 0.95635687, 0.77581406,\n",
       "        0.86498623, 0.00911105, 0.59999763, 0.74880449, 0.44076037],\n",
       "       [0.62823706, 0.35345833, 0.99465995, 0.49870741, 0.84515204,\n",
       "        0.26098823, 0.41164745, 0.07910551, 0.40482142, 0.01324279]])"
      ]
     },
     "execution_count": 128,
     "metadata": {},
     "output_type": "execute_result"
    }
   ],
   "source": [
    "np.random.rand(10, 10)"
   ]
  },
  {
   "cell_type": "code",
   "execution_count": null,
   "id": "da447c82",
   "metadata": {},
   "outputs": [],
   "source": []
  }
 ],
 "metadata": {
  "kernelspec": {
   "display_name": "Python 3 (ipykernel)",
   "language": "python",
   "name": "python3"
  },
  "language_info": {
   "codemirror_mode": {
    "name": "ipython",
    "version": 3
   },
   "file_extension": ".py",
   "mimetype": "text/x-python",
   "name": "python",
   "nbconvert_exporter": "python",
   "pygments_lexer": "ipython3",
   "version": "3.9.13"
  }
 },
 "nbformat": 4,
 "nbformat_minor": 5
}
