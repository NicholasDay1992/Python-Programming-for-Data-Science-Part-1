{
 "cells": [
  {
   "cell_type": "markdown",
   "metadata": {},
   "source": [
    "# Week 6: Pandas overview\n",
    "\n",
    "First let's import the `pandas` module"
   ]
  },
  {
   "cell_type": "code",
   "execution_count": null,
   "metadata": {},
   "outputs": [],
   "source": [
    "import pandas as pd\n",
    "import numpy as np\n",
    "import os\n",
    "pd.options.display.float_format = '{:,.2f}'.format"
   ]
  },
  {
   "cell_type": "markdown",
   "metadata": {},
   "source": [
    "### Data Series"
   ]
  },
  {
   "cell_type": "code",
   "execution_count": null,
   "metadata": {},
   "outputs": [],
   "source": [
    "s1 = pd.Series(data=np.arange(100, 200, 5))\n",
    "s1"
   ]
  },
  {
   "cell_type": "code",
   "execution_count": null,
   "metadata": {},
   "outputs": [],
   "source": [
    "s2 = pd.Series(data=['data_{}'.format(i) for i in range(20)])\n",
    "s2"
   ]
  },
  {
   "cell_type": "markdown",
   "metadata": {},
   "source": [
    "## Data Frames\n",
    "\n",
    "**Exercise:** create a Data Frame using the two dataseries above, placing `s2` in the first column. Name the `s2` column `titles` and the `s1` column `numbers`."
   ]
  },
  {
   "cell_type": "code",
   "execution_count": null,
   "metadata": {},
   "outputs": [],
   "source": [
    "# Write your solution here\n"
   ]
  },
  {
   "cell_type": "markdown",
   "metadata": {},
   "source": [
    "### Import Data Frame from CSV file (IMDB movies)"
   ]
  },
  {
   "cell_type": "code",
   "execution_count": null,
   "metadata": {},
   "outputs": [],
   "source": [
    "rel_path = os.path.join(\"..\",\"datasets\",\"imdb-movies.csv\")\n",
    "abs_path = os.path.abspath(rel_path)\n",
    "print(f\"Relative path is {rel_path}\")\n",
    "print(f\"Absolute path is {abs_path}\")"
   ]
  },
  {
   "cell_type": "code",
   "execution_count": null,
   "metadata": {},
   "outputs": [],
   "source": [
    "# Get info about the current working directory\n",
    "os.getcwd()"
   ]
  },
  {
   "cell_type": "code",
   "execution_count": null,
   "metadata": {},
   "outputs": [],
   "source": [
    "imdb_movies = pd.read_csv(abs_path)"
   ]
  },
  {
   "cell_type": "code",
   "execution_count": null,
   "metadata": {},
   "outputs": [],
   "source": [
    "print(imdb_movies.ndim)\n",
    "print(imdb_movies.shape)\n",
    "imdb_movies.head()"
   ]
  },
  {
   "cell_type": "code",
   "execution_count": null,
   "metadata": {},
   "outputs": [],
   "source": [
    "print(imdb_movies.get_dtype_counts())\n",
    "print(type(imdb_movies.values))\n",
    "print(type(imdb_movies.values.tolist()))\n",
    "imdb_movies.describe()"
   ]
  },
  {
   "cell_type": "code",
   "execution_count": null,
   "metadata": {},
   "outputs": [],
   "source": [
    "imdb_movies.index"
   ]
  },
  {
   "cell_type": "code",
   "execution_count": null,
   "metadata": {},
   "outputs": [],
   "source": [
    "old_cols = imdb_movies.columns.values\n",
    "imdb_movies.columns = [col.lower() for col in imdb_movies.columns]\n",
    "imdb_movies.columns"
   ]
  },
  {
   "cell_type": "markdown",
   "metadata": {},
   "source": [
    "Use the `df.dtypes` attributes to see the type of each column.\n",
    "Remember the object type in Pandas can be a string, a list, a dictionary etc."
   ]
  },
  {
   "cell_type": "code",
   "execution_count": null,
   "metadata": {},
   "outputs": [],
   "source": [
    "imdb_movies.dtypes"
   ]
  },
  {
   "cell_type": "markdown",
   "metadata": {},
   "source": [
    "### Indexing and Re-indexing"
   ]
  },
  {
   "cell_type": "markdown",
   "metadata": {},
   "source": [
    "Let's set the column `rank` as the index of the DataFrame"
   ]
  },
  {
   "cell_type": "code",
   "execution_count": null,
   "metadata": {},
   "outputs": [],
   "source": [
    "imdb_movies.columns = old_cols\n",
    "imdb_movies.set_index(\"Rank\")"
   ]
  },
  {
   "cell_type": "code",
   "execution_count": null,
   "metadata": {},
   "outputs": [],
   "source": [
    "imdb_movies.head()"
   ]
  },
  {
   "cell_type": "markdown",
   "metadata": {},
   "source": [
    "Nothing has happened...why? Because the DataFrame is not modified inplace. Rather, a new data frame is returned. If the want to modify the input DataFrame we must do:"
   ]
  },
  {
   "cell_type": "code",
   "execution_count": null,
   "metadata": {},
   "outputs": [],
   "source": [
    "imdb_movies.set_index(\"Rank\", inplace=True)\n",
    "imdb_movies.head()"
   ]
  },
  {
   "cell_type": "markdown",
   "metadata": {},
   "source": [
    "## Rows selection"
   ]
  },
  {
   "cell_type": "code",
   "execution_count": null,
   "metadata": {},
   "outputs": [],
   "source": [
    "imdb_movies[10:20]"
   ]
  },
  {
   "cell_type": "code",
   "execution_count": null,
   "metadata": {},
   "outputs": [],
   "source": [
    "# select every fifth row from 0 to one hundred \n",
    "imdb_movies[4:100:5]"
   ]
  },
  {
   "cell_type": "markdown",
   "metadata": {},
   "source": [
    "## Column selection"
   ]
  },
  {
   "cell_type": "code",
   "execution_count": null,
   "metadata": {},
   "outputs": [],
   "source": [
    "actors = imdb_movies[\"Actors\"]\n",
    "type(actors)"
   ]
  },
  {
   "cell_type": "markdown",
   "metadata": {},
   "source": [
    "If you slice a single column, you are retuned a Pandas Series, which is a 1-D version of a DataFrame, just as a vector is a 1-D version of a matrix, if you wish."
   ]
  },
  {
   "cell_type": "code",
   "execution_count": null,
   "metadata": {},
   "outputs": [],
   "source": [
    "details = imdb_movies[[\"Title\", \"Genre\", \"Director\"]]\n",
    "print(type(details))\n",
    "details.head()"
   ]
  },
  {
   "cell_type": "markdown",
   "metadata": {},
   "source": [
    "## Data Selection"
   ]
  },
  {
   "cell_type": "code",
   "execution_count": null,
   "metadata": {},
   "outputs": [],
   "source": [
    "## Selection by index\n",
    "imdb_movies.loc[5]"
   ]
  },
  {
   "cell_type": "code",
   "execution_count": null,
   "metadata": {},
   "outputs": [],
   "source": [
    "## Selection by position of the row\n",
    "imdb_movies.iloc[4]"
   ]
  },
  {
   "cell_type": "code",
   "execution_count": null,
   "metadata": {},
   "outputs": [],
   "source": [
    "## Selection by index with filtering\n",
    "imdb_movies.loc[[5, 10, 15], [\"Title\", \"Year\"]]"
   ]
  },
  {
   "cell_type": "code",
   "execution_count": null,
   "metadata": {},
   "outputs": [],
   "source": [
    "##### Selection by index with filtering\n",
    "imdb_movies.iloc[[4, 9, 14], [0, 3]]"
   ]
  },
  {
   "cell_type": "markdown",
   "metadata": {},
   "source": [
    "### Filtering Pandas DataFrame"
   ]
  },
  {
   "cell_type": "code",
   "execution_count": null,
   "metadata": {},
   "outputs": [],
   "source": [
    "low_rating = imdb_movies.Rating < 6.0\n",
    "low_rating.head()"
   ]
  },
  {
   "cell_type": "code",
   "execution_count": null,
   "metadata": {},
   "outputs": [],
   "source": [
    "imdb_movies[low_rating]"
   ]
  },
  {
   "cell_type": "markdown",
   "metadata": {},
   "source": [
    "**Exercise:** filter the dataframe so to find all films with runtime between 90 and 140 minutes."
   ]
  },
  {
   "cell_type": "code",
   "execution_count": null,
   "metadata": {},
   "outputs": [],
   "source": [
    "# Write your solution here\n"
   ]
  },
  {
   "cell_type": "markdown",
   "metadata": {},
   "source": [
    "**Exercise:** now find all the films shorther than 90 mins or longer than 140"
   ]
  },
  {
   "cell_type": "code",
   "execution_count": null,
   "metadata": {},
   "outputs": [],
   "source": [
    "# Write your solution here\n"
   ]
  },
  {
   "cell_type": "markdown",
   "metadata": {},
   "source": [
    "Let's find all movies run by certain three famous directors: Christopher Nolan, Martin Scorses and Peter Jackson."
   ]
  },
  {
   "cell_type": "code",
   "execution_count": null,
   "metadata": {},
   "outputs": [],
   "source": [
    "director_cond_00 = (\n",
    "    (imdb_movies.Director == 'Christopher Nolan') | \n",
    "    (imdb_movies.Director == 'Martin Scorsese') | \n",
    "    (imdb_movies.Director == 'Peter Jackson')\n",
    ")"
   ]
  },
  {
   "cell_type": "code",
   "execution_count": null,
   "metadata": {},
   "outputs": [],
   "source": [
    "imdb_movies[director_cond_00]"
   ]
  },
  {
   "cell_type": "markdown",
   "metadata": {},
   "source": [
    "This can also be done by using the `pd.Series.isin()` method:"
   ]
  },
  {
   "cell_type": "code",
   "execution_count": null,
   "metadata": {},
   "outputs": [],
   "source": [
    "# rewrite the condition above using `.isin()`\n",
    "director_cond_01 = ..."
   ]
  },
  {
   "cell_type": "code",
   "execution_count": null,
   "metadata": {},
   "outputs": [],
   "source": [
    "imdb_movies[director_cond_01]"
   ]
  },
  {
   "cell_type": "code",
   "execution_count": null,
   "metadata": {},
   "outputs": [],
   "source": [
    "# You can achieve the same result using the `.loc` method\n",
    "imdb_movies.loc[director_cond_01]"
   ]
  },
  {
   "cell_type": "markdown",
   "metadata": {},
   "source": [
    "## IsNull, IsNa, NotNa, DropNa, FillNa\n",
    "\n",
    "This can be useful to find missing values in your dataset"
   ]
  },
  {
   "cell_type": "code",
   "execution_count": null,
   "metadata": {},
   "outputs": [],
   "source": [
    "is_missing_revenue = imdb_movies['Revenue (Millions)'].isnull()\n",
    "imdb_movies[is_missing_revenue]"
   ]
  },
  {
   "cell_type": "code",
   "execution_count": null,
   "metadata": {},
   "outputs": [],
   "source": [
    "is_missing_revenue = imdb_movies['Revenue (Millions)'].isna()\n",
    "imdb_movies[is_missing_revenue]"
   ]
  },
  {
   "cell_type": "code",
   "execution_count": null,
   "metadata": {},
   "outputs": [],
   "source": [
    "with_revenue = imdb_movies['Revenue (Millions)'].notna()\n",
    "imdb_movies[with_revenue]"
   ]
  },
  {
   "cell_type": "markdown",
   "metadata": {},
   "source": [
    "Using `.dropna()` rows or coluns with missing values can be dropped.\n",
    "\n",
    "Using `.fillna()` missing values can be replaced with specific values. This is called imputation. A common approach is to use the mean or the median value for numerical features. What about categorical ones?"
   ]
  },
  {
   "cell_type": "markdown",
   "metadata": {},
   "source": [
    "### Sorting results"
   ]
  },
  {
   "cell_type": "code",
   "execution_count": null,
   "metadata": {},
   "outputs": [],
   "source": [
    "movies_with_revenue = imdb_movies[with_revenue]\n",
    "movies_with_revenue.sort_values(by=['Revenue (Millions)'])"
   ]
  },
  {
   "cell_type": "code",
   "execution_count": null,
   "metadata": {},
   "outputs": [],
   "source": [
    "movies_with_revenue = imdb_movies[with_revenue]\n",
    "movies_with_revenue.sort_values(by=['Rating', 'Votes'])"
   ]
  },
  {
   "cell_type": "code",
   "execution_count": null,
   "metadata": {},
   "outputs": [],
   "source": [
    "movies_with_revenue = imdb_movies[with_revenue]\n",
    "movies_with_revenue.sort_values(by=['Revenue (Millions)'], ascending=False)"
   ]
  },
  {
   "cell_type": "markdown",
   "metadata": {},
   "source": [
    "### Concatenating two DataFrames"
   ]
  },
  {
   "cell_type": "code",
   "execution_count": null,
   "metadata": {},
   "outputs": [],
   "source": [
    "books_0 = [\n",
    "    ('Tolkien', 'The Hobbit', 1937, 1220),\n",
    "    ('Tolkien', 'The Lord of the Rings', 1966, 1220),\n",
    "    ('Rowling', 'Harry Potter and the Goblet of Fire', 2007, 660),\n",
    "    ('Rowling', 'Harry Potter and the Deathly Hallows', 2007, 660),\n",
    "    ('Rowling', 'Fantastic Beasts and where to Find Them', 2007, 660),\n",
    "]\n",
    "\n",
    "books_1 = [\n",
    "    ('James', 'The Turn of the Screw', 1898, 121),\n",
    "    ('Pynchon', 'The Crying of Lot 49', 1966, 152),\n",
    "    ('Simmons', 'Hyperion', 1989, 500)\n",
    "]"
   ]
  },
  {
   "cell_type": "code",
   "execution_count": null,
   "metadata": {},
   "outputs": [],
   "source": [
    "books_0_df = pd.DataFrame.from_records(\n",
    "    data=books_0,\n",
    "    columns=['author', 'title', 'publication_year', 'page_count']\n",
    ")\n",
    "books_1_df = pd.DataFrame.from_records(\n",
    "    data=books_1,\n",
    "    columns=['author', 'title', 'publication_year', 'page_count']\n",
    ")"
   ]
  },
  {
   "cell_type": "code",
   "execution_count": null,
   "metadata": {},
   "outputs": [],
   "source": [
    "books_0_df"
   ]
  },
  {
   "cell_type": "code",
   "execution_count": null,
   "metadata": {},
   "outputs": [],
   "source": [
    "books_1_df"
   ]
  },
  {
   "cell_type": "markdown",
   "metadata": {},
   "source": [
    "We want to concatenate the two Data Frames vertically"
   ]
  },
  {
   "cell_type": "code",
   "execution_count": null,
   "metadata": {},
   "outputs": [],
   "source": [
    "# complete this replacing the ellipsis\n",
    "books_df = pd.concat(...)"
   ]
  },
  {
   "cell_type": "markdown",
   "metadata": {},
   "source": [
    "### Merge two DataFrames"
   ]
  },
  {
   "cell_type": "code",
   "execution_count": null,
   "metadata": {},
   "outputs": [],
   "source": [
    "authors = [\n",
    "    ('Thomas', 'Pynchon', 1936, None),\n",
    "    ('J.K.', 'Rowling', 1965, None),\n",
    "    ('J.R.R.', 'Tolkien', 1892, 1973),\n",
    "    ('James', 'Joyce', 1882, 1941)\n",
    "]\n",
    "\n",
    "authors_df = pd.DataFrame.from_records(\n",
    "    data=authors,\n",
    "    columns=['name', 'surname', 'birth_year', 'death_year']\n",
    ")"
   ]
  },
  {
   "cell_type": "code",
   "execution_count": null,
   "metadata": {},
   "outputs": [],
   "source": [
    "books_df"
   ]
  },
  {
   "cell_type": "code",
   "execution_count": null,
   "metadata": {},
   "outputs": [],
   "source": [
    "authors_df"
   ]
  },
  {
   "cell_type": "markdown",
   "metadata": {},
   "source": [
    "We want to combine rows from the two DataFrames (`books_df` and `authors_df`), based on a related column between them.\n",
    "\n",
    "What are the related colums here?"
   ]
  },
  {
   "cell_type": "code",
   "execution_count": null,
   "metadata": {},
   "outputs": [],
   "source": [
    "# complete this filling the ellipsis\n",
    "# Have a look at the merge() function documentation\n",
    "pd.merge(...)"
   ]
  },
  {
   "cell_type": "markdown",
   "metadata": {},
   "source": [
    "### Import a JSON dataset"
   ]
  },
  {
   "cell_type": "code",
   "execution_count": null,
   "metadata": {},
   "outputs": [],
   "source": [
    "file_path = \"../datasets/walking-dead-tv-series.json\"\n",
    "temp_df = pd.read_json(file_path)\n",
    "temp_df.head()"
   ]
  },
  {
   "cell_type": "markdown",
   "metadata": {},
   "source": [
    "<b>Data preprocessing:<b>\n",
    "\n",
    "**Exercise:** \n",
    "    * The `_links` are unstructured and stored as a dictionary. How can we extract them as strings in a new column?\n",
    "    * the runtime is in  minutes, convert it to seconds."
   ]
  },
  {
   "cell_type": "code",
   "execution_count": null,
   "metadata": {},
   "outputs": [],
   "source": [
    "# Write your solution here..."
   ]
  },
  {
   "cell_type": "code",
   "execution_count": null,
   "metadata": {},
   "outputs": [],
   "source": []
  }
 ],
 "metadata": {
  "kernelspec": {
   "display_name": "Python 3 (ipykernel)",
   "language": "python",
   "name": "python3"
  },
  "language_info": {
   "codemirror_mode": {
    "name": "ipython",
    "version": 3
   },
   "file_extension": ".py",
   "mimetype": "text/x-python",
   "name": "python",
   "nbconvert_exporter": "python",
   "pygments_lexer": "ipython3",
   "version": "3.9.12"
  }
 },
 "nbformat": 4,
 "nbformat_minor": 2
}
