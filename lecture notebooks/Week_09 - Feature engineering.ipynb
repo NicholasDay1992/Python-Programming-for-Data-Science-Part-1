{
 "cells": [
  {
   "cell_type": "code",
   "execution_count": 35,
   "id": "5c403e5d",
   "metadata": {},
   "outputs": [],
   "source": [
    "from numbers import Number\n",
    "from typing import Union\n",
    "\n",
    "class FeatureColumn:\n",
    "    \n",
    "    def __init__(self, values: Union[list[str], list[Number]]):\n",
    "        assert len(values) > 0\n",
    "        if all(isinstance(value, Number) for value in values):\n",
    "            self.feature_type = \"Quantitative\"\n",
    "        elif all(isinstance(value, str) for value in values):\n",
    "            self.feature_type  = \"Categorical\"\n",
    "        else:\n",
    "            raise AttributeError(\"Values are neither consistently numbers not strings\")\n",
    "        self.values = values\n",
    "        \n",
    "    def __len__(self):\n",
    "        return len(self.values)\n",
    "    \n",
    "    def __repr__(self):\n",
    "        return f\"FeatureColumn(type={self.feature_type}, values={self.values})\"\n",
    "    \n",
    "    def __add__(self, other: \"FeatureColumn\") -> \"FeatureColumn\":\n",
    "        if other.feature_type == \"Categorical\" or self.feature_type == \"Categorical\":\n",
    "            raise TypeError(\"Can sum only quantitative features\")\n",
    "        \n",
    "        res_values = [el1 + el2 for el1, el2 in zip(self.values, other.values)]\n",
    "        return FeatureColumn(res_values)\n",
    "    \n",
    "    @property\n",
    "    def unique(self):\n",
    "        return sorted(set(self.values))\n",
    "        \n",
    "    def mean(self):\n",
    "        if self.feature_type == \"Categorical\":\n",
    "            raise TypeError(\"Cannot compute mean for categorical feature\")\n",
    "        return sum(self.values) / len(self.values)\n",
    "    \n",
    "    def mode(self):\n",
    "        if self.feature_type == \"Numerical\":\n",
    "            raise TypeError(\"Cannot compute mode for numerical feature\")\n",
    "        return max(set(self.values), key=self.values.count)\n",
    "    \n",
    "    def median(self):\n",
    "        if self.feature_type == \"Categorical\":\n",
    "            raise TypeError(\"Cannot compute median for categorical feature\")\n",
    "        srt  = sorted(self.values)\n",
    "        n =  len(self.values)\n",
    "        if n % 2 == 1:\n",
    "            return srt[n // 2]\n",
    "        else:\n",
    "            return (srt[n // 2 - 1] + srt[n // 2]) / 2\n",
    "        \n",
    "    @classmethod\n",
    "    def from_file(cls, file_path: str) -> \"FeatureColumn\":\n",
    "        with open(file_path) as file:\n",
    "            values = file.read().splitlines()\n",
    "        try:\n",
    "            values = [float(val) for val in values]\n",
    "        except Error as e:\n",
    "            print(e)\n",
    "        return cls(values)"
   ]
  },
  {
   "cell_type": "code",
   "execution_count": 2,
   "id": "f3634c8a",
   "metadata": {},
   "outputs": [],
   "source": [
    "quant_feat = FeatureColumn([1.2, 3.5, 6.9, 9.9])"
   ]
  },
  {
   "cell_type": "code",
   "execution_count": 3,
   "id": "96cd5048",
   "metadata": {},
   "outputs": [
    {
     "data": {
      "text/plain": [
       "[1.2, 3.5, 6.9, 9.9]"
      ]
     },
     "execution_count": 3,
     "metadata": {},
     "output_type": "execute_result"
    }
   ],
   "source": [
    "quant_feat.values"
   ]
  },
  {
   "cell_type": "code",
   "execution_count": 4,
   "id": "085e5b7b",
   "metadata": {},
   "outputs": [
    {
     "data": {
      "text/plain": [
       "'Quantitative'"
      ]
     },
     "execution_count": 4,
     "metadata": {},
     "output_type": "execute_result"
    }
   ],
   "source": [
    "quant_feat.feature_type"
   ]
  },
  {
   "cell_type": "code",
   "execution_count": 5,
   "id": "2229a1db",
   "metadata": {},
   "outputs": [
    {
     "data": {
      "text/plain": [
       "5.375"
      ]
     },
     "execution_count": 5,
     "metadata": {},
     "output_type": "execute_result"
    }
   ],
   "source": [
    "quant_feat.mean()"
   ]
  },
  {
   "cell_type": "code",
   "execution_count": 36,
   "id": "c0ac1ade",
   "metadata": {},
   "outputs": [],
   "source": [
    "cat_feat = FeatureColumn([\"blue\", \"orange\", \"blue\", \"green\"])"
   ]
  },
  {
   "cell_type": "code",
   "execution_count": 37,
   "id": "3ee98ed4",
   "metadata": {},
   "outputs": [
    {
     "data": {
      "text/plain": [
       "'Categorical'"
      ]
     },
     "execution_count": 37,
     "metadata": {},
     "output_type": "execute_result"
    }
   ],
   "source": [
    "cat_feat.feature_type"
   ]
  },
  {
   "cell_type": "code",
   "execution_count": 38,
   "id": "8cbd8181",
   "metadata": {},
   "outputs": [
    {
     "data": {
      "text/plain": [
       "'blue'"
      ]
     },
     "execution_count": 38,
     "metadata": {},
     "output_type": "execute_result"
    }
   ],
   "source": [
    "cat_feat.mode()"
   ]
  },
  {
   "cell_type": "code",
   "execution_count": 39,
   "id": "b2852e9f",
   "metadata": {},
   "outputs": [
    {
     "data": {
      "text/plain": [
       "2"
      ]
     },
     "execution_count": 39,
     "metadata": {},
     "output_type": "execute_result"
    }
   ],
   "source": [
    "cat_feat.values.count(\"blue\")"
   ]
  },
  {
   "cell_type": "code",
   "execution_count": 41,
   "id": "4f4307c4",
   "metadata": {},
   "outputs": [
    {
     "data": {
      "text/plain": [
       "['blue', 'green', 'orange']"
      ]
     },
     "execution_count": 41,
     "metadata": {},
     "output_type": "execute_result"
    }
   ],
   "source": [
    "cat_feat.unique"
   ]
  },
  {
   "cell_type": "code",
   "execution_count": 10,
   "id": "d9636d06",
   "metadata": {},
   "outputs": [
    {
     "ename": "AttributeError",
     "evalue": "Values are neither consistently numbers not strings",
     "output_type": "error",
     "traceback": [
      "\u001b[0;31m---------------------------------------------------------------------------\u001b[0m",
      "\u001b[0;31mAttributeError\u001b[0m                            Traceback (most recent call last)",
      "\u001b[0;32m/var/folders/vz/qq90_fjn1m16lsr3mxp1blp80000gn/T/ipykernel_41836/3530646727.py\u001b[0m in \u001b[0;36m<module>\u001b[0;34m\u001b[0m\n\u001b[0;32m----> 1\u001b[0;31m \u001b[0mmix_feat\u001b[0m \u001b[0;34m=\u001b[0m \u001b[0mFeatureColumn\u001b[0m\u001b[0;34m(\u001b[0m\u001b[0;34m[\u001b[0m\u001b[0;36m1.2\u001b[0m\u001b[0;34m,\u001b[0m \u001b[0;36m3.5\u001b[0m\u001b[0;34m,\u001b[0m \u001b[0;34m\"Hello\"\u001b[0m\u001b[0;34m,\u001b[0m \u001b[0;36m9.9\u001b[0m\u001b[0;34m]\u001b[0m\u001b[0;34m)\u001b[0m\u001b[0;34m\u001b[0m\u001b[0;34m\u001b[0m\u001b[0m\n\u001b[0m",
      "\u001b[0;32m/var/folders/vz/qq90_fjn1m16lsr3mxp1blp80000gn/T/ipykernel_41836/988036833.py\u001b[0m in \u001b[0;36m__init__\u001b[0;34m(self, values)\u001b[0m\n\u001b[1;32m     11\u001b[0m             \u001b[0mself\u001b[0m\u001b[0;34m.\u001b[0m\u001b[0mfeature_type\u001b[0m  \u001b[0;34m=\u001b[0m \u001b[0;34m\"Categorical\"\u001b[0m\u001b[0;34m\u001b[0m\u001b[0;34m\u001b[0m\u001b[0m\n\u001b[1;32m     12\u001b[0m         \u001b[0;32melse\u001b[0m\u001b[0;34m:\u001b[0m\u001b[0;34m\u001b[0m\u001b[0;34m\u001b[0m\u001b[0m\n\u001b[0;32m---> 13\u001b[0;31m             \u001b[0;32mraise\u001b[0m \u001b[0mAttributeError\u001b[0m\u001b[0;34m(\u001b[0m\u001b[0;34m\"Values are neither consistently numbers not strings\"\u001b[0m\u001b[0;34m)\u001b[0m\u001b[0;34m\u001b[0m\u001b[0;34m\u001b[0m\u001b[0m\n\u001b[0m\u001b[1;32m     14\u001b[0m         \u001b[0mself\u001b[0m\u001b[0;34m.\u001b[0m\u001b[0mvalues\u001b[0m \u001b[0;34m=\u001b[0m \u001b[0mvalues\u001b[0m\u001b[0;34m\u001b[0m\u001b[0;34m\u001b[0m\u001b[0m\n\u001b[1;32m     15\u001b[0m \u001b[0;34m\u001b[0m\u001b[0m\n",
      "\u001b[0;31mAttributeError\u001b[0m: Values are neither consistently numbers not strings"
     ]
    }
   ],
   "source": [
    "mix_feat = FeatureColumn([1.2, 3.5, \"Hello\", 9.9])"
   ]
  },
  {
   "cell_type": "code",
   "execution_count": 11,
   "id": "550e2919",
   "metadata": {},
   "outputs": [
    {
     "data": {
      "text/plain": [
       "4"
      ]
     },
     "execution_count": 11,
     "metadata": {},
     "output_type": "execute_result"
    }
   ],
   "source": [
    "len(quant_feat)"
   ]
  },
  {
   "cell_type": "code",
   "execution_count": 12,
   "id": "8cc60fb3",
   "metadata": {},
   "outputs": [
    {
     "name": "stdout",
     "output_type": "stream",
     "text": [
      "FeatureColumn(type=Quantitative, values=[1.2, 3.5, 6.9, 9.9])\n"
     ]
    }
   ],
   "source": [
    "print(quant_feat)"
   ]
  },
  {
   "cell_type": "code",
   "execution_count": 13,
   "id": "ec50c1b7",
   "metadata": {},
   "outputs": [],
   "source": [
    "int_feat = FeatureColumn([1, 7, 9, 6, 8, 0])"
   ]
  },
  {
   "cell_type": "code",
   "execution_count": 14,
   "id": "0fb1c6dd",
   "metadata": {},
   "outputs": [
    {
     "data": {
      "text/plain": [
       "6.5"
      ]
     },
     "execution_count": 14,
     "metadata": {},
     "output_type": "execute_result"
    }
   ],
   "source": [
    "int_feat.median()"
   ]
  },
  {
   "cell_type": "code",
   "execution_count": 15,
   "id": "3fc43235",
   "metadata": {},
   "outputs": [],
   "source": [
    "int_feat_2 = FeatureColumn([10, 10, 10, 10, 0, 0])"
   ]
  },
  {
   "cell_type": "code",
   "execution_count": 16,
   "id": "88a6dc71",
   "metadata": {},
   "outputs": [
    {
     "data": {
      "text/plain": [
       "FeatureColumn(type=Quantitative, values=[11, 17, 19, 16, 8, 0])"
      ]
     },
     "execution_count": 16,
     "metadata": {},
     "output_type": "execute_result"
    }
   ],
   "source": [
    "int_feat + int_feat_2"
   ]
  },
  {
   "cell_type": "code",
   "execution_count": 22,
   "id": "ee1ab412",
   "metadata": {},
   "outputs": [
    {
     "data": {
      "text/plain": [
       "FeatureColumn(type=Quantitative, values=[1.0, 2.0, 10.0, 9.3, 8.0, 10.0])"
      ]
     },
     "execution_count": 22,
     "metadata": {},
     "output_type": "execute_result"
    }
   ],
   "source": [
    "FeatureColumn.from_file(\"../datasets/feature-example.txt\")"
   ]
  },
  {
   "cell_type": "code",
   "execution_count": null,
   "id": "cdf74a8a",
   "metadata": {},
   "outputs": [],
   "source": []
  }
 ],
 "metadata": {
  "kernelspec": {
   "display_name": "Python 3 (ipykernel)",
   "language": "python",
   "name": "python3"
  },
  "language_info": {
   "codemirror_mode": {
    "name": "ipython",
    "version": 3
   },
   "file_extension": ".py",
   "mimetype": "text/x-python",
   "name": "python",
   "nbconvert_exporter": "python",
   "pygments_lexer": "ipython3",
   "version": "3.9.7"
  }
 },
 "nbformat": 4,
 "nbformat_minor": 5
}
