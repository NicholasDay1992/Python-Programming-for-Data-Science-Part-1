{
 "cells": [
  {
   "cell_type": "markdown",
   "metadata": {},
   "source": [
    "## Pandas advanced functionalities"
   ]
  },
  {
   "cell_type": "code",
   "execution_count": null,
   "metadata": {},
   "outputs": [],
   "source": [
    "import numpy as np\n",
    "import pandas as pd"
   ]
  },
  {
   "cell_type": "markdown",
   "metadata": {},
   "source": [
    "Let's import the movies database again"
   ]
  },
  {
   "cell_type": "code",
   "execution_count": null,
   "metadata": {},
   "outputs": [],
   "source": [
    "imdb_movies = pd.read_csv(\"../datasets/imdb-movies.csv\")\n",
    "imdb_movies.set_index('Rank', inplace=True)\n",
    "imdb_movies.shape"
   ]
  },
  {
   "cell_type": "code",
   "execution_count": null,
   "metadata": {},
   "outputs": [],
   "source": [
    "imdb_movies.head()"
   ]
  },
  {
   "cell_type": "markdown",
   "metadata": {},
   "source": [
    "#### Challenge: Which are the most and the least common genres in our dataset?"
   ]
  },
  {
   "cell_type": "code",
   "execution_count": null,
   "metadata": {},
   "outputs": [],
   "source": [
    "genre = imdb_movies.loc[1]['Genre']"
   ]
  },
  {
   "cell_type": "code",
   "execution_count": null,
   "metadata": {},
   "outputs": [],
   "source": [
    "genre"
   ]
  },
  {
   "cell_type": "markdown",
   "metadata": {},
   "source": [
    "Issue: genre is a comma separated string. We need to convert it to something more useful for our computations"
   ]
  },
  {
   "cell_type": "code",
   "execution_count": null,
   "metadata": {},
   "outputs": [],
   "source": [
    "genres = genre.split(',')\n",
    "genres"
   ]
  },
  {
   "cell_type": "code",
   "execution_count": null,
   "metadata": {},
   "outputs": [],
   "source": [
    "imdb_movies['Genres'] = imdb_movies.Genre.str.split(\",\")"
   ]
  },
  {
   "cell_type": "code",
   "execution_count": null,
   "metadata": {},
   "outputs": [],
   "source": [
    "imdb_movies.head()"
   ]
  },
  {
   "cell_type": "code",
   "execution_count": null,
   "metadata": {},
   "outputs": [],
   "source": [
    "del imdb_movies['Genre']"
   ]
  },
  {
   "cell_type": "code",
   "execution_count": null,
   "metadata": {},
   "outputs": [],
   "source": [
    "imdb_movies.head()"
   ]
  },
  {
   "cell_type": "markdown",
   "metadata": {},
   "source": [
    "Now the simlplest and most efficient way to count the genre occurrences is to \"explode\" them, tranforming each element in the `genres` lists into a separate row."
   ]
  },
  {
   "cell_type": "code",
   "execution_count": null,
   "metadata": {},
   "outputs": [],
   "source": [
    "imdb_movies_unwinded_genres = imdb_movies.explode('Genres').reset_index()\n",
    "imdb_movies_unwinded_genres"
   ]
  },
  {
   "cell_type": "code",
   "execution_count": null,
   "metadata": {},
   "outputs": [],
   "source": [
    "imdb_movies_unwinded_genres.Genres.value_counts(ascending=False)"
   ]
  },
  {
   "cell_type": "code",
   "execution_count": null,
   "metadata": {},
   "outputs": [],
   "source": [
    "_ = imdb_movies_unwinded_genres.Genres.value_counts().plot(kind=\"bar\")"
   ]
  },
  {
   "cell_type": "markdown",
   "metadata": {},
   "source": [
    "We can do some extra exploration like finding the movies with highest revenue over metascore ratio"
   ]
  },
  {
   "cell_type": "code",
   "execution_count": null,
   "metadata": {},
   "outputs": [],
   "source": [
    "# Find the highest Revenue / Metascore ratio\n",
    "\n",
    "revenue_to_metascore_ratio = imdb_movies['Revenue (Millions)'] / imdb_movies['Metascore']\n",
    "revenue_to_metascore_ratio"
   ]
  },
  {
   "cell_type": "code",
   "execution_count": null,
   "metadata": {},
   "outputs": [],
   "source": [
    "imdb_movies_sorted_by_ratio = imdb_movies.loc[\n",
    "    :, ['Title', 'Director', 'Rating', 'Revenue (Millions)']\n",
    "]"
   ]
  },
  {
   "cell_type": "code",
   "execution_count": null,
   "metadata": {},
   "outputs": [],
   "source": [
    "imdb_movies_sorted_by_ratio['Revenue/Metascore Ratio'] = revenue_to_metascore_ratio\n",
    "imdb_movies_sorted_by_ratio.sort_values(\n",
    "    by='Revenue/Metascore Ratio',\n",
    "    inplace=True,\n",
    "    ascending=False\n",
    ")\n",
    "imdb_movies_sorted_by_ratio.head()"
   ]
  },
  {
   "cell_type": "markdown",
   "metadata": {},
   "source": [
    "**Exercise:** convert the \"actors\" field into a list and delete the old column"
   ]
  },
  {
   "cell_type": "code",
   "execution_count": null,
   "metadata": {},
   "outputs": [],
   "source": [
    "# write your solution here"
   ]
  },
  {
   "cell_type": "markdown",
   "metadata": {},
   "source": [
    "## Split, Apply, Combine"
   ]
  },
  {
   "cell_type": "code",
   "execution_count": null,
   "metadata": {},
   "outputs": [],
   "source": [
    "imdb_movies = pd.read_csv(\"../datasets/imdb-movies.csv\")\n",
    "imdb_movies.set_index('Rank', inplace=True)"
   ]
  },
  {
   "cell_type": "code",
   "execution_count": null,
   "metadata": {},
   "outputs": [],
   "source": [
    "imdb_movies.sample(3)"
   ]
  },
  {
   "cell_type": "markdown",
   "metadata": {},
   "source": [
    "### Which director generated the highest average income?\n",
    "\n",
    "The goal of our analysis will be to find which director generated on average more income.\n",
    "We will have to:\n",
    "\n",
    "1) split the dataframe according to movie director\n",
    "\n",
    "2) compute the average income per director\n",
    "\n",
    "3) combine the results"
   ]
  },
  {
   "cell_type": "code",
   "execution_count": null,
   "metadata": {},
   "outputs": [],
   "source": [
    "# Split\n",
    "COLUMNS_TO_SELECT = [\n",
    "    \"Runtime (Minutes)\",\n",
    "    \"Revenue (Millions)\",\n",
    "    \"Rating\",\n",
    "    \"Metascore\",\n",
    "    \"Director\"\n",
    "]\n",
    "grouped_by_director = imdb_movies[COLUMNS_TO_SELECT].groupby('Director')\n",
    "type(grouped_by_director)"
   ]
  },
  {
   "cell_type": "code",
   "execution_count": null,
   "metadata": {},
   "outputs": [],
   "source": [
    "grouped_by_director.describe()"
   ]
  },
  {
   "cell_type": "markdown",
   "metadata": {},
   "source": [
    "The `groups` attribute is a `dict` whose keys are the computed unique groups and corresponding values being the axis labels belonging to each group. In the above example we have:"
   ]
  },
  {
   "cell_type": "code",
   "execution_count": null,
   "metadata": {},
   "outputs": [],
   "source": [
    "grouped_by_director.groups"
   ]
  },
  {
   "cell_type": "code",
   "execution_count": null,
   "metadata": {},
   "outputs": [],
   "source": [
    "imdb_movies.loc[992]"
   ]
  },
  {
   "cell_type": "markdown",
   "metadata": {},
   "source": [
    "### Apply and combine phase\n",
    "\n",
    "After the group-by operation there are a wide range of options for the \"apply\" phase\n",
    "\n",
    "1) Aggregations using the `.aggregate()` or `.agg()` method of `DataFrameGroupBy`\n",
    "    a) as a special case you can use Pandas built-in aggregation methods (`count`, `mean`, etc...)\n",
    "    \n",
    "2) Transformations using the `.transform()` method\n",
    "\n",
    "3) Filtrations using the `.filter()` method\n",
    "\n",
    "4) A generalisation of the two above using the `.apply()` method\n",
    "\n",
    "In this case we will have to perform an aggregation."
   ]
  },
  {
   "cell_type": "code",
   "execution_count": null,
   "metadata": {},
   "outputs": [],
   "source": [
    "### Get the mean value for the three features for each director\n",
    "grouped_by_director.mean()"
   ]
  },
  {
   "cell_type": "markdown",
   "metadata": {},
   "source": [
    "Now we have all we need to find the director(s) with the highest average income"
   ]
  },
  {
   "cell_type": "code",
   "execution_count": null,
   "metadata": {},
   "outputs": [],
   "source": [
    "### Write the solution here\n"
   ]
  },
  {
   "cell_type": "markdown",
   "metadata": {},
   "source": [
    "#### Challenge: Find the 10 directors which generated the highest and lowest average income, but filter out directors who have directed less than 3 movies"
   ]
  },
  {
   "cell_type": "code",
   "execution_count": null,
   "metadata": {
    "scrolled": true
   },
   "outputs": [],
   "source": [
    "imdb_movies.info()"
   ]
  },
  {
   "cell_type": "code",
   "execution_count": null,
   "metadata": {},
   "outputs": [],
   "source": [
    "# answer the challenge here...\n"
   ]
  },
  {
   "cell_type": "code",
   "execution_count": null,
   "metadata": {},
   "outputs": [],
   "source": []
  },
  {
   "cell_type": "code",
   "execution_count": null,
   "metadata": {},
   "outputs": [],
   "source": []
  },
  {
   "cell_type": "code",
   "execution_count": null,
   "metadata": {},
   "outputs": [],
   "source": []
  },
  {
   "cell_type": "markdown",
   "metadata": {},
   "source": [
    "## Other aggregation techniques"
   ]
  },
  {
   "cell_type": "markdown",
   "metadata": {},
   "source": [
    "With `.agg()` we can get more than one statistics at once"
   ]
  },
  {
   "cell_type": "code",
   "execution_count": null,
   "metadata": {},
   "outputs": [],
   "source": [
    "# Get all the statistics about directors\n",
    "directors_stats = grouped_by_director.agg([np.mean, np.median, np.std])\n",
    "directors_stats"
   ]
  },
  {
   "cell_type": "code",
   "execution_count": null,
   "metadata": {},
   "outputs": [],
   "source": [
    "# get all the statistics about Runtime\n",
    "directors_stats.loc[:, \"Runtime (Minutes)\"]"
   ]
  },
  {
   "cell_type": "code",
   "execution_count": null,
   "metadata": {},
   "outputs": [],
   "source": [
    "# get all the average Runtime for actor movies\n",
    "directors_stats.loc[:, \"Runtime (Minutes)\"][\"mean\"].sort_values(ascending=False)"
   ]
  },
  {
   "cell_type": "markdown",
   "metadata": {},
   "source": [
    "It is also possible to compute customised statistics (i.e. write your own functions)"
   ]
  },
  {
   "cell_type": "code",
   "execution_count": null,
   "metadata": {},
   "outputs": [],
   "source": [
    "custom_directors_stats = grouped_by_director.agg([\n",
    "    lambda x: x.max() - x.min(),\n",
    "    lambda x: x.mean() - x.median()\n",
    "])\n",
    "custom_directors_stats"
   ]
  },
  {
   "cell_type": "markdown",
   "metadata": {},
   "source": [
    "The issue is that the generated stats do not have meaningful names.\n",
    "\n",
    "If you want to provide names to the generated columns you need to use the `pd.NamedAgg` construct."
   ]
  },
  {
   "cell_type": "code",
   "execution_count": null,
   "metadata": {},
   "outputs": [],
   "source": [
    "## Named aggregations\n",
    "\n",
    "# Get all the statistics about directors\n",
    "custom_directors_stats = grouped_by_director.agg(\n",
    "    runtime_min_max_diff=pd.NamedAgg(\n",
    "        column=\"Runtime (Minutes)\",\n",
    "        aggfunc=lambda x: x.max() - x.min()\n",
    "    ),\n",
    "    runtime_mean_median_diff=pd.NamedAgg(\n",
    "        column=\"Runtime (Minutes)\",\n",
    "        aggfunc=lambda x: x.mean() - x.median()\n",
    "    )\n",
    ")\n",
    "custom_directors_stats"
   ]
  },
  {
   "cell_type": "markdown",
   "metadata": {},
   "source": [
    "### Data Transformation with `.transform()`"
   ]
  },
  {
   "cell_type": "markdown",
   "metadata": {},
   "source": [
    "The `.transform()` method returns an object that is indexed the same (same size) as the one being grouped. \n",
    "\n",
    "#### Which 10 movies have earned more with respect to the average yearly movie revenue of the year they came out?"
   ]
  },
  {
   "cell_type": "code",
   "execution_count": null,
   "metadata": {},
   "outputs": [],
   "source": [
    "COLUMNS_TO_SELECT = [\n",
    "    \"Runtime (Minutes)\",\n",
    "    \"Revenue (Millions)\",\n",
    "    \"Rating\",\n",
    "    \"Metascore\",\n",
    "    \"Year\"\n",
    "]\n",
    "res = imdb_movies[COLUMNS_TO_SELECT].groupby(\"Year\").transform(lambda x: x - x.mean())\n",
    "res"
   ]
  },
  {
   "cell_type": "code",
   "execution_count": null,
   "metadata": {},
   "outputs": [],
   "source": [
    "# insert the title column at the beginning of the DF\n",
    "res.insert(loc=0, column='Title', value=imdb_movies['Title'])\n",
    "\n",
    "# show first 10 movies by mean-normalised revenue, descending\n",
    "res.sort_values(by=\"Revenue (Millions)\", ascending=False).head(10)"
   ]
  },
  {
   "cell_type": "markdown",
   "metadata": {},
   "source": [
    "### Filtration with `.filter()`\n",
    "\n",
    "The filter method returns a subset of the original object.\n",
    "\n",
    "##### Exercise: get all the movies by Directors whose average rating is higher than 7.5"
   ]
  },
  {
   "cell_type": "code",
   "execution_count": null,
   "metadata": {},
   "outputs": [],
   "source": [
    "# write your solution here\n"
   ]
  },
  {
   "cell_type": "markdown",
   "metadata": {},
   "source": [
    "### More generic operations with `.apply()`\n",
    "\n",
    "The generic `.apply()` method can be used in lieu of either `.aggregate()` and `.transform()` in many standard use cases.\n",
    "\n",
    "However, apply can handle some exceptional use cases, as in the example below:"
   ]
  },
  {
   "cell_type": "code",
   "execution_count": null,
   "metadata": {},
   "outputs": [],
   "source": [
    "grouped_by_director = imdb_movies.groupby('Director')[\"Revenue (Millions)\"]\n",
    "type(grouped_by_director)"
   ]
  },
  {
   "cell_type": "code",
   "execution_count": null,
   "metadata": {},
   "outputs": [],
   "source": [
    "def func(group: pd.Series) -> pd.DataFrame:\n",
    "    return pd.DataFrame({\n",
    "        'original': group,\n",
    "        'mean_normalized': group - group.mean(),\n",
    "        'median_normalized': group - group.median()\n",
    "    })\n",
    "\n",
    "grouped_by_director.apply(func)"
   ]
  },
  {
   "cell_type": "markdown",
   "metadata": {},
   "source": [
    "### Multi-indexing\n",
    "\n",
    "Lets' suppose we have an experimenyal scenatio with three groups two test groups and one control group.\n",
    "\n",
    "Each group has three subjects\n",
    "\n",
    "We will use the group as the first level in our hierarchical index and the subject as the second level."
   ]
  },
  {
   "cell_type": "code",
   "execution_count": null,
   "metadata": {},
   "outputs": [],
   "source": [
    "index_lists = [\n",
    "    [\n",
    "        'control', 'control', 'control', \n",
    "        'test_first', 'test_first', 'test_first', \n",
    "        'test_second', 'test_second', 'test_second'\n",
    "    ],\n",
    "    [\n",
    "        'subj_0', 'subj_1', 'subj_2',\n",
    "        'subj_0', 'subj_1', 'subj_2',\n",
    "        'subj_0', 'subj_1', 'subj_2',\n",
    "    ]\n",
    "]\n",
    "tups = list(zip(*index_lists))\n",
    "tups"
   ]
  },
  {
   "cell_type": "markdown",
   "metadata": {},
   "source": [
    "We use `MultiIndex.from_tuples()` to create out hierarchical index"
   ]
  },
  {
   "cell_type": "code",
   "execution_count": null,
   "metadata": {},
   "outputs": [],
   "source": [
    "index = pd.MultiIndex.from_tuples(tups)\n",
    "index"
   ]
  },
  {
   "cell_type": "markdown",
   "metadata": {},
   "source": [
    "We simulate to features/variables observed on our subjects using random distributions"
   ]
  },
  {
   "cell_type": "code",
   "execution_count": null,
   "metadata": {},
   "outputs": [],
   "source": [
    "data = np.array([np.random.uniform(120, 180, 9), np.random.uniform(60, 100, 9)]).T\n",
    "data"
   ]
  },
  {
   "cell_type": "code",
   "execution_count": null,
   "metadata": {},
   "outputs": [],
   "source": [
    "df = pd.DataFrame(\n",
    "    data=data, \n",
    "    columns=['systolic blood pressure', 'diastolic blood pressure'], \n",
    "    index=index\n",
    ")\n",
    "df"
   ]
  },
  {
   "cell_type": "markdown",
   "metadata": {},
   "source": [
    "### Computational Tools\n",
    "\n",
    "There are functions to compute covariance and correlation matrices, similar to the NumPy ones."
   ]
  },
  {
   "cell_type": "code",
   "execution_count": null,
   "metadata": {},
   "outputs": [],
   "source": [
    "imdb_movies.cov()"
   ]
  },
  {
   "cell_type": "code",
   "execution_count": null,
   "metadata": {},
   "outputs": [],
   "source": [
    "imdb_movies.corr()"
   ]
  },
  {
   "cell_type": "markdown",
   "metadata": {},
   "source": [
    "The `.rank()` method can be used to rank items inside a group:"
   ]
  },
  {
   "cell_type": "code",
   "execution_count": null,
   "metadata": {},
   "outputs": [],
   "source": [
    "imdb_movies['Most Profitable By Director Rank'] = imdb_movies \\\n",
    "    .groupby('Director')['Revenue (Millions)'] \\\n",
    "    .rank(method='first')"
   ]
  },
  {
   "cell_type": "code",
   "execution_count": null,
   "metadata": {},
   "outputs": [],
   "source": [
    "imdb_movies.sort_values(\n",
    "    ['Director', 'Most Profitable By Director Rank']\n",
    ")[['Title', 'Director', 'Revenue (Millions)', 'Most Profitable By Director Rank']].tail(10)"
   ]
  },
  {
   "cell_type": "code",
   "execution_count": null,
   "metadata": {},
   "outputs": [],
   "source": []
  }
 ],
 "metadata": {
  "kernelspec": {
   "display_name": "Python 3 (ipykernel)",
   "language": "python",
   "name": "python3"
  },
  "language_info": {
   "codemirror_mode": {
    "name": "ipython",
    "version": 3
   },
   "file_extension": ".py",
   "mimetype": "text/x-python",
   "name": "python",
   "nbconvert_exporter": "python",
   "pygments_lexer": "ipython3",
   "version": "3.9.7"
  }
 },
 "nbformat": 4,
 "nbformat_minor": 2
}
