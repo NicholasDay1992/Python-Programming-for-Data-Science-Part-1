{
 "cells": [
  {
   "cell_type": "markdown",
   "id": "a313129b",
   "metadata": {},
   "source": [
    "# Pandas data manipulation and transformation"
   ]
  },
  {
   "cell_type": "code",
   "execution_count": 1,
   "id": "17aa7cf8",
   "metadata": {},
   "outputs": [],
   "source": [
    "import numpy as np\n",
    "import pandas as pd"
   ]
  },
  {
   "cell_type": "code",
   "execution_count": 2,
   "id": "fa79f23f",
   "metadata": {},
   "outputs": [
    {
     "data": {
      "text/plain": [
       "(1000, 10)"
      ]
     },
     "execution_count": 2,
     "metadata": {},
     "output_type": "execute_result"
    }
   ],
   "source": [
    "imdb_movies = pd.read_csv(\"../datasets/imdb-movies.csv\")\n",
    "imdb_movies.set_index('Rank', inplace=True)\n",
    "imdb_movies.shape"
   ]
  },
  {
   "cell_type": "code",
   "execution_count": 3,
   "id": "6175e2e4",
   "metadata": {},
   "outputs": [
    {
     "data": {
      "text/html": [
       "<div>\n",
       "<style scoped>\n",
       "    .dataframe tbody tr th:only-of-type {\n",
       "        vertical-align: middle;\n",
       "    }\n",
       "\n",
       "    .dataframe tbody tr th {\n",
       "        vertical-align: top;\n",
       "    }\n",
       "\n",
       "    .dataframe thead th {\n",
       "        text-align: right;\n",
       "    }\n",
       "</style>\n",
       "<table border=\"1\" class=\"dataframe\">\n",
       "  <thead>\n",
       "    <tr style=\"text-align: right;\">\n",
       "      <th></th>\n",
       "      <th>Title</th>\n",
       "      <th>Genre</th>\n",
       "      <th>Director</th>\n",
       "      <th>Year</th>\n",
       "      <th>Runtime (Minutes)</th>\n",
       "      <th>Rating</th>\n",
       "      <th>Votes</th>\n",
       "      <th>Revenue (Millions)</th>\n",
       "      <th>Metascore</th>\n",
       "      <th>Actors</th>\n",
       "    </tr>\n",
       "    <tr>\n",
       "      <th>Rank</th>\n",
       "      <th></th>\n",
       "      <th></th>\n",
       "      <th></th>\n",
       "      <th></th>\n",
       "      <th></th>\n",
       "      <th></th>\n",
       "      <th></th>\n",
       "      <th></th>\n",
       "      <th></th>\n",
       "      <th></th>\n",
       "    </tr>\n",
       "  </thead>\n",
       "  <tbody>\n",
       "    <tr>\n",
       "      <th>391</th>\n",
       "      <td>Keanu</td>\n",
       "      <td>Action,Comedy</td>\n",
       "      <td>Peter Atencio</td>\n",
       "      <td>2016</td>\n",
       "      <td>100</td>\n",
       "      <td>6.3</td>\n",
       "      <td>31913</td>\n",
       "      <td>20.57</td>\n",
       "      <td>63.0</td>\n",
       "      <td>Keegan-Michael Key, Jordan Peele, Tiffany Hadd...</td>\n",
       "    </tr>\n",
       "    <tr>\n",
       "      <th>654</th>\n",
       "      <td>Popstar: Never Stop Never Stopping</td>\n",
       "      <td>Comedy,Music</td>\n",
       "      <td>Akiva Schaffer</td>\n",
       "      <td>2016</td>\n",
       "      <td>87</td>\n",
       "      <td>6.7</td>\n",
       "      <td>30875</td>\n",
       "      <td>9.39</td>\n",
       "      <td>68.0</td>\n",
       "      <td>Andy Samberg, Jorma Taccone,Akiva Schaffer, Sa...</td>\n",
       "    </tr>\n",
       "    <tr>\n",
       "      <th>781</th>\n",
       "      <td>Unknown</td>\n",
       "      <td>Action,Mystery,Thriller</td>\n",
       "      <td>Jaume Collet-Serra</td>\n",
       "      <td>2011</td>\n",
       "      <td>113</td>\n",
       "      <td>6.9</td>\n",
       "      <td>218679</td>\n",
       "      <td>61.09</td>\n",
       "      <td>56.0</td>\n",
       "      <td>Liam Neeson, Diane Kruger, January Jones,Aidan...</td>\n",
       "    </tr>\n",
       "    <tr>\n",
       "      <th>997</th>\n",
       "      <td>Hostel: Part II</td>\n",
       "      <td>Horror</td>\n",
       "      <td>Eli Roth</td>\n",
       "      <td>2007</td>\n",
       "      <td>94</td>\n",
       "      <td>5.5</td>\n",
       "      <td>73152</td>\n",
       "      <td>17.54</td>\n",
       "      <td>46.0</td>\n",
       "      <td>Lauren German, Heather Matarazzo, Bijou Philli...</td>\n",
       "    </tr>\n",
       "    <tr>\n",
       "      <th>18</th>\n",
       "      <td>Jason Bourne</td>\n",
       "      <td>Action,Thriller</td>\n",
       "      <td>Paul Greengrass</td>\n",
       "      <td>2016</td>\n",
       "      <td>123</td>\n",
       "      <td>6.7</td>\n",
       "      <td>150823</td>\n",
       "      <td>162.16</td>\n",
       "      <td>58.0</td>\n",
       "      <td>Matt Damon, Tommy Lee Jones, Alicia Vikander,V...</td>\n",
       "    </tr>\n",
       "  </tbody>\n",
       "</table>\n",
       "</div>"
      ],
      "text/plain": [
       "                                   Title                    Genre  \\\n",
       "Rank                                                                \n",
       "391                                Keanu            Action,Comedy   \n",
       "654   Popstar: Never Stop Never Stopping             Comedy,Music   \n",
       "781                              Unknown  Action,Mystery,Thriller   \n",
       "997                      Hostel: Part II                   Horror   \n",
       "18                          Jason Bourne          Action,Thriller   \n",
       "\n",
       "                Director  Year  Runtime (Minutes)  Rating   Votes  \\\n",
       "Rank                                                                \n",
       "391        Peter Atencio  2016                100     6.3   31913   \n",
       "654       Akiva Schaffer  2016                 87     6.7   30875   \n",
       "781   Jaume Collet-Serra  2011                113     6.9  218679   \n",
       "997             Eli Roth  2007                 94     5.5   73152   \n",
       "18       Paul Greengrass  2016                123     6.7  150823   \n",
       "\n",
       "      Revenue (Millions)  Metascore  \\\n",
       "Rank                                  \n",
       "391                20.57       63.0   \n",
       "654                 9.39       68.0   \n",
       "781                61.09       56.0   \n",
       "997                17.54       46.0   \n",
       "18                162.16       58.0   \n",
       "\n",
       "                                                 Actors  \n",
       "Rank                                                     \n",
       "391   Keegan-Michael Key, Jordan Peele, Tiffany Hadd...  \n",
       "654   Andy Samberg, Jorma Taccone,Akiva Schaffer, Sa...  \n",
       "781   Liam Neeson, Diane Kruger, January Jones,Aidan...  \n",
       "997   Lauren German, Heather Matarazzo, Bijou Philli...  \n",
       "18    Matt Damon, Tommy Lee Jones, Alicia Vikander,V...  "
      ]
     },
     "execution_count": 3,
     "metadata": {},
     "output_type": "execute_result"
    }
   ],
   "source": [
    "imdb_movies.sample(5)"
   ]
  },
  {
   "cell_type": "markdown",
   "id": "dbce2375",
   "metadata": {},
   "source": [
    "### Question 1: do movies longer tha 2h45 get better scores than movies shorter than 100 mins?"
   ]
  },
  {
   "cell_type": "code",
   "execution_count": 101,
   "id": "c1fa133a",
   "metadata": {},
   "outputs": [
    {
     "name": "stdout",
     "output_type": "stream",
     "text": [
      "number of movies > 2hrs 45 =  9\n",
      "number of movies < 100 mins =  227\n"
     ]
    },
    {
     "data": {
      "text/plain": [
       "Score vs length\n",
       "Less than 100 mins    55.867841\n",
       "Over 2hrs 45 mins     67.222222\n",
       "Name: Metascore, dtype: float64"
      ]
     },
     "execution_count": 101,
     "metadata": {},
     "output_type": "execute_result"
    }
   ],
   "source": [
    "# 2 hrs 45 = 165 mins\n",
    "\n",
    "# average of scores > 165 mins\n",
    "# average of scores < 100 mins\n",
    "\n",
    "long_movies  = sum(  (imdb_movies.loc[:,'Runtime (Minutes)'] > 165) & (imdb_movies['Metascore'] > 0 ) )\n",
    "short_movies = sum(  (imdb_movies.loc[:,'Runtime (Minutes)'] < 100) & (imdb_movies['Metascore'] > 0 ) )\n",
    "\n",
    "print(\"number of movies > 2hrs 45 = \",long_movies)\n",
    "print(\"number of movies < 100 mins = \",short_movies)\n",
    "\n",
    "\n",
    "#imdb_movies.groupby(['Runtime (Minutes)', 'Metascore']).mean()\n",
    "\n",
    "imdb_movies.loc[imdb_movies['Runtime (Minutes)']<100,'Score vs length'] = 'Less than 100 mins'     #short\n",
    "imdb_movies.loc[imdb_movies['Runtime (Minutes)']>165,'Score vs length'] = 'Over 2hrs 45 mins'     #long\n",
    "\n",
    "imdb_movies.groupby(['Score vs length']).mean()['Metascore']\n"
   ]
  },
  {
   "cell_type": "markdown",
   "id": "c1dddd4c",
   "metadata": {},
   "source": [
    "### Question 2: which is the director with highest revenue per minute of runtime?"
   ]
  },
  {
   "cell_type": "code",
   "execution_count": 128,
   "id": "a88b6dd1",
   "metadata": {},
   "outputs": [
    {
     "data": {
      "text/plain": [
       "12.841470883987094"
      ]
     },
     "execution_count": 128,
     "metadata": {},
     "output_type": "execute_result"
    }
   ],
   "source": [
    "\n",
    "# divide revenue by runtime ? \n",
    "\n",
    "#imdb_movies.groupby(['Director', 'Runtime (Minutes)' ]).sum()['Revenue (Millions)']\n",
    "\n",
    "imdb_movies.loc[imdb_movies['Runtime (Minutes)'] > 0,'Revenue by minute'] = imdb_movies['Revenue (Millions)'] / imdb_movies['Runtime (Minutes)']\n",
    "\n",
    "imdb_movies.groupby(['Director']).sum()['Revenue by minute'].max()"
   ]
  },
  {
   "cell_type": "markdown",
   "id": "aae97230",
   "metadata": {},
   "source": [
    "### Question 3: which is the most common movie genre in our dataset between 2007 and 2014?"
   ]
  },
  {
   "cell_type": "code",
   "execution_count": 107,
   "id": "e2653552",
   "metadata": {},
   "outputs": [
    {
     "data": {
      "text/plain": [
       "Genre\n",
       "Action                        2016.000000\n",
       "Action,Adventure              2011.000000\n",
       "Action,Adventure,Biography    2015.500000\n",
       "Action,Adventure,Comedy       2014.214286\n",
       "Action,Adventure,Crime        2012.333333\n",
       "                                 ...     \n",
       "Romance,Sci-Fi,Thriller       2011.000000\n",
       "Sci-Fi                        2016.000000\n",
       "Sci-Fi,Thriller               2008.000000\n",
       "Thriller                      2014.777778\n",
       "Thriller,War                  2016.000000\n",
       "Name: Year, Length: 207, dtype: float64"
      ]
     },
     "execution_count": 107,
     "metadata": {},
     "output_type": "execute_result"
    }
   ],
   "source": [
    "# filter by year >= 2007 and year <=2014\n",
    "\n",
    "imdb_movies.groupby(['Genre']).mean()['Year']\n"
   ]
  },
  {
   "cell_type": "markdown",
   "id": "0d4f8a69",
   "metadata": {},
   "source": [
    "### Question 4: which is the actor who has appeared in more movies between 2009 and 2015?"
   ]
  },
  {
   "cell_type": "code",
   "execution_count": 102,
   "id": "c42e8c0b",
   "metadata": {},
   "outputs": [
    {
     "data": {
      "text/plain": [
       "Actors\n",
       "Aamir Khan, Anushka Sharma, Sanjay Dutt,Boman Irani                          2014\n",
       "Aamir Khan, Madhavan, Mona Singh, Sharman Joshi                              2009\n",
       "Aamir Khan, Sakshi Tanwar, Fatima Sana Shaikh,Sanya Malhotra                 2016\n",
       "Aaron Paul, Dominic Cooper, Imogen Poots, Scott Mescudi                      2014\n",
       "Aaron Poole, Kenneth Welsh,Daniel Fathers, Kathleen Munroe                   2016\n",
       "                                                                             ... \n",
       "Zachary Gordon, Robert Capron, Rachael Harris,Steve Zahn                     2010\n",
       "Zoey Deutch, James Franco, Tangie Ambrose,Cedric the Entertainer             2016\n",
       "Zoey Deutch, Lucy Fry, Danila Kozlovsky, Gabriel Byrne                       2014\n",
       "Zoey Deutch, Nicholas Braun, Mateo Arias, Israel Broussard                   2016\n",
       "Zooey Deschanel, Joseph Gordon-Levitt, Geoffrey Arend, Chloë Grace Moretz    2009\n",
       "Name: Year, Length: 996, dtype: int64"
      ]
     },
     "execution_count": 102,
     "metadata": {},
     "output_type": "execute_result"
    }
   ],
   "source": [
    "# separate actors and store them in a set? \n",
    "\n",
    "# filter by year > 2009 and year < 2015\n",
    "\n",
    "imdb_movies.groupby(['Actors']).sum()['Year']\n"
   ]
  },
  {
   "cell_type": "code",
   "execution_count": null,
   "id": "ef2a965f",
   "metadata": {},
   "outputs": [],
   "source": []
  },
  {
   "cell_type": "code",
   "execution_count": null,
   "id": "8b4ce504",
   "metadata": {},
   "outputs": [],
   "source": []
  }
 ],
 "metadata": {
  "kernelspec": {
   "display_name": "Python 3 (ipykernel)",
   "language": "python",
   "name": "python3"
  },
  "language_info": {
   "codemirror_mode": {
    "name": "ipython",
    "version": 3
   },
   "file_extension": ".py",
   "mimetype": "text/x-python",
   "name": "python",
   "nbconvert_exporter": "python",
   "pygments_lexer": "ipython3",
   "version": "3.9.12"
  },
  "vscode": {
   "interpreter": {
    "hash": "31f2aee4e71d21fbe5cf8b01ff0e069b9275f58929596ceb00d14d90e3e16cd6"
   }
  }
 },
 "nbformat": 4,
 "nbformat_minor": 5
}
