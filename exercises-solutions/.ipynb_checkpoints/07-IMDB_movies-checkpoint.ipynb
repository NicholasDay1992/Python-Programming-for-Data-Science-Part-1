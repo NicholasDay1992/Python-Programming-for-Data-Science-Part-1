{
 "cells": [
  {
   "cell_type": "markdown",
   "id": "a313129b",
   "metadata": {},
   "source": [
    "# Pandas data manipulation and transformation"
   ]
  },
  {
   "cell_type": "code",
   "execution_count": 143,
   "id": "17aa7cf8",
   "metadata": {},
   "outputs": [],
   "source": [
    "import numpy as np\n",
    "import pandas as pd"
   ]
  },
  {
   "cell_type": "code",
   "execution_count": 144,
   "id": "fa79f23f",
   "metadata": {},
   "outputs": [
    {
     "data": {
      "text/plain": [
       "(1000, 10)"
      ]
     },
     "execution_count": 144,
     "metadata": {},
     "output_type": "execute_result"
    }
   ],
   "source": [
    "imdb_movies = pd.read_csv(\"../datasets/imdb-movies.csv\")\n",
    "imdb_movies.set_index('Rank', inplace=True)\n",
    "imdb_movies.shape"
   ]
  },
  {
   "cell_type": "code",
   "execution_count": 145,
   "id": "6175e2e4",
   "metadata": {},
   "outputs": [
    {
     "data": {
      "text/html": [
       "<div>\n",
       "<style scoped>\n",
       "    .dataframe tbody tr th:only-of-type {\n",
       "        vertical-align: middle;\n",
       "    }\n",
       "\n",
       "    .dataframe tbody tr th {\n",
       "        vertical-align: top;\n",
       "    }\n",
       "\n",
       "    .dataframe thead th {\n",
       "        text-align: right;\n",
       "    }\n",
       "</style>\n",
       "<table border=\"1\" class=\"dataframe\">\n",
       "  <thead>\n",
       "    <tr style=\"text-align: right;\">\n",
       "      <th></th>\n",
       "      <th>Title</th>\n",
       "      <th>Genre</th>\n",
       "      <th>Director</th>\n",
       "      <th>Year</th>\n",
       "      <th>Runtime (Minutes)</th>\n",
       "      <th>Rating</th>\n",
       "      <th>Votes</th>\n",
       "      <th>Revenue (Millions)</th>\n",
       "      <th>Metascore</th>\n",
       "      <th>Actors</th>\n",
       "    </tr>\n",
       "    <tr>\n",
       "      <th>Rank</th>\n",
       "      <th></th>\n",
       "      <th></th>\n",
       "      <th></th>\n",
       "      <th></th>\n",
       "      <th></th>\n",
       "      <th></th>\n",
       "      <th></th>\n",
       "      <th></th>\n",
       "      <th></th>\n",
       "      <th></th>\n",
       "    </tr>\n",
       "  </thead>\n",
       "  <tbody>\n",
       "    <tr>\n",
       "      <th>164</th>\n",
       "      <td>Jack Reacher: Never Go Back</td>\n",
       "      <td>Action,Adventure,Crime</td>\n",
       "      <td>Edward Zwick</td>\n",
       "      <td>2016</td>\n",
       "      <td>118</td>\n",
       "      <td>6.1</td>\n",
       "      <td>78043</td>\n",
       "      <td>58.40</td>\n",
       "      <td>47.0</td>\n",
       "      <td>Tom Cruise, Cobie Smulders, Aldis Hodge, Rober...</td>\n",
       "    </tr>\n",
       "    <tr>\n",
       "      <th>291</th>\n",
       "      <td>Busanhaeng</td>\n",
       "      <td>Action,Drama,Horror</td>\n",
       "      <td>Sang-ho Yeon</td>\n",
       "      <td>2016</td>\n",
       "      <td>118</td>\n",
       "      <td>7.5</td>\n",
       "      <td>58782</td>\n",
       "      <td>2.13</td>\n",
       "      <td>72.0</td>\n",
       "      <td>Yoo Gong, Soo-an Kim, Yu-mi Jung, Dong-seok Ma</td>\n",
       "    </tr>\n",
       "    <tr>\n",
       "      <th>779</th>\n",
       "      <td>Chalk It Up</td>\n",
       "      <td>Comedy</td>\n",
       "      <td>Hisonni Johnson</td>\n",
       "      <td>2016</td>\n",
       "      <td>90</td>\n",
       "      <td>4.8</td>\n",
       "      <td>499</td>\n",
       "      <td>NaN</td>\n",
       "      <td>NaN</td>\n",
       "      <td>Maddy Curley, John DeLuca, Nikki SooHoo, Drew ...</td>\n",
       "    </tr>\n",
       "    <tr>\n",
       "      <th>42</th>\n",
       "      <td>Moonlight</td>\n",
       "      <td>Drama</td>\n",
       "      <td>Barry Jenkins</td>\n",
       "      <td>2016</td>\n",
       "      <td>111</td>\n",
       "      <td>7.5</td>\n",
       "      <td>135095</td>\n",
       "      <td>27.85</td>\n",
       "      <td>99.0</td>\n",
       "      <td>Mahershala Ali, Shariff Earp, Duan Sanderson, ...</td>\n",
       "    </tr>\n",
       "    <tr>\n",
       "      <th>207</th>\n",
       "      <td>Raw (II)</td>\n",
       "      <td>Drama,Horror</td>\n",
       "      <td>Julia Ducournau</td>\n",
       "      <td>2016</td>\n",
       "      <td>99</td>\n",
       "      <td>7.5</td>\n",
       "      <td>5435</td>\n",
       "      <td>0.51</td>\n",
       "      <td>81.0</td>\n",
       "      <td>Garance Marillier, Ella Rumpf, Rabah Nait Oufe...</td>\n",
       "    </tr>\n",
       "  </tbody>\n",
       "</table>\n",
       "</div>"
      ],
      "text/plain": [
       "                            Title                   Genre         Director  \\\n",
       "Rank                                                                         \n",
       "164   Jack Reacher: Never Go Back  Action,Adventure,Crime     Edward Zwick   \n",
       "291                    Busanhaeng     Action,Drama,Horror     Sang-ho Yeon   \n",
       "779                   Chalk It Up                  Comedy  Hisonni Johnson   \n",
       "42                      Moonlight                   Drama    Barry Jenkins   \n",
       "207                      Raw (II)            Drama,Horror  Julia Ducournau   \n",
       "\n",
       "      Year  Runtime (Minutes)  Rating   Votes  Revenue (Millions)  Metascore  \\\n",
       "Rank                                                                           \n",
       "164   2016                118     6.1   78043               58.40       47.0   \n",
       "291   2016                118     7.5   58782                2.13       72.0   \n",
       "779   2016                 90     4.8     499                 NaN        NaN   \n",
       "42    2016                111     7.5  135095               27.85       99.0   \n",
       "207   2016                 99     7.5    5435                0.51       81.0   \n",
       "\n",
       "                                                 Actors  \n",
       "Rank                                                     \n",
       "164   Tom Cruise, Cobie Smulders, Aldis Hodge, Rober...  \n",
       "291      Yoo Gong, Soo-an Kim, Yu-mi Jung, Dong-seok Ma  \n",
       "779   Maddy Curley, John DeLuca, Nikki SooHoo, Drew ...  \n",
       "42    Mahershala Ali, Shariff Earp, Duan Sanderson, ...  \n",
       "207   Garance Marillier, Ella Rumpf, Rabah Nait Oufe...  "
      ]
     },
     "execution_count": 145,
     "metadata": {},
     "output_type": "execute_result"
    }
   ],
   "source": [
    "imdb_movies.sample(5)"
   ]
  },
  {
   "cell_type": "markdown",
   "id": "dbce2375",
   "metadata": {},
   "source": [
    "### Question 1: do movies longer tha 2h45 get better scores than movies shorter than 100 mins?"
   ]
  },
  {
   "cell_type": "code",
   "execution_count": 146,
   "id": "c1fa133a",
   "metadata": {},
   "outputs": [
    {
     "name": "stdout",
     "output_type": "stream",
     "text": [
      "number of movies > 2hrs 45 =  9\n",
      "number of movies < 100 mins =  227\n"
     ]
    },
    {
     "data": {
      "text/plain": [
       "Score vs length\n",
       "Less than 100 mins    55.867841\n",
       "Over 2hrs 45 mins     67.222222\n",
       "Name: Metascore, dtype: float64"
      ]
     },
     "execution_count": 146,
     "metadata": {},
     "output_type": "execute_result"
    }
   ],
   "source": [
    "# 2 hrs 45 = 165 mins\n",
    "\n",
    "# average of scores > 165 mins\n",
    "# average of scores < 100 mins\n",
    "\n",
    "long_movies  = sum(  (imdb_movies.loc[:,'Runtime (Minutes)'] > 165) & (imdb_movies['Metascore'] > 0 ) )\n",
    "short_movies = sum(  (imdb_movies.loc[:,'Runtime (Minutes)'] < 100) & (imdb_movies['Metascore'] > 0 ) )\n",
    "\n",
    "print(\"number of movies > 2hrs 45 = \",long_movies)\n",
    "print(\"number of movies < 100 mins = \",short_movies)\n",
    "\n",
    "\n",
    "#imdb_movies.groupby(['Runtime (Minutes)', 'Metascore']).mean()\n",
    "\n",
    "imdb_movies.loc[imdb_movies['Runtime (Minutes)']<100,'Score vs length'] = 'Less than 100 mins'     #short\n",
    "imdb_movies.loc[imdb_movies['Runtime (Minutes)']>165,'Score vs length'] = 'Over 2hrs 45 mins'     #long\n",
    "\n",
    "imdb_movies.groupby(['Score vs length']).mean()['Metascore']\n"
   ]
  },
  {
   "cell_type": "markdown",
   "id": "c1dddd4c",
   "metadata": {},
   "source": [
    "### Question 2: which is the director with highest revenue per minute of runtime?"
   ]
  },
  {
   "cell_type": "code",
   "execution_count": 147,
   "id": "a88b6dd1",
   "metadata": {},
   "outputs": [
    {
     "name": "stderr",
     "output_type": "stream",
     "text": [
      "/var/folders/ry/3hkntqmd6lx9rvtg9q4zp4vr0000gn/T/ipykernel_48283/1358371052.py:9: FutureWarning: In a future version of pandas all arguments of Series.sort_values will be keyword-only.\n",
      "  imdb_movies.groupby(['Director']).sum()['Revenue by minute'].sort_values(0)\n"
     ]
    },
    {
     "data": {
      "text/plain": [
       "Director\n",
       "Gregory Jacobs        0.000000\n",
       "John Butler           0.000000\n",
       "Chris Stokes          0.000000\n",
       "Jim Sheridan          0.000000\n",
       "Chris McCoy           0.000000\n",
       "                       ...    \n",
       "Michael Bay           9.423046\n",
       "Christopher Nolan     9.738683\n",
       "Francis Lawrence     10.243712\n",
       "David Yates          11.950776\n",
       "J.J. Abrams          12.841471\n",
       "Name: Revenue by minute, Length: 644, dtype: float64"
      ]
     },
     "execution_count": 147,
     "metadata": {},
     "output_type": "execute_result"
    }
   ],
   "source": [
    "# Divide revenue by runtime \n",
    "\n",
    "#imdb_movies.groupby(['Director', 'Runtime (Minutes)' ]).sum()['Revenue (Millions)']\n",
    "\n",
    "imdb_movies.loc[imdb_movies['Runtime (Minutes)'] > 0,'Revenue by minute'] = imdb_movies['Revenue (Millions)'] / imdb_movies['Runtime (Minutes)']\n",
    "\n",
    "#imdb_movies.groupby(['Director']).sum()['Revenue by minute'].max()\n",
    "\n",
    "imdb_movies.groupby(['Director']).sum()['Revenue by minute'].sort_values(0)"
   ]
  },
  {
   "cell_type": "markdown",
   "id": "aae97230",
   "metadata": {},
   "source": [
    "### Question 3: which is the most common movie genre in our dataset between 2007 and 2014?"
   ]
  },
  {
   "cell_type": "code",
   "execution_count": 154,
   "id": "e2653552",
   "metadata": {},
   "outputs": [
    {
     "name": "stderr",
     "output_type": "stream",
     "text": [
      "/var/folders/ry/3hkntqmd6lx9rvtg9q4zp4vr0000gn/T/ipykernel_48283/4265933573.py:3: FutureWarning: Dropping invalid columns in DataFrameGroupBy.max is deprecated. In a future version, a TypeError will be raised. Before calling .max, select only columns which should be valid for the function.\n",
      "  imdb_movies.groupby(['Year']).max()['Genre']\n"
     ]
    },
    {
     "data": {
      "text/plain": [
       "Year\n",
       "2006           Mystery,Thriller\n",
       "2007                   Thriller\n",
       "2008            Sci-Fi,Thriller\n",
       "2009    Horror,Mystery,Thriller\n",
       "2010           Mystery,Thriller\n",
       "2011    Romance,Sci-Fi,Thriller\n",
       "2012             Horror,Mystery\n",
       "2013           Mystery,Thriller\n",
       "2014                   Thriller\n",
       "2015           Mystery,Thriller\n",
       "2016               Thriller,War\n",
       "Name: Genre, dtype: object"
      ]
     },
     "execution_count": 154,
     "metadata": {},
     "output_type": "execute_result"
    }
   ],
   "source": [
    "# filter by year >= 2007 and year <=2014\n",
    "\n",
    "imdb_movies.groupby(['Year']).max()['Genre']\n"
   ]
  },
  {
   "cell_type": "markdown",
   "id": "0d4f8a69",
   "metadata": {},
   "source": [
    "### Question 4: which is the actor who has appeared in more movies between 2009 and 2015?"
   ]
  },
  {
   "cell_type": "code",
   "execution_count": 156,
   "id": "c42e8c0b",
   "metadata": {},
   "outputs": [
    {
     "name": "stderr",
     "output_type": "stream",
     "text": [
      "/var/folders/ry/3hkntqmd6lx9rvtg9q4zp4vr0000gn/T/ipykernel_48283/1427844360.py:5: FutureWarning: Dropping invalid columns in DataFrameGroupBy.max is deprecated. In a future version, a TypeError will be raised. Before calling .max, select only columns which should be valid for the function.\n",
      "  imdb_movies.groupby(['Year']).max()['Actors']\n"
     ]
    },
    {
     "data": {
      "text/plain": [
       "Year\n",
       "2006    Will Smith, Thandie Newton, Jaden Smith, Brian...\n",
       "2007    William Atherton, Blythe Auffarth, Blanche Bak...\n",
       "2008    Will Smith, Rosario Dawson, Woody Harrelson,Mi...\n",
       "2009    Zooey Deschanel, Joseph Gordon-Levitt, Geoffre...\n",
       "2010    Zachary Gordon, Robert Capron, Rachael Harris,...\n",
       "2011    Zachary Gordon, Devon Bostick, Robert Capron,R...\n",
       "2012    Zachary Gordon, Robert Capron, Devon Bostick,S...\n",
       "2013    Vince Vaughn, Owen Wilson, Rose Byrne, Aasif M...\n",
       "2014    Zoey Deutch, Lucy Fry, Danila Kozlovsky, Gabri...\n",
       "2015    Zac Efron, Wes Bentley, Emily Ratajkowski, Jon...\n",
       "2016    Zoey Deutch, Nicholas Braun, Mateo Arias, Isra...\n",
       "Name: Actors, dtype: object"
      ]
     },
     "execution_count": 156,
     "metadata": {},
     "output_type": "execute_result"
    }
   ],
   "source": [
    "# separate actors and store them in a set? \n",
    "\n",
    "# filter by year > 2009 and year < 2015\n",
    "\n",
    "imdb_movies.groupby(['Year']).max()['Actors']\n"
   ]
  },
  {
   "cell_type": "code",
   "execution_count": null,
   "id": "ef2a965f",
   "metadata": {},
   "outputs": [],
   "source": []
  },
  {
   "cell_type": "code",
   "execution_count": null,
   "id": "8b4ce504",
   "metadata": {},
   "outputs": [],
   "source": []
  }
 ],
 "metadata": {
  "kernelspec": {
   "display_name": "Python 3 (ipykernel)",
   "language": "python",
   "name": "python3"
  },
  "language_info": {
   "codemirror_mode": {
    "name": "ipython",
    "version": 3
   },
   "file_extension": ".py",
   "mimetype": "text/x-python",
   "name": "python",
   "nbconvert_exporter": "python",
   "pygments_lexer": "ipython3",
   "version": "3.9.12"
  },
  "vscode": {
   "interpreter": {
    "hash": "31f2aee4e71d21fbe5cf8b01ff0e069b9275f58929596ceb00d14d90e3e16cd6"
   }
  }
 },
 "nbformat": 4,
 "nbformat_minor": 5
}
