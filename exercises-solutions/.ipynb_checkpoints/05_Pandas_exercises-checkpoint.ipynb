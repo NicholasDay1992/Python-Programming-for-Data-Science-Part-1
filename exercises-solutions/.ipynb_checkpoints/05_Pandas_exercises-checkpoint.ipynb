{
 "cells": [
  {
   "cell_type": "markdown",
   "id": "080e3f3b",
   "metadata": {},
   "source": [
    "# Exercises_05 - Pandas exercises"
   ]
  },
  {
   "cell_type": "markdown",
   "id": "749054a2",
   "metadata": {},
   "source": [
    "This week we will work with the `pandas` library for data analysis.\n",
    "The reference guide for numpy can be found here: https://pandas.pydata.org/docs/. "
   ]
  },
  {
   "cell_type": "markdown",
   "id": "99c029fd",
   "metadata": {},
   "source": [
    "## Revisiting the BMI dataset\n",
    "\n",
    "Last week we utilised numpy and represented a BMI dataset (from Kaggle) in text form.\n",
    "Whilst it does populate the numpy array with the data, the formatting is harder to read with the 'b' prefix and misalignment of columns.\n"
   ]
  },
  {
   "cell_type": "code",
   "execution_count": 2,
   "id": "367e6ab7",
   "metadata": {},
   "outputs": [
    {
     "data": {
      "text/plain": [
       "array([(b'Male', b'174', b'96', b'4'), (b'Male', b'189', b'87', b'2'),\n",
       "       (b'Female', b'185', b'110', b'4'),\n",
       "       (b'Female', b'195', b'104', b'3'), (b'Male', b'149', b'61', b'3'),\n",
       "       (b'Male', b'189', b'104', b'3'), (b'Male', b'147', b'92', b'5'),\n",
       "       (b'Male', b'154', b'111', b'5'), (b'Male', b'174', b'90', b'3'),\n",
       "       (b'Female', b'169', b'103', b'4'), (b'Male', b'195', b'81', b'2'),\n",
       "       (b'Female', b'159', b'80', b'4'),\n",
       "       (b'Female', b'192', b'101', b'3'), (b'Male', b'155', b'51', b'2'),\n",
       "       (b'Male', b'191', b'79', b'2'), (b'Female', b'153', b'107', b'5'),\n",
       "       (b'Female', b'157', b'110', b'5'), (b'Male', b'140', b'129', b'5'),\n",
       "       (b'Male', b'144', b'145', b'5'), (b'Male', b'172', b'139', b'5'),\n",
       "       (b'Male', b'157', b'110', b'5'), (b'Female', b'153', b'149', b'5'),\n",
       "       (b'Female', b'169', b'97', b'4'), (b'Male', b'185', b'139', b'5'),\n",
       "       (b'Female', b'172', b'67', b'2'), (b'Female', b'151', b'64', b'3'),\n",
       "       (b'Male', b'190', b'95', b'3'), (b'Male', b'187', b'62', b'1'),\n",
       "       (b'Female', b'163', b'159', b'5'), (b'Male', b'179', b'152', b'5'),\n",
       "       (b'Male', b'153', b'121', b'5'), (b'Male', b'178', b'52', b'1'),\n",
       "       (b'Female', b'195', b'65', b'1'),\n",
       "       (b'Female', b'160', b'131', b'5'),\n",
       "       (b'Female', b'157', b'153', b'5'),\n",
       "       (b'Female', b'189', b'132', b'4'),\n",
       "       (b'Female', b'197', b'114', b'3'), (b'Male', b'244', b'80', b'4'),\n",
       "       (b'Female', b'171', b'152', b'5'),\n",
       "       (b'Female', b'185', b'81', b'2'),\n",
       "       (b'Female', b'175', b'120', b'4'),\n",
       "       (b'Female', b'149', b'108', b'5'), (b'Male', b'157', b'56', b'2'),\n",
       "       (b'Male', b'161', b'118', b'5'), (b'Female', b'182', b'126', b'4'),\n",
       "       (b'Male', b'185', b'76', b'2'), (b'Female', b'188', b'122', b'4'),\n",
       "       (b'Male', b'181', b'111', b'4'), (b'Male', b'161', b'72', b'3'),\n",
       "       (b'Male', b'140', b'152', b'5'), (b'Female', b'168', b'135', b'5'),\n",
       "       (b'Female', b'176', b'54', b'1'), (b'Male', b'163', b'110', b'5'),\n",
       "       (b'Male', b'172', b'105', b'4'), (b'Male', b'196', b'116', b'4'),\n",
       "       (b'Female', b'187', b'89', b'3'), (b'Male', b'172', b'92', b'4'),\n",
       "       (b'Male', b'178', b'127', b'5'), (b'Female', b'164', b'70', b'3'),\n",
       "       (b'Male', b'143', b'88', b'5'), (b'Female', b'191', b'54', b'0'),\n",
       "       (b'Female', b'141', b'143', b'5'), (b'Male', b'193', b'54', b'0'),\n",
       "       (b'Male', b'190', b'83', b'2'), (b'Male', b'175', b'135', b'5'),\n",
       "       (b'Female', b'179', b'158', b'5'),\n",
       "       (b'Female', b'172', b'96', b'4'), (b'Female', b'168', b'59', b'2'),\n",
       "       (b'Female', b'164', b'82', b'4'),\n",
       "       (b'Female', b'194', b'136', b'4'),\n",
       "       (b'Female', b'153', b'51', b'2'), (b'Male', b'178', b'117', b'4'),\n",
       "       (b'Male', b'141', b'80', b'5'), (b'Male', b'180', b'75', b'2'),\n",
       "       (b'Female', b'185', b'100', b'3'),\n",
       "       (b'Female', b'197', b'154', b'4'), (b'Male', b'165', b'104', b'4'),\n",
       "       (b'Female', b'168', b'90', b'4'),\n",
       "       (b'Female', b'176', b'122', b'4'), (b'Male', b'181', b'51', b'0'),\n",
       "       (b'Male', b'164', b'75', b'3'), (b'Female', b'166', b'140', b'5'),\n",
       "       (b'Female', b'190', b'105', b'3'), (b'Male', b'186', b'118', b'4'),\n",
       "       (b'Male', b'168', b'123', b'5'), (b'Male', b'198', b'50', b'0'),\n",
       "       (b'Female', b'175', b'141', b'5'), (b'Male', b'145', b'117', b'5'),\n",
       "       (b'Female', b'159', b'104', b'5'),\n",
       "       (b'Female', b'185', b'140', b'5'),\n",
       "       (b'Female', b'178', b'154', b'5'),\n",
       "       (b'Female', b'183', b'96', b'3'),\n",
       "       (b'Female', b'194', b'111', b'3'), (b'Male', b'177', b'61', b'2'),\n",
       "       (b'Male', b'197', b'119', b'4'), (b'Female', b'170', b'156', b'5'),\n",
       "       (b'Male', b'142', b'69', b'4'), (b'Male', b'160', b'139', b'5'),\n",
       "       (b'Male', b'195', b'69', b'1'), (b'Female', b'190', b'50', b'0'),\n",
       "       (b'Male', b'199', b'156', b'4'), (b'Male', b'154', b'105', b'5'),\n",
       "       (b'Male', b'161', b'155', b'5'), (b'Female', b'198', b'145', b'4'),\n",
       "       (b'Female', b'192', b'140', b'4'), (b'Male', b'195', b'126', b'4'),\n",
       "       (b'Male', b'166', b'160', b'5'), (b'Male', b'159', b'154', b'5'),\n",
       "       (b'Female', b'181', b'106', b'4'), (b'Male', b'149', b'66', b'3'),\n",
       "       (b'Female', b'150', b'70', b'4'),\n",
       "       (b'Female', b'146', b'157', b'5'), (b'Male', b'190', b'135', b'4'),\n",
       "       (b'Female', b'192', b'90', b'2'), (b'Female', b'177', b'96', b'4'),\n",
       "       (b'Male', b'148', b'60', b'3'), (b'Female', b'165', b'57', b'2'),\n",
       "       (b'Female', b'146', b'104', b'5'), (b'Male', b'144', b'108', b'5'),\n",
       "       (b'Female', b'176', b'156', b'5'),\n",
       "       (b'Female', b'168', b'87', b'4'), (b'Male', b'187', b'122', b'4'),\n",
       "       (b'Male', b'187', b'138', b'4'), (b'Female', b'184', b'160', b'5'),\n",
       "       (b'Female', b'158', b'149', b'5'), (b'Male', b'158', b'96', b'4'),\n",
       "       (b'Male', b'194', b'115', b'4'), (b'Female', b'145', b'79', b'4'),\n",
       "       (b'Male', b'182', b'151', b'5'), (b'Male', b'154', b'54', b'2'),\n",
       "       (b'Female', b'168', b'139', b'5'),\n",
       "       (b'Female', b'187', b'70', b'2'),\n",
       "       (b'Female', b'158', b'153', b'5'),\n",
       "       (b'Female', b'167', b'110', b'4'),\n",
       "       (b'Female', b'171', b'155', b'5'),\n",
       "       (b'Female', b'183', b'150', b'5'),\n",
       "       (b'Female', b'190', b'156', b'5'), (b'Male', b'194', b'108', b'3'),\n",
       "       (b'Male', b'171', b'147', b'5'), (b'Male', b'159', b'124', b'5'),\n",
       "       (b'Female', b'169', b'54', b'2'), (b'Female', b'167', b'85', b'4'),\n",
       "       (b'Male', b'180', b'149', b'5'), (b'Male', b'163', b'123', b'5'),\n",
       "       (b'Male', b'140', b'79', b'5'), (b'Male', b'197', b'125', b'4'),\n",
       "       (b'Male', b'194', b'106', b'3'), (b'Female', b'140', b'146', b'5'),\n",
       "       (b'Male', b'195', b'98', b'3'), (b'Female', b'168', b'115', b'3'),\n",
       "       (b'Female', b'196', b'50', b'0'), (b'Male', b'140', b'52', b'3'),\n",
       "       (b'Female', b'150', b'60', b'3'),\n",
       "       (b'Female', b'168', b'140', b'5'),\n",
       "       (b'Female', b'155', b'111', b'5'),\n",
       "       (b'Female', b'179', b'103', b'4'),\n",
       "       (b'Female', b'182', b'84', b'3'), (b'Male', b'168', b'160', b'5'),\n",
       "       (b'Female', b'187', b'102', b'3'), (b'Male', b'181', b'105', b'4'),\n",
       "       (b'Male', b'199', b'99', b'2'), (b'Female', b'184', b'76', b'2'),\n",
       "       (b'Male', b'192', b'101', b'3'), (b'Female', b'182', b'143', b'5'),\n",
       "       (b'Female', b'172', b'111', b'4'), (b'Male', b'181', b'78', b'2'),\n",
       "       (b'Male', b'176', b'109', b'4'), (b'Female', b'156', b'106', b'5'),\n",
       "       (b'Female', b'151', b'67', b'3'), (b'Female', b'188', b'80', b'2'),\n",
       "       (b'Male', b'187', b'136', b'4'), (b'Male', b'174', b'138', b'5'),\n",
       "       (b'Male', b'167', b'151', b'5'), (b'Female', b'196', b'131', b'4'),\n",
       "       (b'Male', b'197', b'149', b'4'), (b'Female', b'185', b'119', b'4'),\n",
       "       (b'Female', b'170', b'102', b'4'),\n",
       "       (b'Female', b'181', b'94', b'3'),\n",
       "       (b'Female', b'166', b'126', b'5'), (b'Male', b'188', b'100', b'3'),\n",
       "       (b'Female', b'162', b'74', b'3'), (b'Male', b'177', b'117', b'4'),\n",
       "       (b'Male', b'162', b'97', b'4'), (b'Male', b'180', b'73', b'2'),\n",
       "       (b'Female', b'192', b'108', b'3'), (b'Male', b'165', b'80', b'3'),\n",
       "       (b'Female', b'167', b'135', b'5'),\n",
       "       (b'Female', b'182', b'84', b'3'),\n",
       "       (b'Female', b'161', b'134', b'5'), (b'Male', b'158', b'95', b'4'),\n",
       "       (b'Male', b'141', b'85', b'5'), (b'Male', b'154', b'100', b'5'),\n",
       "       (b'Male', b'165', b'105', b'4'), (b'Female', b'142', b'137', b'5'),\n",
       "       (b'Male', b'141', b'94', b'5'), (b'Male', b'145', b'108', b'5'),\n",
       "       (b'Male', b'157', b'74', b'4'), (b'Female', b'177', b'117', b'4'),\n",
       "       (b'Female', b'166', b'144', b'5'), (b'Male', b'193', b'151', b'5'),\n",
       "       (b'Male', b'184', b'57', b'1'), (b'Male', b'179', b'93', b'3'),\n",
       "       (b'Female', b'156', b'89', b'4'), (b'Male', b'182', b'104', b'4'),\n",
       "       (b'Male', b'145', b'160', b'5'), (b'Female', b'150', b'87', b'4'),\n",
       "       (b'Male', b'145', b'99', b'5'), (b'Female', b'196', b'122', b'4'),\n",
       "       (b'Male', b'191', b'96', b'3'), (b'Female', b'148', b'67', b'4'),\n",
       "       (b'Female', b'150', b'84', b'4'), (b'Male', b'148', b'155', b'5'),\n",
       "       (b'Female', b'153', b'146', b'5'),\n",
       "       (b'Female', b'196', b'159', b'5'),\n",
       "       (b'Female', b'185', b'52', b'0'),\n",
       "       (b'Female', b'171', b'131', b'5'),\n",
       "       (b'Female', b'143', b'118', b'5'),\n",
       "       (b'Female', b'142', b'86', b'5'),\n",
       "       (b'Female', b'141', b'126', b'5'), (b'Male', b'159', b'109', b'5'),\n",
       "       (b'Female', b'173', b'82', b'2'), (b'Male', b'183', b'138', b'5'),\n",
       "       (b'Female', b'152', b'90', b'4'), (b'Male', b'178', b'140', b'5'),\n",
       "       (b'Male', b'188', b'54', b'0'), (b'Female', b'155', b'144', b'5'),\n",
       "       (b'Male', b'166', b'70', b'3'), (b'Male', b'188', b'123', b'4'),\n",
       "       (b'Female', b'171', b'120', b'5'), (b'Male', b'179', b'130', b'5'),\n",
       "       (b'Female', b'186', b'137', b'4'),\n",
       "       (b'Female', b'153', b'78', b'2'), (b'Female', b'184', b'86', b'3'),\n",
       "       (b'Female', b'177', b'81', b'3'), (b'Male', b'145', b'78', b'4'),\n",
       "       (b'Male', b'170', b'81', b'3'), (b'Male', b'181', b'141', b'5'),\n",
       "       (b'Male', b'165', b'155', b'5'), (b'Female', b'174', b'65', b'2'),\n",
       "       (b'Female', b'146', b'110', b'5'), (b'Male', b'178', b'85', b'3'),\n",
       "       (b'Male', b'166', b'61', b'2'), (b'Male', b'191', b'62', b'1'),\n",
       "       (b'Female', b'177', b'155', b'5'),\n",
       "       (b'Female', b'183', b'50', b'0'), (b'Male', b'151', b'114', b'5'),\n",
       "       (b'Male', b'182', b'98', b'3'), (b'Female', b'142', b'159', b'5'),\n",
       "       (b'Female', b'188', b'90', b'3'), (b'Male', b'161', b'89', b'4'),\n",
       "       (b'Male', b'153', b'70', b'3'), (b'Male', b'140', b'143', b'5'),\n",
       "       (b'Male', b'169', b'141', b'5'), (b'Female', b'162', b'159', b'5'),\n",
       "       (b'Male', b'183', b'147', b'5'), (b'Female', b'162', b'58', b'2'),\n",
       "       (b'Female', b'172', b'109', b'4'),\n",
       "       (b'Female', b'150', b'119', b'5'),\n",
       "       (b'Female', b'169', b'145', b'5'),\n",
       "       (b'Female', b'184', b'132', b'4'), (b'Male', b'159', b'104', b'5'),\n",
       "       (b'Male', b'163', b'131', b'5'), (b'Male', b'156', b'137', b'5'),\n",
       "       (b'Female', b'157', b'52', b'2'), (b'Male', b'147', b'84', b'4'),\n",
       "       (b'Male', b'141', b'86', b'5'), (b'Male', b'173', b'139', b'5'),\n",
       "       (b'Male', b'154', b'145', b'5'), (b'Male', b'168', b'148', b'5'),\n",
       "       (b'Male', b'168', b'50', b'1'), (b'Male', b'145', b'130', b'5'),\n",
       "       (b'Male', b'152', b'103', b'5'), (b'Female', b'187', b'121', b'4'),\n",
       "       (b'Female', b'163', b'57', b'0'), (b'Male', b'178', b'83', b'3'),\n",
       "       (b'Female', b'187', b'94', b'3'),\n",
       "       (b'Female', b'179', b'114', b'4'), (b'Male', b'190', b'80', b'2'),\n",
       "       (b'Male', b'172', b'75', b'3'), (b'Male', b'188', b'57', b'1'),\n",
       "       (b'Male', b'193', b'65', b'1'), (b'Female', b'147', b'126', b'5'),\n",
       "       (b'Female', b'147', b'94', b'5'), (b'Male', b'166', b'107', b'4'),\n",
       "       (b'Female', b'192', b'139', b'4'), (b'Male', b'181', b'139', b'4'),\n",
       "       (b'Male', b'150', b'74', b'4'), (b'Male', b'178', b'160', b'5'),\n",
       "       (b'Female', b'156', b'52', b'2'), (b'Male', b'149', b'100', b'5'),\n",
       "       (b'Male', b'156', b'74', b'4'), (b'Male', b'183', b'105', b'3'),\n",
       "       (b'Female', b'162', b'68', b'3'), (b'Female', b'165', b'83', b'4'),\n",
       "       (b'Female', b'168', b'143', b'5'), (b'Male', b'160', b'156', b'5'),\n",
       "       (b'Female', b'169', b'88', b'2'), (b'Female', b'140', b'76', b'4'),\n",
       "       (b'Female', b'187', b'92', b'3'), (b'Male', b'151', b'82', b'4'),\n",
       "       (b'Female', b'186', b'140', b'5'), (b'Male', b'182', b'108', b'4'),\n",
       "       (b'Male', b'188', b'81', b'2'), (b'Male', b'179', b'110', b'4'),\n",
       "       (b'Female', b'156', b'126', b'5'), (b'Male', b'188', b'114', b'4'),\n",
       "       (b'Male', b'183', b'153', b'5'), (b'Male', b'144', b'88', b'5'),\n",
       "       (b'Male', b'196', b'69', b'1'), (b'Male', b'171', b'141', b'5'),\n",
       "       (b'Male', b'171', b'147', b'5'), (b'Female', b'180', b'156', b'5'),\n",
       "       (b'Male', b'191', b'146', b'5'), (b'Female', b'179', b'67', b'2'),\n",
       "       (b'Female', b'180', b'60', b'2'),\n",
       "       (b'Female', b'154', b'132', b'5'), (b'Male', b'188', b'99', b'3'),\n",
       "       (b'Male', b'142', b'135', b'5'), (b'Male', b'170', b'95', b'4'),\n",
       "       (b'Male', b'152', b'141', b'5'), (b'Female', b'190', b'118', b'4'),\n",
       "       (b'Female', b'181', b'111', b'4'), (b'Male', b'153', b'104', b'5'),\n",
       "       (b'Male', b'187', b'140', b'5'), (b'Female', b'144', b'66', b'4'),\n",
       "       (b'Female', b'148', b'54', b'2'), (b'Female', b'199', b'92', b'2'),\n",
       "       (b'Female', b'167', b'85', b'4'), (b'Female', b'164', b'71', b'3'),\n",
       "       (b'Female', b'185', b'102', b'3'),\n",
       "       (b'Female', b'164', b'160', b'5'), (b'Male', b'142', b'71', b'4'),\n",
       "       (b'Male', b'165', b'68', b'2'), (b'Female', b'172', b'62', b'2'),\n",
       "       (b'Female', b'157', b'56', b'2'), (b'Male', b'155', b'57', b'2'),\n",
       "       (b'Female', b'167', b'153', b'5'),\n",
       "       (b'Female', b'164', b'126', b'5'),\n",
       "       (b'Female', b'189', b'125', b'4'),\n",
       "       (b'Female', b'161', b'145', b'5'),\n",
       "       (b'Female', b'155', b'71', b'3'),\n",
       "       (b'Female', b'171', b'118', b'4'),\n",
       "       (b'Female', b'154', b'92', b'4'), (b'Male', b'179', b'83', b'3'),\n",
       "       (b'Male', b'170', b'115', b'4'), (b'Female', b'184', b'106', b'4'),\n",
       "       (b'Female', b'191', b'68', b'2'), (b'Male', b'162', b'58', b'2'),\n",
       "       (b'Male', b'178', b'138', b'5'), (b'Female', b'157', b'60', b'2'),\n",
       "       (b'Male', b'184', b'83', b'2'), (b'Male', b'197', b'88', b'2'),\n",
       "       (b'Female', b'160', b'51', b'2'), (b'Male', b'184', b'153', b'5'),\n",
       "       (b'Male', b'190', b'50', b'0'), (b'Male', b'174', b'90', b'3'),\n",
       "       (b'Female', b'189', b'124', b'4'),\n",
       "       (b'Female', b'186', b'143', b'5'),\n",
       "       (b'Female', b'180', b'58', b'1'),\n",
       "       (b'Female', b'186', b'148', b'4'),\n",
       "       (b'Female', b'193', b'61', b'1'), (b'Male', b'161', b'103', b'4'),\n",
       "       (b'Female', b'151', b'158', b'5'),\n",
       "       (b'Female', b'195', b'147', b'4'),\n",
       "       (b'Female', b'184', b'152', b'5'), (b'Male', b'141', b'80', b'5'),\n",
       "       (b'Female', b'185', b'94', b'3'),\n",
       "       (b'Female', b'186', b'127', b'4'), (b'Male', b'142', b'131', b'5'),\n",
       "       (b'Female', b'147', b'67', b'4'), (b'Male', b'151', b'62', b'3'),\n",
       "       (b'Female', b'160', b'124', b'5'), (b'Male', b'185', b'60', b'1'),\n",
       "       (b'Female', b'163', b'63', b'2'), (b'Male', b'174', b'95', b'4'),\n",
       "       (b'Female', b'150', b'144', b'5'), (b'Male', b'142', b'91', b'5'),\n",
       "       (b'Male', b'178', b'142', b'5'), (b'Female', b'154', b'96', b'5'),\n",
       "       (b'Male', b'176', b'87', b'3'), (b'Male', b'159', b'120', b'5'),\n",
       "       (b'Male', b'191', b'62', b'1'), (b'Male', b'177', b'117', b'4'),\n",
       "       (b'Male', b'151', b'154', b'5'), (b'Female', b'182', b'149', b'5'),\n",
       "       (b'Female', b'197', b'72', b'2'), (b'Male', b'146', b'138', b'5'),\n",
       "       (b'Female', b'160', b'83', b'4'), (b'Female', b'157', b'66', b'3'),\n",
       "       (b'Female', b'150', b'50', b'2'), (b'Female', b'167', b'58', b'2'),\n",
       "       (b'Female', b'180', b'70', b'2'), (b'Female', b'183', b'76', b'2'),\n",
       "       (b'Female', b'183', b'87', b'3'),\n",
       "       (b'Female', b'152', b'154', b'5'),\n",
       "       (b'Female', b'164', b'71', b'3'), (b'Male', b'187', b'96', b'3'),\n",
       "       (b'Male', b'169', b'136', b'5'), (b'Female', b'149', b'61', b'3'),\n",
       "       (b'Male', b'163', b'137', b'5'), (b'Female', b'195', b'104', b'3'),\n",
       "       (b'Male', b'174', b'107', b'4'), (b'Male', b'182', b'70', b'2'),\n",
       "       (b'Male', b'169', b'110', b'4'), (b'Male', b'193', b'130', b'4'),\n",
       "       (b'Male', b'148', b'141', b'5'), (b'Male', b'186', b'68', b'2'),\n",
       "       (b'Male', b'165', b'143', b'5'), (b'Female', b'146', b'123', b'5'),\n",
       "       (b'Female', b'166', b'133', b'5'), (b'Male', b'179', b'56', b'1'),\n",
       "       (b'Female', b'177', b'101', b'4'), (b'Male', b'181', b'154', b'5'),\n",
       "       (b'Female', b'161', b'154', b'5'),\n",
       "       (b'Female', b'157', b'103', b'5'),\n",
       "       (b'Female', b'169', b'98', b'4'),\n",
       "       (b'Female', b'152', b'114', b'5'),\n",
       "       (b'Female', b'162', b'64', b'2'), (b'Male', b'162', b'130', b'5'),\n",
       "       (b'Female', b'177', b'61', b'2'), (b'Female', b'195', b'61', b'1'),\n",
       "       (b'Male', b'140', b'146', b'5'), (b'Female', b'186', b'146', b'5'),\n",
       "       (b'Female', b'178', b'107', b'4'), (b'Male', b'174', b'54', b'1'),\n",
       "       (b'Female', b'180', b'59', b'1'), (b'Male', b'188', b'141', b'4'),\n",
       "       (b'Female', b'187', b'130', b'4'),\n",
       "       (b'Female', b'153', b'77', b'4'), (b'Female', b'165', b'95', b'4'),\n",
       "       (b'Female', b'178', b'79', b'2'),\n",
       "       (b'Female', b'163', b'154', b'5'),\n",
       "       (b'Female', b'150', b'97', b'5'), (b'Male', b'179', b'127', b'4'),\n",
       "       (b'Male', b'165', b'62', b'2'), (b'Male', b'168', b'158', b'5'),\n",
       "       (b'Female', b'153', b'133', b'5'), (b'Male', b'184', b'157', b'5'),\n",
       "       (b'Male', b'188', b'65', b'1'), (b'Female', b'166', b'153', b'5'),\n",
       "       (b'Female', b'172', b'116', b'4'), (b'Male', b'182', b'73', b'2'),\n",
       "       (b'Male', b'143', b'149', b'5'), (b'Male', b'152', b'146', b'5'),\n",
       "       (b'Female', b'186', b'128', b'4'), (b'Male', b'159', b'140', b'5'),\n",
       "       (b'Male', b'146', b'70', b'4'), (b'Female', b'176', b'121', b'4'),\n",
       "       (b'Female', b'146', b'101', b'5'), (b'Male', b'159', b'145', b'5'),\n",
       "       (b'Male', b'162', b'157', b'5'), (b'Female', b'172', b'90', b'4'),\n",
       "       (b'Female', b'169', b'121', b'5'), (b'Male', b'182', b'50', b'0'),\n",
       "       (b'Female', b'183', b'79', b'2'), (b'Male', b'176', b'77', b'2'),\n",
       "       (b'Female', b'188', b'128', b'4'),\n",
       "       (b'Female', b'175', b'83', b'2'), (b'Male', b'154', b'81', b'4'),\n",
       "       (b'Female', b'184', b'147', b'5'), (b'Male', b'179', b'123', b'4'),\n",
       "       (b'Male', b'152', b'132', b'5'), (b'Male', b'179', b'56', b'1'),\n",
       "       (b'Female', b'145', b'141', b'5'),\n",
       "       (b'Female', b'181', b'80', b'2'), (b'Male', b'158', b'127', b'5'),\n",
       "       (b'Female', b'188', b'99', b'3'), (b'Male', b'145', b'142', b'5'),\n",
       "       (b'Male', b'161', b'115', b'5'), (b'Male', b'198', b'109', b'3'),\n",
       "       (b'Male', b'147', b'142', b'5'), (b'Male', b'154', b'112', b'5'),\n",
       "       (b'Female', b'178', b'65', b'2'), (b'Male', b'195', b'153', b'5'),\n",
       "       (b'Female', b'167', b'79', b'3'), (b'Male', b'183', b'131', b'4'),\n",
       "       (b'Female', b'164', b'142', b'5'), (b'Male', b'167', b'64', b'2'),\n",
       "       (b'Female', b'151', b'55', b'2'),\n",
       "       (b'Female', b'147', b'107', b'5'),\n",
       "       (b'Female', b'155', b'115', b'5'),\n",
       "       (b'Female', b'172', b'108', b'4'),\n",
       "       (b'Female', b'142', b'86', b'5'), (b'Male', b'146', b'85', b'4'),\n",
       "       (b'Female', b'188', b'115', b'4'), (b'Male', b'173', b'111', b'4'),\n",
       "       (b'Female', b'160', b'109', b'5'), (b'Male', b'187', b'80', b'2'),\n",
       "       (b'Male', b'198', b'136', b'4'), (b'Female', b'179', b'150', b'5'),\n",
       "       (b'Female', b'164', b'59', b'2'),\n",
       "       (b'Female', b'146', b'147', b'5'),\n",
       "       (b'Female', b'198', b'50', b'0'), (b'Female', b'170', b'53', b'1'),\n",
       "       (b'Male', b'152', b'98', b'5'), (b'Female', b'150', b'153', b'5'),\n",
       "       (b'Female', b'184', b'121', b'4'),\n",
       "       (b'Female', b'141', b'136', b'5'), (b'Male', b'150', b'95', b'5'),\n",
       "       (b'Male', b'173', b'131', b'5')],\n",
       "      dtype=[('Gender', 'O'), ('Height', 'O'), ('Weight', 'O'), ('Index', 'O')])"
      ]
     },
     "execution_count": 2,
     "metadata": {},
     "output_type": "execute_result"
    }
   ],
   "source": [
    "import numpy as np\n",
    "import os\n",
    "\n",
    "# Import `height-weight` keeping the text column intact.\n",
    "url = os.path.join('..', 'datasets', '500_Person_Gender_Height_Weight_Index.csv')\n",
    "hw_dataset = np.genfromtxt(url, delimiter=',', names=True, dtype='object')\n",
    "hw_dataset"
   ]
  },
  {
   "cell_type": "markdown",
   "id": "b7379184",
   "metadata": {},
   "source": [
    "# Pandas Series\n"
   ]
  },
  {
   "cell_type": "code",
   "execution_count": 3,
   "id": "22f3dee8",
   "metadata": {
    "scrolled": true
   },
   "outputs": [
    {
     "data": {
      "text/plain": [
       "a    0\n",
       "b    1\n",
       "c    2\n",
       "d    3\n",
       "Name: Test series, dtype: int64"
      ]
     },
     "execution_count": 3,
     "metadata": {},
     "output_type": "execute_result"
    }
   ],
   "source": [
    "import pandas as pd\n",
    "\n",
    "# pd.Series(\n",
    "#    data=None,\n",
    "#    index=None,\n",
    "#    dtype: 'Dtype | None' = None,\n",
    "#    name=None,\n",
    "#    copy: 'bool' = False,\n",
    "#    fastpath: 'bool' = False,\n",
    "#)\n",
    "\n",
    "ser1 = pd.Series([0,1,2,3], [\"a\", \"b\", \"c\", \"d\"], None, \"Test series\" )\n",
    "ser1\n",
    "\n",
    "#To utilise like a dictionary / hash table:\n",
    "#ser1[\"a\"]\n",
    "\n"
   ]
  },
  {
   "cell_type": "markdown",
   "id": "0499691a",
   "metadata": {},
   "source": [
    "# Using the BMI data in the Series\n",
    "\n",
    "We can also utilise the numpy arrays we set up last week for the data and labels of the BMI dataset.  "
   ]
  },
  {
   "cell_type": "code",
   "execution_count": 4,
   "id": "2786d5ba",
   "metadata": {
    "scrolled": true
   },
   "outputs": [
    {
     "data": {
      "text/plain": [
       "b'Male'      b'174'\n",
       "b'Male'      b'189'\n",
       "b'Female'    b'185'\n",
       "b'Female'    b'195'\n",
       "b'Male'      b'149'\n",
       "              ...  \n",
       "b'Female'    b'150'\n",
       "b'Female'    b'184'\n",
       "b'Female'    b'141'\n",
       "b'Male'      b'150'\n",
       "b'Male'      b'173'\n",
       "Length: 500, dtype: bytes24"
      ]
     },
     "execution_count": 4,
     "metadata": {},
     "output_type": "execute_result"
    }
   ],
   "source": [
    "hw_data = np.array([list(row)[1] for row in hw_dataset])\n",
    "hw_labels = np.array([list(row)[0] for row in hw_dataset])\n",
    "\n",
    "ser2 = pd.Series(hw_data, hw_labels)\n",
    "ser2\n",
    "\n"
   ]
  },
  {
   "cell_type": "markdown",
   "id": "6ab31d5b",
   "metadata": {},
   "source": [
    "# Exercise 1\n",
    "Now we are going to utilise pandas' methods to represent this data in a data frame (df). By default the formatting of the output will be easier to read. We can also utilise pandas methods to perform data analysis.\n",
    "\n",
    "Start by running the code below to check that bmi dataframe has been populated by 'reading the csv'."
   ]
  },
  {
   "cell_type": "code",
   "execution_count": 5,
   "id": "12e41077",
   "metadata": {
    "scrolled": true
   },
   "outputs": [
    {
     "name": "stdout",
     "output_type": "stream",
     "text": [
      "<class 'pandas.core.frame.DataFrame'>\n",
      "RangeIndex: 500 entries, 0 to 499\n",
      "Data columns (total 4 columns):\n",
      " #   Column  Non-Null Count  Dtype \n",
      "---  ------  --------------  ----- \n",
      " 0   Gender  500 non-null    object\n",
      " 1   Height  500 non-null    int64 \n",
      " 2   Weight  500 non-null    int64 \n",
      " 3   Index   500 non-null    int64 \n",
      "dtypes: int64(3), object(1)\n",
      "memory usage: 15.8+ KB\n"
     ]
    }
   ],
   "source": [
    "import pandas as pd\n",
    "bmi_df = pd.read_csv(\"../datasets/500_Person_Gender_Height_Weight_Index.csv\")\n",
    "bmi_df.info()"
   ]
  },
  {
   "cell_type": "markdown",
   "id": "cfb9c2e9",
   "metadata": {},
   "source": [
    "Now utilise pandas' sample method to show only five rows of the BMI data set.\n",
    "Play around with the parameters of the sample method, and observe the results. \n",
    "\n",
    "From the documentation (https://pandas.pydata.org/docs/reference/api/pandas.DataFrame.sample.html):\n",
    "\n",
    "\n",
    "DataFrame.sample(n=None, frac=None, replace=False, weights=None, random_state=None, axis=None, ignore_index=False)"
   ]
  },
  {
   "cell_type": "code",
   "execution_count": 6,
   "id": "d7cc1f2f",
   "metadata": {
    "scrolled": false
   },
   "outputs": [
    {
     "data": {
      "text/html": [
       "<div>\n",
       "<style scoped>\n",
       "    .dataframe tbody tr th:only-of-type {\n",
       "        vertical-align: middle;\n",
       "    }\n",
       "\n",
       "    .dataframe tbody tr th {\n",
       "        vertical-align: top;\n",
       "    }\n",
       "\n",
       "    .dataframe thead th {\n",
       "        text-align: right;\n",
       "    }\n",
       "</style>\n",
       "<table border=\"1\" class=\"dataframe\">\n",
       "  <thead>\n",
       "    <tr style=\"text-align: right;\">\n",
       "      <th></th>\n",
       "      <th>Gender</th>\n",
       "      <th>Height</th>\n",
       "      <th>Weight</th>\n",
       "      <th>Index</th>\n",
       "    </tr>\n",
       "  </thead>\n",
       "  <tbody>\n",
       "    <tr>\n",
       "      <th>72</th>\n",
       "      <td>Male</td>\n",
       "      <td>141</td>\n",
       "      <td>80</td>\n",
       "      <td>5</td>\n",
       "    </tr>\n",
       "    <tr>\n",
       "      <th>171</th>\n",
       "      <td>Male</td>\n",
       "      <td>174</td>\n",
       "      <td>138</td>\n",
       "      <td>5</td>\n",
       "    </tr>\n",
       "    <tr>\n",
       "      <th>421</th>\n",
       "      <td>Male</td>\n",
       "      <td>140</td>\n",
       "      <td>146</td>\n",
       "      <td>5</td>\n",
       "    </tr>\n",
       "    <tr>\n",
       "      <th>61</th>\n",
       "      <td>Female</td>\n",
       "      <td>141</td>\n",
       "      <td>143</td>\n",
       "      <td>5</td>\n",
       "    </tr>\n",
       "  </tbody>\n",
       "</table>\n",
       "</div>"
      ],
      "text/plain": [
       "     Gender  Height  Weight  Index\n",
       "72     Male     141      80      5\n",
       "171    Male     174     138      5\n",
       "421    Male     140     146      5\n",
       "61   Female     141     143      5"
      ]
     },
     "execution_count": 6,
     "metadata": {},
     "output_type": "execute_result"
    }
   ],
   "source": [
    "bmi_df.sample(4)"
   ]
  },
  {
   "cell_type": "markdown",
   "id": "57ae06c0",
   "metadata": {},
   "source": [
    "# Exercise 2 - Titanic dataset"
   ]
  },
  {
   "cell_type": "code",
   "execution_count": 7,
   "id": "2f60cd89",
   "metadata": {},
   "outputs": [],
   "source": [
    "titanic_df = pd.read_csv(\"../datasets/titanic-dataset.csv\")"
   ]
  },
  {
   "cell_type": "code",
   "execution_count": 8,
   "id": "0a887307",
   "metadata": {},
   "outputs": [],
   "source": [
    "import os\n"
   ]
  },
  {
   "cell_type": "code",
   "execution_count": 9,
   "id": "312edd4a",
   "metadata": {},
   "outputs": [
    {
     "data": {
      "text/plain": [
       "'/Users/nick/Documents/GitHub/PP4DSP1-test/datasets/titanic-dataset.csv'"
      ]
     },
     "execution_count": 9,
     "metadata": {},
     "output_type": "execute_result"
    }
   ],
   "source": [
    "os.path.abspath(os.path.join(\"..\", \"..\", \"..\", \"GitHub/PP4DSP1-test/datasets\", \"titanic-dataset.csv\"))"
   ]
  },
  {
   "cell_type": "code",
   "execution_count": 10,
   "id": "26459d3f",
   "metadata": {
    "scrolled": false
   },
   "outputs": [
    {
     "name": "stdout",
     "output_type": "stream",
     "text": [
      "<class 'pandas.core.frame.DataFrame'>\n",
      "RangeIndex: 891 entries, 0 to 890\n",
      "Data columns (total 12 columns):\n",
      " #   Column       Non-Null Count  Dtype  \n",
      "---  ------       --------------  -----  \n",
      " 0   PassengerId  891 non-null    int64  \n",
      " 1   Survived     891 non-null    int64  \n",
      " 2   Pclass       891 non-null    int64  \n",
      " 3   Name         891 non-null    object \n",
      " 4   Sex          891 non-null    object \n",
      " 5   Age          714 non-null    float64\n",
      " 6   SibSp        891 non-null    int64  \n",
      " 7   Parch        891 non-null    int64  \n",
      " 8   Ticket       891 non-null    object \n",
      " 9   Fare         891 non-null    float64\n",
      " 10  Cabin        204 non-null    object \n",
      " 11  Embarked     889 non-null    object \n",
      "dtypes: float64(2), int64(5), object(5)\n",
      "memory usage: 83.7+ KB\n"
     ]
    }
   ],
   "source": [
    "titanic_df.info()"
   ]
  },
  {
   "cell_type": "code",
   "execution_count": 11,
   "id": "e6333109",
   "metadata": {},
   "outputs": [],
   "source": [
    "titanic_df[\"Age Filled\"] = titanic_df.Age.fillna(titanic_df.Age.median())"
   ]
  },
  {
   "cell_type": "markdown",
   "id": "1337339b",
   "metadata": {},
   "source": [
    "# Select columns of the dataframe \n",
    "\n",
    "Like indexed structures we can get access to single columns, or multiple columns (if we pass in as an array).\n"
   ]
  },
  {
   "cell_type": "code",
   "execution_count": 12,
   "id": "7b6586ea",
   "metadata": {
    "scrolled": true
   },
   "outputs": [
    {
     "data": {
      "text/plain": [
       "0      0\n",
       "1      1\n",
       "2      1\n",
       "3      1\n",
       "4      0\n",
       "      ..\n",
       "886    0\n",
       "887    1\n",
       "888    0\n",
       "889    1\n",
       "890    0\n",
       "Name: Survived, Length: 891, dtype: int64"
      ]
     },
     "execution_count": 12,
     "metadata": {},
     "output_type": "execute_result"
    }
   ],
   "source": [
    "titanic_df[\"Survived\"]"
   ]
  },
  {
   "cell_type": "code",
   "execution_count": 13,
   "id": "1b0888e3",
   "metadata": {
    "scrolled": true
   },
   "outputs": [
    {
     "data": {
      "text/html": [
       "<div>\n",
       "<style scoped>\n",
       "    .dataframe tbody tr th:only-of-type {\n",
       "        vertical-align: middle;\n",
       "    }\n",
       "\n",
       "    .dataframe tbody tr th {\n",
       "        vertical-align: top;\n",
       "    }\n",
       "\n",
       "    .dataframe thead th {\n",
       "        text-align: right;\n",
       "    }\n",
       "</style>\n",
       "<table border=\"1\" class=\"dataframe\">\n",
       "  <thead>\n",
       "    <tr style=\"text-align: right;\">\n",
       "      <th></th>\n",
       "      <th>Survived</th>\n",
       "      <th>Fare</th>\n",
       "    </tr>\n",
       "  </thead>\n",
       "  <tbody>\n",
       "    <tr>\n",
       "      <th>0</th>\n",
       "      <td>0</td>\n",
       "      <td>7.2500</td>\n",
       "    </tr>\n",
       "    <tr>\n",
       "      <th>1</th>\n",
       "      <td>1</td>\n",
       "      <td>71.2833</td>\n",
       "    </tr>\n",
       "    <tr>\n",
       "      <th>2</th>\n",
       "      <td>1</td>\n",
       "      <td>7.9250</td>\n",
       "    </tr>\n",
       "    <tr>\n",
       "      <th>3</th>\n",
       "      <td>1</td>\n",
       "      <td>53.1000</td>\n",
       "    </tr>\n",
       "    <tr>\n",
       "      <th>4</th>\n",
       "      <td>0</td>\n",
       "      <td>8.0500</td>\n",
       "    </tr>\n",
       "    <tr>\n",
       "      <th>...</th>\n",
       "      <td>...</td>\n",
       "      <td>...</td>\n",
       "    </tr>\n",
       "    <tr>\n",
       "      <th>886</th>\n",
       "      <td>0</td>\n",
       "      <td>13.0000</td>\n",
       "    </tr>\n",
       "    <tr>\n",
       "      <th>887</th>\n",
       "      <td>1</td>\n",
       "      <td>30.0000</td>\n",
       "    </tr>\n",
       "    <tr>\n",
       "      <th>888</th>\n",
       "      <td>0</td>\n",
       "      <td>23.4500</td>\n",
       "    </tr>\n",
       "    <tr>\n",
       "      <th>889</th>\n",
       "      <td>1</td>\n",
       "      <td>30.0000</td>\n",
       "    </tr>\n",
       "    <tr>\n",
       "      <th>890</th>\n",
       "      <td>0</td>\n",
       "      <td>7.7500</td>\n",
       "    </tr>\n",
       "  </tbody>\n",
       "</table>\n",
       "<p>891 rows × 2 columns</p>\n",
       "</div>"
      ],
      "text/plain": [
       "     Survived     Fare\n",
       "0           0   7.2500\n",
       "1           1  71.2833\n",
       "2           1   7.9250\n",
       "3           1  53.1000\n",
       "4           0   8.0500\n",
       "..        ...      ...\n",
       "886         0  13.0000\n",
       "887         1  30.0000\n",
       "888         0  23.4500\n",
       "889         1  30.0000\n",
       "890         0   7.7500\n",
       "\n",
       "[891 rows x 2 columns]"
      ]
     },
     "execution_count": 13,
     "metadata": {},
     "output_type": "execute_result"
    }
   ],
   "source": [
    "titanic_df[[\"Survived\", \"Fare\"]]"
   ]
  },
  {
   "cell_type": "markdown",
   "id": "3d4b64b9",
   "metadata": {},
   "source": [
    "# Select rows"
   ]
  },
  {
   "cell_type": "code",
   "execution_count": 14,
   "id": "febfde80",
   "metadata": {
    "scrolled": false
   },
   "outputs": [
    {
     "data": {
      "text/plain": [
       "PassengerId                      887\n",
       "Survived                           0\n",
       "Pclass                             2\n",
       "Name           Montvila, Rev. Juozas\n",
       "Sex                             male\n",
       "Age                             27.0\n",
       "SibSp                              0\n",
       "Parch                              0\n",
       "Ticket                        211536\n",
       "Fare                            13.0\n",
       "Cabin                            NaN\n",
       "Embarked                           S\n",
       "Age Filled                      27.0\n",
       "Name: 886, dtype: object"
      ]
     },
     "execution_count": 14,
     "metadata": {},
     "output_type": "execute_result"
    }
   ],
   "source": [
    "titanic_df.iloc[886]"
   ]
  },
  {
   "cell_type": "code",
   "execution_count": 15,
   "id": "e66bb78d",
   "metadata": {
    "scrolled": true
   },
   "outputs": [],
   "source": [
    "#df = pd.DataFrame()\n",
    "#df.loc['1']"
   ]
  },
  {
   "cell_type": "markdown",
   "id": "1664dfd8",
   "metadata": {},
   "source": [
    "# Smaller Sample Size"
   ]
  },
  {
   "cell_type": "code",
   "execution_count": 16,
   "id": "e674f0c3",
   "metadata": {
    "scrolled": true
   },
   "outputs": [
    {
     "data": {
      "text/html": [
       "<div>\n",
       "<style scoped>\n",
       "    .dataframe tbody tr th:only-of-type {\n",
       "        vertical-align: middle;\n",
       "    }\n",
       "\n",
       "    .dataframe tbody tr th {\n",
       "        vertical-align: top;\n",
       "    }\n",
       "\n",
       "    .dataframe thead th {\n",
       "        text-align: right;\n",
       "    }\n",
       "</style>\n",
       "<table border=\"1\" class=\"dataframe\">\n",
       "  <thead>\n",
       "    <tr style=\"text-align: right;\">\n",
       "      <th></th>\n",
       "      <th>PassengerId</th>\n",
       "      <th>Survived</th>\n",
       "      <th>Pclass</th>\n",
       "      <th>Name</th>\n",
       "      <th>Sex</th>\n",
       "      <th>Age</th>\n",
       "      <th>SibSp</th>\n",
       "      <th>Parch</th>\n",
       "      <th>Ticket</th>\n",
       "      <th>Fare</th>\n",
       "      <th>Cabin</th>\n",
       "      <th>Embarked</th>\n",
       "      <th>Age Filled</th>\n",
       "    </tr>\n",
       "  </thead>\n",
       "  <tbody>\n",
       "    <tr>\n",
       "      <th>399</th>\n",
       "      <td>400</td>\n",
       "      <td>1</td>\n",
       "      <td>2</td>\n",
       "      <td>Trout, Mrs. William H (Jessie L)</td>\n",
       "      <td>female</td>\n",
       "      <td>28.0</td>\n",
       "      <td>0</td>\n",
       "      <td>0</td>\n",
       "      <td>240929</td>\n",
       "      <td>12.6500</td>\n",
       "      <td>NaN</td>\n",
       "      <td>S</td>\n",
       "      <td>28.0</td>\n",
       "    </tr>\n",
       "    <tr>\n",
       "      <th>793</th>\n",
       "      <td>794</td>\n",
       "      <td>0</td>\n",
       "      <td>1</td>\n",
       "      <td>Hoyt, Mr. William Fisher</td>\n",
       "      <td>male</td>\n",
       "      <td>NaN</td>\n",
       "      <td>0</td>\n",
       "      <td>0</td>\n",
       "      <td>PC 17600</td>\n",
       "      <td>30.6958</td>\n",
       "      <td>NaN</td>\n",
       "      <td>C</td>\n",
       "      <td>28.0</td>\n",
       "    </tr>\n",
       "    <tr>\n",
       "      <th>598</th>\n",
       "      <td>599</td>\n",
       "      <td>0</td>\n",
       "      <td>3</td>\n",
       "      <td>Boulos, Mr. Hanna</td>\n",
       "      <td>male</td>\n",
       "      <td>NaN</td>\n",
       "      <td>0</td>\n",
       "      <td>0</td>\n",
       "      <td>2664</td>\n",
       "      <td>7.2250</td>\n",
       "      <td>NaN</td>\n",
       "      <td>C</td>\n",
       "      <td>28.0</td>\n",
       "    </tr>\n",
       "    <tr>\n",
       "      <th>319</th>\n",
       "      <td>320</td>\n",
       "      <td>1</td>\n",
       "      <td>1</td>\n",
       "      <td>Spedden, Mrs. Frederic Oakley (Margaretta Corn...</td>\n",
       "      <td>female</td>\n",
       "      <td>40.0</td>\n",
       "      <td>1</td>\n",
       "      <td>1</td>\n",
       "      <td>16966</td>\n",
       "      <td>134.5000</td>\n",
       "      <td>E34</td>\n",
       "      <td>C</td>\n",
       "      <td>40.0</td>\n",
       "    </tr>\n",
       "    <tr>\n",
       "      <th>567</th>\n",
       "      <td>568</td>\n",
       "      <td>0</td>\n",
       "      <td>3</td>\n",
       "      <td>Palsson, Mrs. Nils (Alma Cornelia Berglund)</td>\n",
       "      <td>female</td>\n",
       "      <td>29.0</td>\n",
       "      <td>0</td>\n",
       "      <td>4</td>\n",
       "      <td>349909</td>\n",
       "      <td>21.0750</td>\n",
       "      <td>NaN</td>\n",
       "      <td>S</td>\n",
       "      <td>29.0</td>\n",
       "    </tr>\n",
       "    <tr>\n",
       "      <th>420</th>\n",
       "      <td>421</td>\n",
       "      <td>0</td>\n",
       "      <td>3</td>\n",
       "      <td>Gheorgheff, Mr. Stanio</td>\n",
       "      <td>male</td>\n",
       "      <td>NaN</td>\n",
       "      <td>0</td>\n",
       "      <td>0</td>\n",
       "      <td>349254</td>\n",
       "      <td>7.8958</td>\n",
       "      <td>NaN</td>\n",
       "      <td>C</td>\n",
       "      <td>28.0</td>\n",
       "    </tr>\n",
       "    <tr>\n",
       "      <th>446</th>\n",
       "      <td>447</td>\n",
       "      <td>1</td>\n",
       "      <td>2</td>\n",
       "      <td>Mellinger, Miss. Madeleine Violet</td>\n",
       "      <td>female</td>\n",
       "      <td>13.0</td>\n",
       "      <td>0</td>\n",
       "      <td>1</td>\n",
       "      <td>250644</td>\n",
       "      <td>19.5000</td>\n",
       "      <td>NaN</td>\n",
       "      <td>S</td>\n",
       "      <td>13.0</td>\n",
       "    </tr>\n",
       "    <tr>\n",
       "      <th>342</th>\n",
       "      <td>343</td>\n",
       "      <td>0</td>\n",
       "      <td>2</td>\n",
       "      <td>Collander, Mr. Erik Gustaf</td>\n",
       "      <td>male</td>\n",
       "      <td>28.0</td>\n",
       "      <td>0</td>\n",
       "      <td>0</td>\n",
       "      <td>248740</td>\n",
       "      <td>13.0000</td>\n",
       "      <td>NaN</td>\n",
       "      <td>S</td>\n",
       "      <td>28.0</td>\n",
       "    </tr>\n",
       "    <tr>\n",
       "      <th>402</th>\n",
       "      <td>403</td>\n",
       "      <td>0</td>\n",
       "      <td>3</td>\n",
       "      <td>Jussila, Miss. Mari Aina</td>\n",
       "      <td>female</td>\n",
       "      <td>21.0</td>\n",
       "      <td>1</td>\n",
       "      <td>0</td>\n",
       "      <td>4137</td>\n",
       "      <td>9.8250</td>\n",
       "      <td>NaN</td>\n",
       "      <td>S</td>\n",
       "      <td>21.0</td>\n",
       "    </tr>\n",
       "    <tr>\n",
       "      <th>231</th>\n",
       "      <td>232</td>\n",
       "      <td>0</td>\n",
       "      <td>3</td>\n",
       "      <td>Larsson, Mr. Bengt Edvin</td>\n",
       "      <td>male</td>\n",
       "      <td>29.0</td>\n",
       "      <td>0</td>\n",
       "      <td>0</td>\n",
       "      <td>347067</td>\n",
       "      <td>7.7750</td>\n",
       "      <td>NaN</td>\n",
       "      <td>S</td>\n",
       "      <td>29.0</td>\n",
       "    </tr>\n",
       "  </tbody>\n",
       "</table>\n",
       "</div>"
      ],
      "text/plain": [
       "     PassengerId  Survived  Pclass  \\\n",
       "399          400         1       2   \n",
       "793          794         0       1   \n",
       "598          599         0       3   \n",
       "319          320         1       1   \n",
       "567          568         0       3   \n",
       "420          421         0       3   \n",
       "446          447         1       2   \n",
       "342          343         0       2   \n",
       "402          403         0       3   \n",
       "231          232         0       3   \n",
       "\n",
       "                                                  Name     Sex   Age  SibSp  \\\n",
       "399                   Trout, Mrs. William H (Jessie L)  female  28.0      0   \n",
       "793                           Hoyt, Mr. William Fisher    male   NaN      0   \n",
       "598                                  Boulos, Mr. Hanna    male   NaN      0   \n",
       "319  Spedden, Mrs. Frederic Oakley (Margaretta Corn...  female  40.0      1   \n",
       "567        Palsson, Mrs. Nils (Alma Cornelia Berglund)  female  29.0      0   \n",
       "420                             Gheorgheff, Mr. Stanio    male   NaN      0   \n",
       "446                  Mellinger, Miss. Madeleine Violet  female  13.0      0   \n",
       "342                         Collander, Mr. Erik Gustaf    male  28.0      0   \n",
       "402                           Jussila, Miss. Mari Aina  female  21.0      1   \n",
       "231                           Larsson, Mr. Bengt Edvin    male  29.0      0   \n",
       "\n",
       "     Parch    Ticket      Fare Cabin Embarked  Age Filled  \n",
       "399      0    240929   12.6500   NaN        S        28.0  \n",
       "793      0  PC 17600   30.6958   NaN        C        28.0  \n",
       "598      0      2664    7.2250   NaN        C        28.0  \n",
       "319      1     16966  134.5000   E34        C        40.0  \n",
       "567      4    349909   21.0750   NaN        S        29.0  \n",
       "420      0    349254    7.8958   NaN        C        28.0  \n",
       "446      1    250644   19.5000   NaN        S        13.0  \n",
       "342      0    248740   13.0000   NaN        S        28.0  \n",
       "402      0      4137    9.8250   NaN        S        21.0  \n",
       "231      0    347067    7.7750   NaN        S        29.0  "
      ]
     },
     "execution_count": 16,
     "metadata": {},
     "output_type": "execute_result"
    }
   ],
   "source": [
    "titanic_df.sample(10)"
   ]
  },
  {
   "cell_type": "markdown",
   "id": "244bc319",
   "metadata": {},
   "source": [
    "# Check for null values\n",
    "\n"
   ]
  },
  {
   "cell_type": "code",
   "execution_count": 17,
   "id": "9d66fd2b",
   "metadata": {
    "scrolled": true
   },
   "outputs": [
    {
     "data": {
      "text/plain": [
       "PassengerId      0\n",
       "Survived         0\n",
       "Pclass           0\n",
       "Name             0\n",
       "Sex              0\n",
       "Age            177\n",
       "SibSp            0\n",
       "Parch            0\n",
       "Ticket           0\n",
       "Fare             0\n",
       "Cabin          687\n",
       "Embarked         2\n",
       "Age Filled       0\n",
       "dtype: int64"
      ]
     },
     "execution_count": 17,
     "metadata": {},
     "output_type": "execute_result"
    }
   ],
   "source": [
    "titanic_df.isna().sum()"
   ]
  },
  {
   "cell_type": "code",
   "execution_count": 18,
   "id": "4bcc50c7",
   "metadata": {
    "scrolled": false
   },
   "outputs": [],
   "source": [
    "first_t = titanic_df[[\"Survived\", \"Pclass\"]]\n",
    "middle_t = titanic_df[[\"Parch\",\"Cabin\"]]\n",
    "end_t = titanic_df[[\"Name\", \"Age\"]]\n"
   ]
  },
  {
   "cell_type": "code",
   "execution_count": 19,
   "id": "0902bfa0",
   "metadata": {
    "scrolled": true
   },
   "outputs": [
    {
     "data": {
      "text/html": [
       "<div>\n",
       "<style scoped>\n",
       "    .dataframe tbody tr th:only-of-type {\n",
       "        vertical-align: middle;\n",
       "    }\n",
       "\n",
       "    .dataframe tbody tr th {\n",
       "        vertical-align: top;\n",
       "    }\n",
       "\n",
       "    .dataframe thead th {\n",
       "        text-align: right;\n",
       "    }\n",
       "</style>\n",
       "<table border=\"1\" class=\"dataframe\">\n",
       "  <thead>\n",
       "    <tr style=\"text-align: right;\">\n",
       "      <th></th>\n",
       "      <th>Name</th>\n",
       "      <th>Age</th>\n",
       "    </tr>\n",
       "  </thead>\n",
       "  <tbody>\n",
       "    <tr>\n",
       "      <th>0</th>\n",
       "      <td>Braund, Mr. Owen Harris</td>\n",
       "      <td>22.0</td>\n",
       "    </tr>\n",
       "    <tr>\n",
       "      <th>1</th>\n",
       "      <td>Cumings, Mrs. John Bradley (Florence Briggs Th...</td>\n",
       "      <td>38.0</td>\n",
       "    </tr>\n",
       "    <tr>\n",
       "      <th>2</th>\n",
       "      <td>Heikkinen, Miss. Laina</td>\n",
       "      <td>26.0</td>\n",
       "    </tr>\n",
       "    <tr>\n",
       "      <th>3</th>\n",
       "      <td>Futrelle, Mrs. Jacques Heath (Lily May Peel)</td>\n",
       "      <td>35.0</td>\n",
       "    </tr>\n",
       "    <tr>\n",
       "      <th>4</th>\n",
       "      <td>Allen, Mr. William Henry</td>\n",
       "      <td>35.0</td>\n",
       "    </tr>\n",
       "    <tr>\n",
       "      <th>...</th>\n",
       "      <td>...</td>\n",
       "      <td>...</td>\n",
       "    </tr>\n",
       "    <tr>\n",
       "      <th>886</th>\n",
       "      <td>Montvila, Rev. Juozas</td>\n",
       "      <td>27.0</td>\n",
       "    </tr>\n",
       "    <tr>\n",
       "      <th>887</th>\n",
       "      <td>Graham, Miss. Margaret Edith</td>\n",
       "      <td>19.0</td>\n",
       "    </tr>\n",
       "    <tr>\n",
       "      <th>888</th>\n",
       "      <td>Johnston, Miss. Catherine Helen \"Carrie\"</td>\n",
       "      <td>NaN</td>\n",
       "    </tr>\n",
       "    <tr>\n",
       "      <th>889</th>\n",
       "      <td>Behr, Mr. Karl Howell</td>\n",
       "      <td>26.0</td>\n",
       "    </tr>\n",
       "    <tr>\n",
       "      <th>890</th>\n",
       "      <td>Dooley, Mr. Patrick</td>\n",
       "      <td>32.0</td>\n",
       "    </tr>\n",
       "  </tbody>\n",
       "</table>\n",
       "<p>891 rows × 2 columns</p>\n",
       "</div>"
      ],
      "text/plain": [
       "                                                  Name   Age\n",
       "0                              Braund, Mr. Owen Harris  22.0\n",
       "1    Cumings, Mrs. John Bradley (Florence Briggs Th...  38.0\n",
       "2                               Heikkinen, Miss. Laina  26.0\n",
       "3         Futrelle, Mrs. Jacques Heath (Lily May Peel)  35.0\n",
       "4                             Allen, Mr. William Henry  35.0\n",
       "..                                                 ...   ...\n",
       "886                              Montvila, Rev. Juozas  27.0\n",
       "887                       Graham, Miss. Margaret Edith  19.0\n",
       "888           Johnston, Miss. Catherine Helen \"Carrie\"   NaN\n",
       "889                              Behr, Mr. Karl Howell  26.0\n",
       "890                                Dooley, Mr. Patrick  32.0\n",
       "\n",
       "[891 rows x 2 columns]"
      ]
     },
     "execution_count": 19,
     "metadata": {},
     "output_type": "execute_result"
    }
   ],
   "source": [
    "end_t"
   ]
  },
  {
   "cell_type": "markdown",
   "id": "b0b7e888",
   "metadata": {},
   "source": [
    "# Joining columns in a custom dataframe"
   ]
  },
  {
   "cell_type": "code",
   "execution_count": 20,
   "id": "80d21725",
   "metadata": {
    "scrolled": true
   },
   "outputs": [
    {
     "data": {
      "text/html": [
       "<div>\n",
       "<style scoped>\n",
       "    .dataframe tbody tr th:only-of-type {\n",
       "        vertical-align: middle;\n",
       "    }\n",
       "\n",
       "    .dataframe tbody tr th {\n",
       "        vertical-align: top;\n",
       "    }\n",
       "\n",
       "    .dataframe thead th {\n",
       "        text-align: right;\n",
       "    }\n",
       "</style>\n",
       "<table border=\"1\" class=\"dataframe\">\n",
       "  <thead>\n",
       "    <tr style=\"text-align: right;\">\n",
       "      <th></th>\n",
       "      <th>Survived</th>\n",
       "      <th>Pclass</th>\n",
       "      <th>Name</th>\n",
       "      <th>Age</th>\n",
       "    </tr>\n",
       "  </thead>\n",
       "  <tbody>\n",
       "    <tr>\n",
       "      <th>0</th>\n",
       "      <td>0.0</td>\n",
       "      <td>3.0</td>\n",
       "      <td>NaN</td>\n",
       "      <td>NaN</td>\n",
       "    </tr>\n",
       "    <tr>\n",
       "      <th>1</th>\n",
       "      <td>1.0</td>\n",
       "      <td>1.0</td>\n",
       "      <td>NaN</td>\n",
       "      <td>NaN</td>\n",
       "    </tr>\n",
       "    <tr>\n",
       "      <th>2</th>\n",
       "      <td>1.0</td>\n",
       "      <td>3.0</td>\n",
       "      <td>NaN</td>\n",
       "      <td>NaN</td>\n",
       "    </tr>\n",
       "    <tr>\n",
       "      <th>3</th>\n",
       "      <td>1.0</td>\n",
       "      <td>1.0</td>\n",
       "      <td>NaN</td>\n",
       "      <td>NaN</td>\n",
       "    </tr>\n",
       "    <tr>\n",
       "      <th>4</th>\n",
       "      <td>0.0</td>\n",
       "      <td>3.0</td>\n",
       "      <td>NaN</td>\n",
       "      <td>NaN</td>\n",
       "    </tr>\n",
       "    <tr>\n",
       "      <th>...</th>\n",
       "      <td>...</td>\n",
       "      <td>...</td>\n",
       "      <td>...</td>\n",
       "      <td>...</td>\n",
       "    </tr>\n",
       "    <tr>\n",
       "      <th>886</th>\n",
       "      <td>NaN</td>\n",
       "      <td>NaN</td>\n",
       "      <td>Montvila, Rev. Juozas</td>\n",
       "      <td>27.0</td>\n",
       "    </tr>\n",
       "    <tr>\n",
       "      <th>887</th>\n",
       "      <td>NaN</td>\n",
       "      <td>NaN</td>\n",
       "      <td>Graham, Miss. Margaret Edith</td>\n",
       "      <td>19.0</td>\n",
       "    </tr>\n",
       "    <tr>\n",
       "      <th>888</th>\n",
       "      <td>NaN</td>\n",
       "      <td>NaN</td>\n",
       "      <td>Johnston, Miss. Catherine Helen \"Carrie\"</td>\n",
       "      <td>NaN</td>\n",
       "    </tr>\n",
       "    <tr>\n",
       "      <th>889</th>\n",
       "      <td>NaN</td>\n",
       "      <td>NaN</td>\n",
       "      <td>Behr, Mr. Karl Howell</td>\n",
       "      <td>26.0</td>\n",
       "    </tr>\n",
       "    <tr>\n",
       "      <th>890</th>\n",
       "      <td>NaN</td>\n",
       "      <td>NaN</td>\n",
       "      <td>Dooley, Mr. Patrick</td>\n",
       "      <td>32.0</td>\n",
       "    </tr>\n",
       "  </tbody>\n",
       "</table>\n",
       "<p>1782 rows × 4 columns</p>\n",
       "</div>"
      ],
      "text/plain": [
       "     Survived  Pclass                                      Name   Age\n",
       "0         0.0     3.0                                       NaN   NaN\n",
       "1         1.0     1.0                                       NaN   NaN\n",
       "2         1.0     3.0                                       NaN   NaN\n",
       "3         1.0     1.0                                       NaN   NaN\n",
       "4         0.0     3.0                                       NaN   NaN\n",
       "..        ...     ...                                       ...   ...\n",
       "886       NaN     NaN                     Montvila, Rev. Juozas  27.0\n",
       "887       NaN     NaN              Graham, Miss. Margaret Edith  19.0\n",
       "888       NaN     NaN  Johnston, Miss. Catherine Helen \"Carrie\"   NaN\n",
       "889       NaN     NaN                     Behr, Mr. Karl Howell  26.0\n",
       "890       NaN     NaN                       Dooley, Mr. Patrick  32.0\n",
       "\n",
       "[1782 rows x 4 columns]"
      ]
     },
     "execution_count": 20,
     "metadata": {},
     "output_type": "execute_result"
    }
   ],
   "source": [
    "pd.concat([first_t, end_t], axis=0)"
   ]
  },
  {
   "cell_type": "markdown",
   "id": "1bee0eff",
   "metadata": {},
   "source": [
    "# Exploratory Data Analysis\n"
   ]
  },
  {
   "cell_type": "code",
   "execution_count": 21,
   "id": "d27ca43d",
   "metadata": {
    "scrolled": true
   },
   "outputs": [
    {
     "data": {
      "text/plain": [
       "<AxesSubplot:ylabel='Frequency'>"
      ]
     },
     "execution_count": 21,
     "metadata": {},
     "output_type": "execute_result"
    },
    {
     "data": {
      "image/png": "[encoded data removed]",
      "text/plain": [
       "<Figure size 432x288 with 1 Axes>"
      ]
     },
     "metadata": {
      "needs_background": "light"
     },
     "output_type": "display_data"
    }
   ],
   "source": [
    "titanic_df[\"Age\"].plot(kind = 'hist')"
   ]
  },
  {
   "cell_type": "markdown",
   "id": "bcdc0ab4",
   "metadata": {},
   "source": [
    "# Plotting the count of each gender which survived"
   ]
  },
  {
   "cell_type": "code",
   "execution_count": 85,
   "id": "6043222a",
   "metadata": {
    "scrolled": false
   },
   "outputs": [
    {
     "data": {
      "text/plain": [
       "<AxesSubplot:xlabel='Sex'>"
      ]
     },
     "execution_count": 85,
     "metadata": {},
     "output_type": "execute_result"
    },
    {
     "data": {
      "image/png": "[encoded data removed]",
      "text/plain": [
       "<Figure size 432x288 with 1 Axes>"
      ]
     },
     "metadata": {
      "needs_background": "light"
     },
     "output_type": "display_data"
    }
   ],
   "source": [
    "df = titanic_df[[\"Survived\", \"Sex\"]]\n",
    "#df\n",
    "\n",
    "#malec = 0\n",
    "#femalec = 0\n",
    "#for i in df:\n",
    "#    print(df['Sex'])\n",
    "\n",
    "#    if(survived == 1 and sex == \"male\"):\n",
    "#        malec +=1\n",
    "#    if(survived == 1 and sex == \"female\"):\n",
    "#        femalec +=1\n",
    "        \n",
    "#print(femalec)\n",
    "\n",
    "titanic_df.plot.bar(x = 'Sex', y = 'Survived', rot=0)"
   ]
  },
  {
   "cell_type": "code",
   "execution_count": null,
   "id": "89387075",
   "metadata": {},
   "outputs": [],
   "source": []
  }
 ],
 "metadata": {
  "kernelspec": {
   "display_name": "Python 3 (ipykernel)",
   "language": "python",
   "name": "python3"
  },
  "language_info": {
   "codemirror_mode": {
    "name": "ipython",
    "version": 3
   },
   "file_extension": ".py",
   "mimetype": "text/x-python",
   "name": "python",
   "nbconvert_exporter": "python",
   "pygments_lexer": "ipython3",
   "version": "3.9.12"
  }
 },
 "nbformat": 4,
 "nbformat_minor": 5
}
